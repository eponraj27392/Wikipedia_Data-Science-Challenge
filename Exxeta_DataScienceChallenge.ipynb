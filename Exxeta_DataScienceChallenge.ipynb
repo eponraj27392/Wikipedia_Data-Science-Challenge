{
  "nbformat": 4,
  "nbformat_minor": 0,
  "metadata": {
    "colab": {
      "name": "exxetta.ipynb",
      "provenance": [],
      "collapsed_sections": []
    },
    "kernelspec": {
      "name": "python3",
      "display_name": "Python 3"
    },
    "language_info": {
      "name": "python"
    }
  },
  "cells": [
    {
      "cell_type": "markdown",
      "metadata": {
        "id": "oQJPrBs2Ngao"
      },
      "source": [
        "# **Wikipedia Trends Data Exploration Notebook**\n",
        "\n",
        "---\n",
        "\n"
      ]
    },
    {
      "cell_type": "markdown",
      "metadata": {
        "id": "U4WI6OxWSDaf"
      },
      "source": [
        "# [Contents](#0)\n",
        "\n",
        "\n",
        "1.   [Import required Libraries & Load the dataset using pandas](#1)\n",
        "2.   [Preprocessing_module](#2)\n",
        "3.   [Information about the dataset](#3)\n",
        "4.   [(Q) Does page Language really matters in Wiki Edits and Unique users for each language ? ](#4)\n",
        "5.   [Which language contributes the most in edits per minute qty along with their **distribution** ? (Top 5)](#5)\n",
        "\n",
        "6.   [(Q) Edits per minute for **all languages** present in the dataset (Global data) ? ](#6)\n",
        "\n",
        "7.   [(Q) Edits per minute for **German language** present in the dataset ? ](#7)\n",
        "\n",
        "8.   [(Q) Unique Users per minutes for **German language** present in the dataset](#8)\n",
        "\n",
        "9.   [(Q) Rolling Avg. of length of edit in German Wikipedia (length_old- length_new) ? ](#9)\n",
        "\n",
        "\n",
        "10.   [(Q) Rolling Avg. of comments length in German Wikipedia (comments length) ? ](#10)\n",
        "\n",
        "11.   [Top 5 German URL's edited multiple times during the given time frame ? ](#11)\n",
        "\n",
        "12.   [Common Wikipedia title between languages and its quantity\n",
        "](#12)\n",
        "\n",
        "13.   [Top 10 title for Top 10 Langauges](#13)\n",
        "\n",
        "\n",
        "\n",
        "\n",
        "\n"
      ]
    },
    {
      "cell_type": "markdown",
      "metadata": {
        "id": "aGRq_NZ7SGLx"
      },
      "source": [
        "<a name=\"1\"></a>\n",
        "**1. Import req Libraries & Load the dataset using pandas**"
      ]
    },
    {
      "cell_type": "code",
      "metadata": {
        "colab": {
          "base_uri": "https://localhost:8080/",
          "height": 51
        },
        "id": "qPz5M4qn-duN",
        "cellView": "code",
        "outputId": "410da90c-8691-44e8-c61b-81dd29061940"
      },
      "source": [
        "#@title Default title text\n",
        "from google.colab import drive\n",
        "drive.mount('/content/drive')\n",
        "\n",
        "FILE_PATH      = '/content/drive/My Drive/exxetta'\n",
        "FILE_NAME = '20210121_181328_recentchange_part1.parquet'\n",
        "FILE_NAME_COUNTRY = 'Book1.xlsx'\n",
        "\n",
        "\n",
        "import numpy as np\n",
        "import pandas as pd\n",
        "import matplotlib.pyplot as plt\n",
        "import pyarrow.parquet as pq\n",
        "import seaborn as sns\n",
        "import re\n",
        "from datetime import datetime\n",
        "\n",
        "import warnings\n",
        "warnings.filterwarnings(\"ignore\", category=FutureWarning)\n",
        "\n",
        "# Standard plotly imports\n",
        "import plotly.offline as py\n",
        "import plotly.graph_objs as go\n",
        "from plotly.offline import iplot, init_notebook_mode\n",
        "import plotly.figure_factory as ff\n",
        "import plotly.express as px\n",
        "from plotly.subplots import make_subplots\n",
        "from plotly import tools\n",
        "from collections import Counter\n",
        "import cufflinks\n",
        "cufflinks.go_offline(connected=True)\n",
        "init_notebook_mode(connected=True)\n",
        "import plotly.io as pio\n",
        "pio.renderers.default = \"colab\"\n",
        "\n",
        "# !pip install hvplot\n",
        "# !pip install git+https://github.com/ioam/holoviews.git\n",
        "# !pip install git+https://github.com/bokeh/datashader.git\n",
        "# pip install streamz\n",
        "\n",
        "\n",
        "\n",
        "df = pd.read_parquet(FILE_PATH + '/' + FILE_NAME, engine='pyarrow').reset_index(drop= True)\n",
        "print('Shape:', df.shape)\n",
        "fixed_cols = df.columns.tolist()\n"
      ],
      "execution_count": 1,
      "outputs": [
        {
          "output_type": "stream",
          "text": [
            "Mounted at /content/drive\n"
          ],
          "name": "stdout"
        },
        {
          "output_type": "display_data",
          "data": {
            "text/html": [
              "        <script type=\"text/javascript\">\n",
              "        window.PlotlyConfig = {MathJaxConfig: 'local'};\n",
              "        if (window.MathJax) {MathJax.Hub.Config({SVG: {font: \"STIX-Web\"}});}\n",
              "        if (typeof require !== 'undefined') {\n",
              "        require.undef(\"plotly\");\n",
              "        requirejs.config({\n",
              "            paths: {\n",
              "                'plotly': ['https://cdn.plot.ly/plotly-latest.min']\n",
              "            }\n",
              "        });\n",
              "        require(['plotly'], function(Plotly) {\n",
              "            window._Plotly = Plotly;\n",
              "        });\n",
              "        }\n",
              "        </script>\n",
              "        "
            ]
          },
          "metadata": {
            "tags": []
          }
        },
        {
          "output_type": "display_data",
          "data": {
            "text/html": [
              "        <script type=\"text/javascript\">\n",
              "        window.PlotlyConfig = {MathJaxConfig: 'local'};\n",
              "        if (window.MathJax) {MathJax.Hub.Config({SVG: {font: \"STIX-Web\"}});}\n",
              "        if (typeof require !== 'undefined') {\n",
              "        require.undef(\"plotly\");\n",
              "        requirejs.config({\n",
              "            paths: {\n",
              "                'plotly': ['https://cdn.plot.ly/plotly-latest.min']\n",
              "            }\n",
              "        });\n",
              "        require(['plotly'], function(Plotly) {\n",
              "            window._Plotly = Plotly;\n",
              "        });\n",
              "        }\n",
              "        </script>\n",
              "        "
            ]
          },
          "metadata": {
            "tags": []
          }
        },
        {
          "output_type": "stream",
          "text": [
            "Shape: (73565, 29)\n"
          ],
          "name": "stdout"
        }
      ]
    },
    {
      "cell_type": "markdown",
      "metadata": {
        "id": "JEJwa5VBPl2A"
      },
      "source": [
        "\n",
        "\n",
        "---\n",
        "\n"
      ]
    },
    {
      "cell_type": "markdown",
      "metadata": {
        "id": "NZnzWPwwPRGx"
      },
      "source": [
        "<a name=\"2\"></a>\n",
        "**2. Preprocessing Module**"
      ]
    },
    {
      "cell_type": "code",
      "metadata": {
        "colab": {
          "base_uri": "https://localhost:8080/"
        },
        "id": "zi0zl33ou3N2",
        "outputId": "6d643262-aeed-4b99-d0e9-ebabc5207844"
      },
      "source": [
        "class Preprocessing_mod:\n",
        "  def __init__(self, df, df_country):\n",
        "    self.df         = df\n",
        "    self.df_country = df_country \n",
        "\n",
        "  def Datetime_preprocess(self, df):\n",
        "    df['meta_dt']                    = pd.to_datetime(df['meta_dt'])\n",
        "    df[['hour', 'minute', 'second']] = pd.DataFrame([(i.hour, i.minute, i.second) for i in df['meta_dt']])\n",
        "    df['hour_minute']                = df['meta_dt'].apply(lambda x: str(x.hour) + '_' +  '0' + str(x.minute) if len(str(x.minute)) <= 1 else str(x.hour) + '_' + str(x.minute))\n",
        "    df['utc_converted']              = df['timestamp'].apply(lambda x : datetime.utcfromtimestamp(x).strftime('%Y-%m-%d %H:%M:%S'))\n",
        "    print('DataFrame start Date_Time = ', df['meta_dt'].min())\n",
        "    print('DataFrame End Date_Time = ', df['meta_dt'].max())\n",
        "    return df\n",
        "\n",
        "  def Language_preprocess(self, df):\n",
        "    df['language'] = df['wiki'].apply(lambda x : x.split('wiki')[0])\n",
        "    df['language'] = df['language'].apply(lambda x : 'wikidata' if len(x) ==0 else x)\n",
        "    df.loc[df[df.language == 'dewiktionary'].index.values, 'language'] = 'de'\n",
        "    return df\n",
        "\n",
        "  def LengthDiff_preprocess(self, df):\n",
        "    df['length_diff']   = abs(df['length_old'] - df['length_new'])\n",
        "    df['revision_diff'] = abs(df['revision_old']  - df['revision_new'])\n",
        "    return df\n",
        "\n",
        "  def LengthComments_preprocess(self, df):\n",
        "    df['length_comment'] = df['comment'].apply(lambda x : len(x))\n",
        "    return df  \n",
        "\n",
        "  def preprocess_country(self, df , df_country):\n",
        "    df ['country'] = -1\n",
        "    for i, df_subset in df.iterrows():\n",
        "      try:\n",
        "        df.loc[i, 'country'] = df_country[df_country.Code == df_subset.language]['Country'].values[0].strip()\n",
        "      except:\n",
        "        df.loc[i, 'country'] = 'NaN'\n",
        "    return df \n",
        "\n",
        "  def main_func(self):\n",
        "    df = self.Datetime_preprocess(self.df)\n",
        "    df = self.Language_preprocess(df)\n",
        "    df = self.LengthDiff_preprocess(df)\n",
        "    df = self.LengthComments_preprocess(df)\n",
        "\n",
        "    return df\n",
        "\n",
        "df_country = None\n",
        "call_cls  = Preprocessing_mod(df, df_country)\n",
        "df        = call_cls.main_func()\n",
        "df_german = df[df.language == 'de'].reset_index(drop= True)\n"
      ],
      "execution_count": 2,
      "outputs": [
        {
          "output_type": "stream",
          "text": [
            "DataFrame start Date_Time =  2021-01-21 17:11:15+00:00\n",
            "DataFrame End Date_Time =  2021-01-21 18:13:24+00:00\n"
          ],
          "name": "stdout"
        }
      ]
    },
    {
      "cell_type": "markdown",
      "metadata": {
        "id": "nysf79-XPncO"
      },
      "source": [
        "\n",
        "\n",
        "---\n",
        "\n"
      ]
    },
    {
      "cell_type": "markdown",
      "metadata": {
        "id": "u23YNqKhPbfX"
      },
      "source": [
        "<a name=\"3\"></a>\n",
        "**3. Basic Information about the dataset**\n",
        "\n"
      ]
    },
    {
      "cell_type": "code",
      "metadata": {
        "colab": {
          "base_uri": "https://localhost:8080/",
          "height": 1000
        },
        "cellView": "form",
        "id": "W9dDB1fpQaHk",
        "outputId": "9539bb8f-83e0-4154-ed0b-c84b0e277e66"
      },
      "source": [
        "#@title Run the cell\n",
        "print('============================')\n",
        "print('1. Shape of DF : \\n', df.shape)\n",
        "print('============================')\n",
        "\n",
        "print()\n",
        "print('============================')\n",
        "print('2. Check for null Values :\\n', dict(df.isnull().sum()[df.isnull().sum() != 0]))\n",
        "print('============================')\n",
        "\n",
        "\n",
        "print()\n",
        "print('============================')\n",
        "print(f'3. Dataset_Time Frame starting from : {df.meta_dt.min()} ended at {df.meta_dt.max()}')\n",
        "print('We almost have 1 hour of Wikipedia Streaming data')\n",
        "print('============================')\n",
        "\n",
        "\n",
        "print()\n",
        "print('============================')\n",
        "print('4. Information about the dataset : \\n', )\n",
        "print(df.info())\n",
        "print('============================')\n"
      ],
      "execution_count": null,
      "outputs": [
        {
          "output_type": "stream",
          "text": [
            "============================\n",
            "1. Shape of DF : \n",
            " (73565, 38)\n",
            "============================\n",
            "\n",
            "============================\n",
            "2. Check for null Values :\n",
            " {'patrolled': 22068}\n",
            "============================\n",
            "\n",
            "============================\n",
            "3. Dataset_Time Frame starting from : 2021-01-21 17:11:15+00:00 ended at 2021-01-21 18:13:24+00:00\n",
            "We almost have 1 hour of Wikipedia Streaming data\n",
            "============================\n",
            "\n",
            "============================\n",
            "4. Information about the dataset : \n",
            "\n",
            "<class 'pandas.core.frame.DataFrame'>\n",
            "RangeIndex: 73565 entries, 0 to 73564\n",
            "Data columns (total 38 columns):\n",
            " #   Column              Non-Null Count  Dtype              \n",
            "---  ------              --------------  -----              \n",
            " 0   $schema             73565 non-null  object             \n",
            " 1   id                  73565 non-null  int64              \n",
            " 2   type                73565 non-null  object             \n",
            " 3   namespace           73565 non-null  int64              \n",
            " 4   title               73565 non-null  object             \n",
            " 5   comment             73565 non-null  object             \n",
            " 6   timestamp           73565 non-null  int64              \n",
            " 7   user                73565 non-null  object             \n",
            " 8   bot                 73565 non-null  bool               \n",
            " 9   minor               73565 non-null  bool               \n",
            " 10  patrolled           51497 non-null  object             \n",
            " 11  server_url          73565 non-null  object             \n",
            " 12  server_name         73565 non-null  object             \n",
            " 13  server_script_path  73565 non-null  object             \n",
            " 14  wiki                73565 non-null  object             \n",
            " 15  parsedcomment       73565 non-null  object             \n",
            " 16  meta_domain         73565 non-null  object             \n",
            " 17  meta_uri            73565 non-null  object             \n",
            " 18  meta_request_id     73565 non-null  object             \n",
            " 19  meta_stream         73565 non-null  object             \n",
            " 20  meta_topic          73565 non-null  object             \n",
            " 21  meta_dt             73565 non-null  datetime64[ns, UTC]\n",
            " 22  meta_partition      73565 non-null  int64              \n",
            " 23  meta_offset         73565 non-null  int64              \n",
            " 24  meta_id             73565 non-null  object             \n",
            " 25  length_old          73565 non-null  int64              \n",
            " 26  length_new          73565 non-null  int64              \n",
            " 27  revision_old        73565 non-null  int64              \n",
            " 28  revision_new        73565 non-null  int64              \n",
            " 29  hour                73565 non-null  int64              \n",
            " 30  minute              73565 non-null  int64              \n",
            " 31  second              73565 non-null  int64              \n",
            " 32  hour_minute         73565 non-null  object             \n",
            " 33  utc_converted       73565 non-null  object             \n",
            " 34  language            73565 non-null  object             \n",
            " 35  length_diff         73565 non-null  int64              \n",
            " 36  revision_diff       73565 non-null  int64              \n",
            " 37  length_comment      73565 non-null  int64              \n",
            "dtypes: bool(2), datetime64[ns, UTC](1), int64(15), object(20)\n",
            "memory usage: 20.3+ MB\n",
            "None\n",
            "============================\n",
            "\n",
            "============================\n",
            "5. Information about the dataset : \n",
            "\n"
          ],
          "name": "stdout"
        },
        {
          "output_type": "execute_result",
          "data": {
            "text/html": [
              "<div>\n",
              "<style scoped>\n",
              "    .dataframe tbody tr th:only-of-type {\n",
              "        vertical-align: middle;\n",
              "    }\n",
              "\n",
              "    .dataframe tbody tr th {\n",
              "        vertical-align: top;\n",
              "    }\n",
              "\n",
              "    .dataframe thead th {\n",
              "        text-align: right;\n",
              "    }\n",
              "</style>\n",
              "<table border=\"1\" class=\"dataframe\">\n",
              "  <thead>\n",
              "    <tr style=\"text-align: right;\">\n",
              "      <th></th>\n",
              "      <th>$schema</th>\n",
              "      <th>id</th>\n",
              "      <th>type</th>\n",
              "      <th>namespace</th>\n",
              "      <th>title</th>\n",
              "      <th>comment</th>\n",
              "      <th>timestamp</th>\n",
              "      <th>user</th>\n",
              "      <th>bot</th>\n",
              "      <th>minor</th>\n",
              "      <th>patrolled</th>\n",
              "      <th>server_url</th>\n",
              "      <th>server_name</th>\n",
              "      <th>server_script_path</th>\n",
              "      <th>wiki</th>\n",
              "      <th>parsedcomment</th>\n",
              "      <th>meta_domain</th>\n",
              "      <th>meta_uri</th>\n",
              "      <th>meta_request_id</th>\n",
              "      <th>meta_stream</th>\n",
              "      <th>meta_topic</th>\n",
              "      <th>meta_dt</th>\n",
              "      <th>meta_partition</th>\n",
              "      <th>meta_offset</th>\n",
              "      <th>meta_id</th>\n",
              "      <th>length_old</th>\n",
              "      <th>length_new</th>\n",
              "      <th>revision_old</th>\n",
              "      <th>revision_new</th>\n",
              "      <th>hour</th>\n",
              "      <th>minute</th>\n",
              "      <th>second</th>\n",
              "      <th>hour_minute</th>\n",
              "      <th>utc_converted</th>\n",
              "      <th>language</th>\n",
              "      <th>length_diff</th>\n",
              "      <th>revision_diff</th>\n",
              "      <th>length_comment</th>\n",
              "    </tr>\n",
              "  </thead>\n",
              "  <tbody>\n",
              "    <tr>\n",
              "      <th>0</th>\n",
              "      <td>/mediawiki/recentchange/1.0.0</td>\n",
              "      <td>1389063095</td>\n",
              "      <td>edit</td>\n",
              "      <td>0</td>\n",
              "      <td>Q104971167</td>\n",
              "      <td>/* wbeditentity-update-languages-short:0||nl *...</td>\n",
              "      <td>1611249080</td>\n",
              "      <td>Edoderoobot</td>\n",
              "      <td>True</td>\n",
              "      <td>False</td>\n",
              "      <td>True</td>\n",
              "      <td>https://www.wikidata.org</td>\n",
              "      <td>www.wikidata.org</td>\n",
              "      <td>/w</td>\n",
              "      <td>wikidatawiki</td>\n",
              "      <td>‎&lt;span dir=\"auto\"&gt;&lt;span class=\"autocomment\"&gt;Ch...</td>\n",
              "      <td>www.wikidata.org</td>\n",
              "      <td>https://www.wikidata.org/wiki/Q104971167</td>\n",
              "      <td>YAm1uApAIIEAACcb76EAAAAA</td>\n",
              "      <td>mediawiki.recentchange</td>\n",
              "      <td>eqiad.mediawiki.recentchange</td>\n",
              "      <td>2021-01-21 17:11:20+00:00</td>\n",
              "      <td>0</td>\n",
              "      <td>2887301727</td>\n",
              "      <td>a62392d6-25d3-405c-9d6c-54956eb60a52</td>\n",
              "      <td>3781</td>\n",
              "      <td>3860</td>\n",
              "      <td>1345581201</td>\n",
              "      <td>1345601868</td>\n",
              "      <td>17</td>\n",
              "      <td>11</td>\n",
              "      <td>20</td>\n",
              "      <td>17_11</td>\n",
              "      <td>2021-01-21 17:11:20</td>\n",
              "      <td>wikidata</td>\n",
              "      <td>79</td>\n",
              "      <td>20667</td>\n",
              "      <td>141</td>\n",
              "    </tr>\n",
              "    <tr>\n",
              "      <th>1</th>\n",
              "      <td>/mediawiki/recentchange/1.0.0</td>\n",
              "      <td>116494285</td>\n",
              "      <td>edit</td>\n",
              "      <td>0</td>\n",
              "      <td>Acanthastrea erythraea</td>\n",
              "      <td>[[Wikipedia:Geen samenvatting|Verwijst door]] ...</td>\n",
              "      <td>1611249078</td>\n",
              "      <td>Kvdrgeus</td>\n",
              "      <td>False</td>\n",
              "      <td>False</td>\n",
              "      <td>False</td>\n",
              "      <td>https://nl.wikipedia.org</td>\n",
              "      <td>nl.wikipedia.org</td>\n",
              "      <td>/w</td>\n",
              "      <td>nlwiki</td>\n",
              "      <td>&lt;a href=\"/wiki/Wikipedia:Geen_samenvatting\" ti...</td>\n",
              "      <td>nl.wikipedia.org</td>\n",
              "      <td>https://nl.wikipedia.org/wiki/Acanthastrea_ery...</td>\n",
              "      <td>YAm1tgpAIHwABCtglGIAAADR</td>\n",
              "      <td>mediawiki.recentchange</td>\n",
              "      <td>eqiad.mediawiki.recentchange</td>\n",
              "      <td>2021-01-21 17:11:18+00:00</td>\n",
              "      <td>0</td>\n",
              "      <td>2887301728</td>\n",
              "      <td>f6acf301-d987-4d7b-85fe-d2c3cb486ffb</td>\n",
              "      <td>866</td>\n",
              "      <td>65</td>\n",
              "      <td>48016794</td>\n",
              "      <td>58091518</td>\n",
              "      <td>17</td>\n",
              "      <td>11</td>\n",
              "      <td>18</td>\n",
              "      <td>17_11</td>\n",
              "      <td>2021-01-21 17:11:18</td>\n",
              "      <td>nl</td>\n",
              "      <td>801</td>\n",
              "      <td>10074724</td>\n",
              "      <td>76</td>\n",
              "    </tr>\n",
              "    <tr>\n",
              "      <th>2</th>\n",
              "      <td>/mediawiki/recentchange/1.0.0</td>\n",
              "      <td>119689610</td>\n",
              "      <td>edit</td>\n",
              "      <td>0</td>\n",
              "      <td>神楽シリーズ</td>\n",
              "      <td>/* シリーズ作品 */</td>\n",
              "      <td>1611249080</td>\n",
              "      <td>Zaco9876</td>\n",
              "      <td>False</td>\n",
              "      <td>True</td>\n",
              "      <td>None</td>\n",
              "      <td>https://ja.wikipedia.org</td>\n",
              "      <td>ja.wikipedia.org</td>\n",
              "      <td>/w</td>\n",
              "      <td>jawiki</td>\n",
              "      <td>&lt;span dir=\"auto\"&gt;&lt;span class=\"autocomment\"&gt;&lt;a ...</td>\n",
              "      <td>ja.wikipedia.org</td>\n",
              "      <td>https://ja.wikipedia.org/wiki/%E7%A5%9E%E6%A5%...</td>\n",
              "      <td>YAm1uApAMNwAALESd1YAAAEO</td>\n",
              "      <td>mediawiki.recentchange</td>\n",
              "      <td>eqiad.mediawiki.recentchange</td>\n",
              "      <td>2021-01-21 17:11:20+00:00</td>\n",
              "      <td>0</td>\n",
              "      <td>2887301732</td>\n",
              "      <td>6f36af6f-f84b-421c-bd5d-ebc2eef54f0f</td>\n",
              "      <td>22851</td>\n",
              "      <td>22855</td>\n",
              "      <td>81442784</td>\n",
              "      <td>81442790</td>\n",
              "      <td>17</td>\n",
              "      <td>11</td>\n",
              "      <td>20</td>\n",
              "      <td>17_11</td>\n",
              "      <td>2021-01-21 17:11:20</td>\n",
              "      <td>ja</td>\n",
              "      <td>4</td>\n",
              "      <td>6</td>\n",
              "      <td>12</td>\n",
              "    </tr>\n",
              "  </tbody>\n",
              "</table>\n",
              "</div>"
            ],
            "text/plain": [
              "                         $schema          id  ... revision_diff  length_comment\n",
              "0  /mediawiki/recentchange/1.0.0  1389063095  ...         20667             141\n",
              "1  /mediawiki/recentchange/1.0.0   116494285  ...      10074724              76\n",
              "2  /mediawiki/recentchange/1.0.0   119689610  ...             6              12\n",
              "\n",
              "[3 rows x 38 columns]"
            ]
          },
          "metadata": {
            "tags": []
          },
          "execution_count": 74
        }
      ]
    },
    {
      "cell_type": "markdown",
      "metadata": {
        "id": "kGaZcjknQaqA"
      },
      "source": [
        "\n",
        "\n",
        "---\n",
        "\n"
      ]
    },
    {
      "cell_type": "markdown",
      "metadata": {
        "id": "ObeadSteQbzP"
      },
      "source": [
        "<a name=\"4\"></a>\n",
        "**4. Does page Language really matters in Wiki Edits and Unique users for each language ?**"
      ]
    },
    {
      "cell_type": "code",
      "metadata": {
        "colab": {
          "base_uri": "https://localhost:8080/",
          "height": 444
        },
        "id": "Hz9uJag40mMr",
        "cellView": "form",
        "outputId": "12eed136-bfa7-415e-baab-c8de57f37074"
      },
      "source": [
        "#@title Run the Cell\n",
        "lang_count = dict(Counter(df.language))\n",
        "top_n = int(input('Input top N contributing languages: \\n'))\n",
        "print()\n",
        "print('Top 10 contributing languages with unique users : \\n') \n",
        "lang_count_tuple = sorted(lang_count.items(), key=lambda x : x[1], reverse=True)[:top_n]\n",
        "lang_count_tuple = [lang_count_tuple[idx] + (df[df.language == tup[0]]['user'].nunique(),) for idx, tup in enumerate(lang_count_tuple)]\n",
        "pd.DataFrame(lang_count_tuple, columns= ['Language', 'Edits', 'Unique_users'])\n"
      ],
      "execution_count": null,
      "outputs": [
        {
          "output_type": "stream",
          "text": [
            "Input top N contributing languages: \n",
            "10\n",
            "\n",
            "Top 10 contributing languages with unique users : \n",
            "\n"
          ],
          "name": "stdout"
        },
        {
          "output_type": "execute_result",
          "data": {
            "text/html": [
              "<div>\n",
              "<style scoped>\n",
              "    .dataframe tbody tr th:only-of-type {\n",
              "        vertical-align: middle;\n",
              "    }\n",
              "\n",
              "    .dataframe tbody tr th {\n",
              "        vertical-align: top;\n",
              "    }\n",
              "\n",
              "    .dataframe thead th {\n",
              "        text-align: right;\n",
              "    }\n",
              "</style>\n",
              "<table border=\"1\" class=\"dataframe\">\n",
              "  <thead>\n",
              "    <tr style=\"text-align: right;\">\n",
              "      <th></th>\n",
              "      <th>Language</th>\n",
              "      <th>Edits</th>\n",
              "      <th>Unique_users</th>\n",
              "    </tr>\n",
              "  </thead>\n",
              "  <tbody>\n",
              "    <tr>\n",
              "      <th>0</th>\n",
              "      <td>wikidata</td>\n",
              "      <td>31299</td>\n",
              "      <td>651</td>\n",
              "    </tr>\n",
              "    <tr>\n",
              "      <th>1</th>\n",
              "      <td>commons</td>\n",
              "      <td>11726</td>\n",
              "      <td>449</td>\n",
              "    </tr>\n",
              "    <tr>\n",
              "      <th>2</th>\n",
              "      <td>en</td>\n",
              "      <td>9550</td>\n",
              "      <td>2623</td>\n",
              "    </tr>\n",
              "    <tr>\n",
              "      <th>3</th>\n",
              "      <td>fr</td>\n",
              "      <td>2100</td>\n",
              "      <td>590</td>\n",
              "    </tr>\n",
              "    <tr>\n",
              "      <th>4</th>\n",
              "      <td>de</td>\n",
              "      <td>1767</td>\n",
              "      <td>617</td>\n",
              "    </tr>\n",
              "    <tr>\n",
              "      <th>5</th>\n",
              "      <td>it</td>\n",
              "      <td>1281</td>\n",
              "      <td>390</td>\n",
              "    </tr>\n",
              "    <tr>\n",
              "      <th>6</th>\n",
              "      <td>es</td>\n",
              "      <td>1265</td>\n",
              "      <td>450</td>\n",
              "    </tr>\n",
              "    <tr>\n",
              "      <th>7</th>\n",
              "      <td>ru</td>\n",
              "      <td>1232</td>\n",
              "      <td>377</td>\n",
              "    </tr>\n",
              "    <tr>\n",
              "      <th>8</th>\n",
              "      <td>ur</td>\n",
              "      <td>1183</td>\n",
              "      <td>5</td>\n",
              "    </tr>\n",
              "    <tr>\n",
              "      <th>9</th>\n",
              "      <td>arz</td>\n",
              "      <td>785</td>\n",
              "      <td>4</td>\n",
              "    </tr>\n",
              "  </tbody>\n",
              "</table>\n",
              "</div>"
            ],
            "text/plain": [
              "   Language  Edits  Unique_users\n",
              "0  wikidata  31299           651\n",
              "1   commons  11726           449\n",
              "2        en   9550          2623\n",
              "3        fr   2100           590\n",
              "4        de   1767           617\n",
              "5        it   1281           390\n",
              "6        es   1265           450\n",
              "7        ru   1232           377\n",
              "8        ur   1183             5\n",
              "9       arz    785             4"
            ]
          },
          "metadata": {
            "tags": []
          },
          "execution_count": 5
        }
      ]
    },
    {
      "cell_type": "markdown",
      "metadata": {
        "id": "OTWb5BHNEWyR"
      },
      "source": [
        "<a name=\"5\"></a>\n",
        "**5. Which language contributes the most in edits per minute qty along with their distribution ? (Top 5) ?** \n",
        "1. English tops the list where edits per minute between 100 - 200\n",
        "2. The remaining languages (French, German, Italy, Spanish) edits per minute less than 50"
      ]
    },
    {
      "cell_type": "code",
      "metadata": {
        "colab": {
          "base_uri": "https://localhost:8080/",
          "height": 1000
        },
        "id": "sEjxn8ZeBXhm",
        "cellView": "form",
        "outputId": "206051b2-5f85-4f87-a762-c5ab05b74c69"
      },
      "source": [
        "#@title Run the cell\n",
        "# \n",
        "lang_sets = {}\n",
        "lang_sets_en = df[df.language =='en']['hour_minute'].value_counts().sort_index()\n",
        "lang_sets_fr = df[df.language =='fr']['hour_minute'].value_counts().sort_index()\n",
        "lang_sets_de = df[df.language =='de']['hour_minute'].value_counts().sort_index()\n",
        "lang_sets_it = df[df.language =='it']['hour_minute'].value_counts().sort_index()\n",
        "lang_sets_es = df[df.language =='es']['hour_minute'].value_counts().sort_index()\n",
        "\n",
        "\n",
        "fig = go.Figure()\n",
        "fig.add_trace(go.Scatter(x=lang_sets_en.index, y=lang_sets_en.values,   mode='lines+markers+text', line= dict(width = 2, dash = 'dot'), marker=dict(color= 'red', size= 7), name = 'English', showlegend=True ))\n",
        "fig.add_trace(go.Scatter(x=lang_sets_fr.index, y=lang_sets_fr.values,    mode='lines+markers+text', line= dict(width = 2, dash = 'dot'), marker=dict(color= 'green', size= 7), name = 'French',showlegend=True ))\n",
        "fig.add_trace(go.Scatter(x=lang_sets_de.index, y=lang_sets_de.values,    mode='lines+markers+text', line= dict(width = 2, dash = 'dot'), marker=dict(color= 'blue', size= 7), name = 'German',showlegend=True ))\n",
        "fig.add_trace(go.Scatter(x=lang_sets_it.index, y=lang_sets_it.values,    mode='lines+markers+text', line= dict(width = 2, dash = 'dot'), marker=dict(color= 'black', size= 7), name = 'Italy',showlegend=True ))\n",
        "fig.add_trace(go.Scatter(x=lang_sets_es.index, y=lang_sets_es.values,    mode='lines+markers+text', line= dict(width = 2, dash = 'dot'), marker=dict(color= 'brown', size= 7), name = 'Spanish',showlegend=True ))\n",
        "\n",
        "fig.update_xaxes(tickangle = 270, title_font = {\"size\": 10},     title_standoff = 25)\n",
        "fig.update_yaxes(title_font = {\"size\": 10},     title_standoff = 25)\n",
        "fig.update_layout(title='Every minute Top 5 Languges wikipedia page updation (between 17:11 till 18:13) ', xaxis_title='Hour_Minute', yaxis_title='No of Edits', height=600, width=1700)\n",
        "fig.show()\n",
        "\n",
        "print()\n",
        "print()\n",
        "\n",
        "sns.set_theme()\n",
        "plt.figure(figsize = (30,6))\n",
        "tit = {1 : 'English', 2 : 'French', 3 : 'German', 4 :'Italy', 5 : 'Spanish'}\n",
        "color = {1 : 'red', 2 : 'green', 3 : 'blue', 4 :'black', 5 : 'brown'}\n",
        "\n",
        "for i, arr in zip(range(1, 6), [lang_sets_en, lang_sets_fr, lang_sets_de, lang_sets_de, lang_sets_es]):\n",
        "  plt.subplot(1,5, i)\n",
        "  sns.distplot(arr.values, hist= False, norm_hist= True, kde_kws=dict(linewidth=1.5, shade= True), color = color[i])\n",
        "  plt.axvline(x= round(arr.values.mean()), color = 'black', ls = '--')\n",
        "  plt.xticks(fontsize = 12)\n",
        "  plt.yticks(fontsize = 12)\n",
        "  plt.xlabel('edits per minute' , fontdict={'fontsize' : 12})\n",
        "  plt.ylabel('pdf', fontdict={'fontsize' : 12})\n",
        "  plt.title(tit[i] + ' distribution')\n",
        "plt.show()"
      ],
      "execution_count": null,
      "outputs": [
        {
          "output_type": "display_data",
          "data": {
            "text/html": [
              "<html>\n",
              "<head><meta charset=\"utf-8\" /></head>\n",
              "<body>\n",
              "    <div>\n",
              "            <script src=\"https://cdnjs.cloudflare.com/ajax/libs/mathjax/2.7.5/MathJax.js?config=TeX-AMS-MML_SVG\"></script><script type=\"text/javascript\">if (window.MathJax) {MathJax.Hub.Config({SVG: {font: \"STIX-Web\"}});}</script>\n",
              "                <script type=\"text/javascript\">window.PlotlyConfig = {MathJaxConfig: 'local'};</script>\n",
              "        <script src=\"https://cdn.plot.ly/plotly-latest.min.js\"></script>    \n",
              "            <div id=\"d267ab07-c32f-44d4-bf5e-cd3158032e17\" class=\"plotly-graph-div\" style=\"height:600px; width:1700px;\"></div>\n",
              "            <script type=\"text/javascript\">\n",
              "                \n",
              "                    window.PLOTLYENV=window.PLOTLYENV || {};\n",
              "                    \n",
              "                if (document.getElementById(\"d267ab07-c32f-44d4-bf5e-cd3158032e17\")) {\n",
              "                    Plotly.newPlot(\n",
              "                        'd267ab07-c32f-44d4-bf5e-cd3158032e17',\n",
              "                        [{\"line\": {\"dash\": \"dot\", \"width\": 2}, \"marker\": {\"color\": \"red\", \"size\": 7}, \"mode\": \"lines+markers+text\", \"name\": \"English\", \"showlegend\": true, \"type\": \"scatter\", \"x\": [\"17_11\", \"17_12\", \"17_13\", \"17_14\", \"17_15\", \"17_16\", \"17_17\", \"17_18\", \"17_19\", \"17_20\", \"17_21\", \"17_22\", \"17_23\", \"17_24\", \"17_25\", \"17_26\", \"17_27\", \"17_28\", \"17_29\", \"17_30\", \"17_31\", \"17_32\", \"17_33\", \"17_34\", \"17_35\", \"17_36\", \"17_37\", \"17_38\", \"17_39\", \"17_40\", \"17_41\", \"17_42\", \"17_43\", \"17_44\", \"17_45\", \"17_46\", \"17_47\", \"17_48\", \"17_49\", \"17_50\", \"17_51\", \"17_52\", \"17_53\", \"17_54\", \"17_55\", \"17_56\", \"17_57\", \"17_58\", \"17_59\", \"18_00\", \"18_01\", \"18_02\", \"18_03\", \"18_04\", \"18_05\", \"18_06\", \"18_07\", \"18_08\", \"18_09\", \"18_10\", \"18_11\", \"18_12\", \"18_13\"], \"y\": [97, 131, 133, 140, 149, 127, 143, 112, 155, 124, 147, 143, 143, 138, 143, 129, 124, 148, 129, 156, 121, 152, 142, 155, 137, 132, 176, 142, 178, 152, 165, 162, 173, 174, 163, 161, 156, 161, 156, 161, 156, 161, 161, 151, 146, 142, 147, 138, 156, 191, 174, 186, 147, 198, 189, 174, 171, 171, 165, 170, 175, 192, 59]}, {\"line\": {\"dash\": \"dot\", \"width\": 2}, \"marker\": {\"color\": \"green\", \"size\": 7}, \"mode\": \"lines+markers+text\", \"name\": \"French\", \"showlegend\": true, \"type\": \"scatter\", \"x\": [\"17_11\", \"17_12\", \"17_13\", \"17_14\", \"17_15\", \"17_16\", \"17_17\", \"17_18\", \"17_19\", \"17_20\", \"17_21\", \"17_22\", \"17_23\", \"17_24\", \"17_25\", \"17_26\", \"17_27\", \"17_28\", \"17_29\", \"17_30\", \"17_31\", \"17_32\", \"17_33\", \"17_34\", \"17_35\", \"17_36\", \"17_37\", \"17_38\", \"17_39\", \"17_40\", \"17_41\", \"17_42\", \"17_43\", \"17_44\", \"17_45\", \"17_46\", \"17_47\", \"17_48\", \"17_49\", \"17_50\", \"17_51\", \"17_52\", \"17_53\", \"17_54\", \"17_55\", \"17_56\", \"17_57\", \"17_58\", \"17_59\", \"18_00\", \"18_01\", \"18_02\", \"18_03\", \"18_04\", \"18_05\", \"18_06\", \"18_07\", \"18_08\", \"18_09\", \"18_10\", \"18_11\", \"18_12\", \"18_13\"], \"y\": [18, 29, 22, 21, 39, 23, 26, 30, 29, 44, 44, 35, 34, 44, 41, 38, 50, 43, 36, 35, 31, 54, 31, 37, 45, 36, 29, 34, 39, 30, 32, 37, 34, 25, 41, 22, 33, 27, 29, 25, 36, 29, 29, 32, 24, 33, 35, 36, 30, 38, 35, 46, 30, 35, 33, 30, 33, 25, 46, 35, 30, 38, 10]}, {\"line\": {\"dash\": \"dot\", \"width\": 2}, \"marker\": {\"color\": \"blue\", \"size\": 7}, \"mode\": \"lines+markers+text\", \"name\": \"German\", \"showlegend\": true, \"type\": \"scatter\", \"x\": [\"17_11\", \"17_12\", \"17_13\", \"17_14\", \"17_15\", \"17_16\", \"17_17\", \"17_18\", \"17_19\", \"17_20\", \"17_21\", \"17_22\", \"17_23\", \"17_24\", \"17_25\", \"17_26\", \"17_27\", \"17_28\", \"17_29\", \"17_30\", \"17_31\", \"17_32\", \"17_33\", \"17_34\", \"17_35\", \"17_36\", \"17_37\", \"17_38\", \"17_39\", \"17_40\", \"17_41\", \"17_42\", \"17_43\", \"17_44\", \"17_45\", \"17_46\", \"17_47\", \"17_48\", \"17_49\", \"17_50\", \"17_51\", \"17_52\", \"17_53\", \"17_54\", \"17_55\", \"17_56\", \"17_57\", \"17_58\", \"17_59\", \"18_00\", \"18_01\", \"18_02\", \"18_03\", \"18_04\", \"18_05\", \"18_06\", \"18_07\", \"18_08\", \"18_09\", \"18_10\", \"18_11\", \"18_12\", \"18_13\"], \"y\": [10, 33, 30, 31, 27, 20, 35, 24, 24, 33, 29, 32, 35, 33, 27, 19, 31, 32, 34, 35, 30, 30, 31, 31, 33, 31, 25, 28, 34, 31, 26, 23, 15, 18, 19, 18, 43, 25, 33, 26, 27, 25, 35, 33, 30, 34, 34, 33, 30, 37, 24, 30, 16, 32, 32, 24, 28, 23, 32, 23, 22, 28, 11]}, {\"line\": {\"dash\": \"dot\", \"width\": 2}, \"marker\": {\"color\": \"black\", \"size\": 7}, \"mode\": \"lines+markers+text\", \"name\": \"Italy\", \"showlegend\": true, \"type\": \"scatter\", \"x\": [\"17_11\", \"17_12\", \"17_13\", \"17_14\", \"17_15\", \"17_16\", \"17_17\", \"17_18\", \"17_19\", \"17_20\", \"17_21\", \"17_22\", \"17_23\", \"17_24\", \"17_25\", \"17_26\", \"17_27\", \"17_28\", \"17_29\", \"17_30\", \"17_31\", \"17_32\", \"17_33\", \"17_34\", \"17_35\", \"17_36\", \"17_37\", \"17_38\", \"17_39\", \"17_40\", \"17_41\", \"17_42\", \"17_43\", \"17_44\", \"17_45\", \"17_46\", \"17_47\", \"17_48\", \"17_49\", \"17_50\", \"17_51\", \"17_52\", \"17_53\", \"17_54\", \"17_55\", \"17_56\", \"17_57\", \"17_58\", \"17_59\", \"18_00\", \"18_01\", \"18_02\", \"18_03\", \"18_04\", \"18_05\", \"18_06\", \"18_07\", \"18_08\", \"18_09\", \"18_10\", \"18_11\", \"18_12\", \"18_13\"], \"y\": [18, 19, 26, 25, 23, 29, 17, 20, 19, 20, 29, 22, 17, 26, 28, 23, 24, 17, 16, 24, 20, 27, 21, 31, 19, 27, 16, 20, 17, 31, 25, 24, 22, 27, 24, 22, 25, 41, 25, 23, 18, 13, 18, 8, 22, 24, 15, 13, 17, 14, 14, 17, 4, 15, 13, 21, 16, 17, 17, 19, 18, 12, 7]}, {\"line\": {\"dash\": \"dot\", \"width\": 2}, \"marker\": {\"color\": \"brown\", \"size\": 7}, \"mode\": \"lines+markers+text\", \"name\": \"Spanish\", \"showlegend\": true, \"type\": \"scatter\", \"x\": [\"17_11\", \"17_12\", \"17_13\", \"17_14\", \"17_15\", \"17_16\", \"17_17\", \"17_18\", \"17_19\", \"17_20\", \"17_21\", \"17_22\", \"17_23\", \"17_24\", \"17_25\", \"17_26\", \"17_27\", \"17_28\", \"17_29\", \"17_30\", \"17_31\", \"17_32\", \"17_33\", \"17_34\", \"17_35\", \"17_36\", \"17_37\", \"17_38\", \"17_39\", \"17_40\", \"17_41\", \"17_42\", \"17_43\", \"17_44\", \"17_45\", \"17_46\", \"17_47\", \"17_48\", \"17_49\", \"17_50\", \"17_51\", \"17_52\", \"17_53\", \"17_54\", \"17_55\", \"17_56\", \"17_57\", \"17_58\", \"17_59\", \"18_00\", \"18_01\", \"18_02\", \"18_03\", \"18_04\", \"18_05\", \"18_06\", \"18_07\", \"18_08\", \"18_09\", \"18_10\", \"18_11\", \"18_12\", \"18_13\"], \"y\": [14, 14, 19, 17, 20, 21, 13, 19, 27, 23, 19, 26, 19, 15, 26, 26, 16, 19, 28, 26, 19, 16, 26, 20, 26, 18, 21, 26, 23, 18, 17, 25, 15, 17, 30, 24, 26, 27, 21, 20, 15, 20, 20, 21, 15, 19, 16, 17, 14, 27, 21, 16, 14, 17, 22, 13, 27, 18, 19, 18, 19, 21, 14]}],\n",
              "                        {\"height\": 600, \"template\": {\"data\": {\"bar\": [{\"error_x\": {\"color\": \"#2a3f5f\"}, \"error_y\": {\"color\": \"#2a3f5f\"}, \"marker\": {\"line\": {\"color\": \"#E5ECF6\", \"width\": 0.5}}, \"type\": \"bar\"}], \"barpolar\": [{\"marker\": {\"line\": {\"color\": \"#E5ECF6\", \"width\": 0.5}}, \"type\": \"barpolar\"}], \"carpet\": [{\"aaxis\": {\"endlinecolor\": \"#2a3f5f\", \"gridcolor\": \"white\", \"linecolor\": \"white\", \"minorgridcolor\": \"white\", \"startlinecolor\": \"#2a3f5f\"}, \"baxis\": {\"endlinecolor\": \"#2a3f5f\", \"gridcolor\": \"white\", \"linecolor\": \"white\", \"minorgridcolor\": \"white\", \"startlinecolor\": \"#2a3f5f\"}, \"type\": \"carpet\"}], \"choropleth\": [{\"colorbar\": {\"outlinewidth\": 0, \"ticks\": \"\"}, \"type\": \"choropleth\"}], \"contour\": [{\"colorbar\": {\"outlinewidth\": 0, \"ticks\": \"\"}, \"colorscale\": [[0.0, \"#0d0887\"], [0.1111111111111111, \"#46039f\"], [0.2222222222222222, \"#7201a8\"], [0.3333333333333333, \"#9c179e\"], [0.4444444444444444, \"#bd3786\"], [0.5555555555555556, \"#d8576b\"], [0.6666666666666666, \"#ed7953\"], [0.7777777777777778, \"#fb9f3a\"], [0.8888888888888888, \"#fdca26\"], [1.0, \"#f0f921\"]], \"type\": \"contour\"}], \"contourcarpet\": [{\"colorbar\": {\"outlinewidth\": 0, \"ticks\": \"\"}, \"type\": \"contourcarpet\"}], \"heatmap\": [{\"colorbar\": {\"outlinewidth\": 0, \"ticks\": \"\"}, \"colorscale\": [[0.0, \"#0d0887\"], [0.1111111111111111, \"#46039f\"], [0.2222222222222222, \"#7201a8\"], [0.3333333333333333, \"#9c179e\"], [0.4444444444444444, \"#bd3786\"], [0.5555555555555556, \"#d8576b\"], [0.6666666666666666, \"#ed7953\"], [0.7777777777777778, \"#fb9f3a\"], [0.8888888888888888, \"#fdca26\"], [1.0, \"#f0f921\"]], \"type\": \"heatmap\"}], \"heatmapgl\": [{\"colorbar\": {\"outlinewidth\": 0, \"ticks\": \"\"}, \"colorscale\": [[0.0, \"#0d0887\"], [0.1111111111111111, \"#46039f\"], [0.2222222222222222, \"#7201a8\"], [0.3333333333333333, \"#9c179e\"], [0.4444444444444444, \"#bd3786\"], [0.5555555555555556, \"#d8576b\"], [0.6666666666666666, \"#ed7953\"], [0.7777777777777778, \"#fb9f3a\"], [0.8888888888888888, \"#fdca26\"], [1.0, \"#f0f921\"]], \"type\": \"heatmapgl\"}], \"histogram\": [{\"marker\": {\"colorbar\": {\"outlinewidth\": 0, \"ticks\": \"\"}}, \"type\": \"histogram\"}], \"histogram2d\": [{\"colorbar\": {\"outlinewidth\": 0, \"ticks\": \"\"}, \"colorscale\": [[0.0, \"#0d0887\"], [0.1111111111111111, \"#46039f\"], [0.2222222222222222, \"#7201a8\"], [0.3333333333333333, \"#9c179e\"], [0.4444444444444444, \"#bd3786\"], [0.5555555555555556, \"#d8576b\"], [0.6666666666666666, \"#ed7953\"], [0.7777777777777778, \"#fb9f3a\"], [0.8888888888888888, \"#fdca26\"], [1.0, \"#f0f921\"]], \"type\": \"histogram2d\"}], \"histogram2dcontour\": [{\"colorbar\": {\"outlinewidth\": 0, \"ticks\": \"\"}, \"colorscale\": [[0.0, \"#0d0887\"], [0.1111111111111111, \"#46039f\"], [0.2222222222222222, \"#7201a8\"], [0.3333333333333333, \"#9c179e\"], [0.4444444444444444, \"#bd3786\"], [0.5555555555555556, \"#d8576b\"], [0.6666666666666666, \"#ed7953\"], [0.7777777777777778, \"#fb9f3a\"], [0.8888888888888888, \"#fdca26\"], [1.0, \"#f0f921\"]], \"type\": \"histogram2dcontour\"}], \"mesh3d\": [{\"colorbar\": {\"outlinewidth\": 0, \"ticks\": \"\"}, \"type\": \"mesh3d\"}], \"parcoords\": [{\"line\": {\"colorbar\": {\"outlinewidth\": 0, \"ticks\": \"\"}}, \"type\": \"parcoords\"}], \"pie\": [{\"automargin\": true, \"type\": \"pie\"}], \"scatter\": [{\"marker\": {\"colorbar\": {\"outlinewidth\": 0, \"ticks\": \"\"}}, \"type\": \"scatter\"}], \"scatter3d\": [{\"line\": {\"colorbar\": {\"outlinewidth\": 0, \"ticks\": \"\"}}, \"marker\": {\"colorbar\": {\"outlinewidth\": 0, \"ticks\": \"\"}}, \"type\": \"scatter3d\"}], \"scattercarpet\": [{\"marker\": {\"colorbar\": {\"outlinewidth\": 0, \"ticks\": \"\"}}, \"type\": \"scattercarpet\"}], \"scattergeo\": [{\"marker\": {\"colorbar\": {\"outlinewidth\": 0, \"ticks\": \"\"}}, \"type\": \"scattergeo\"}], \"scattergl\": [{\"marker\": {\"colorbar\": {\"outlinewidth\": 0, \"ticks\": \"\"}}, \"type\": \"scattergl\"}], \"scattermapbox\": [{\"marker\": {\"colorbar\": {\"outlinewidth\": 0, \"ticks\": \"\"}}, \"type\": \"scattermapbox\"}], \"scatterpolar\": [{\"marker\": {\"colorbar\": {\"outlinewidth\": 0, \"ticks\": \"\"}}, \"type\": \"scatterpolar\"}], \"scatterpolargl\": [{\"marker\": {\"colorbar\": {\"outlinewidth\": 0, \"ticks\": \"\"}}, \"type\": \"scatterpolargl\"}], \"scatterternary\": [{\"marker\": {\"colorbar\": {\"outlinewidth\": 0, \"ticks\": \"\"}}, \"type\": \"scatterternary\"}], \"surface\": [{\"colorbar\": {\"outlinewidth\": 0, \"ticks\": \"\"}, \"colorscale\": [[0.0, \"#0d0887\"], [0.1111111111111111, \"#46039f\"], [0.2222222222222222, \"#7201a8\"], [0.3333333333333333, \"#9c179e\"], [0.4444444444444444, \"#bd3786\"], [0.5555555555555556, \"#d8576b\"], [0.6666666666666666, \"#ed7953\"], [0.7777777777777778, \"#fb9f3a\"], [0.8888888888888888, \"#fdca26\"], [1.0, \"#f0f921\"]], \"type\": \"surface\"}], \"table\": [{\"cells\": {\"fill\": {\"color\": \"#EBF0F8\"}, \"line\": {\"color\": \"white\"}}, \"header\": {\"fill\": {\"color\": \"#C8D4E3\"}, \"line\": {\"color\": \"white\"}}, \"type\": \"table\"}]}, \"layout\": {\"annotationdefaults\": {\"arrowcolor\": \"#2a3f5f\", \"arrowhead\": 0, \"arrowwidth\": 1}, \"coloraxis\": {\"colorbar\": {\"outlinewidth\": 0, \"ticks\": \"\"}}, \"colorscale\": {\"diverging\": [[0, \"#8e0152\"], [0.1, \"#c51b7d\"], [0.2, \"#de77ae\"], [0.3, \"#f1b6da\"], [0.4, \"#fde0ef\"], [0.5, \"#f7f7f7\"], [0.6, \"#e6f5d0\"], [0.7, \"#b8e186\"], [0.8, \"#7fbc41\"], [0.9, \"#4d9221\"], [1, \"#276419\"]], \"sequential\": [[0.0, \"#0d0887\"], [0.1111111111111111, \"#46039f\"], [0.2222222222222222, \"#7201a8\"], [0.3333333333333333, \"#9c179e\"], [0.4444444444444444, \"#bd3786\"], [0.5555555555555556, \"#d8576b\"], [0.6666666666666666, \"#ed7953\"], [0.7777777777777778, \"#fb9f3a\"], [0.8888888888888888, \"#fdca26\"], [1.0, \"#f0f921\"]], \"sequentialminus\": [[0.0, \"#0d0887\"], [0.1111111111111111, \"#46039f\"], [0.2222222222222222, \"#7201a8\"], [0.3333333333333333, \"#9c179e\"], [0.4444444444444444, \"#bd3786\"], [0.5555555555555556, \"#d8576b\"], [0.6666666666666666, \"#ed7953\"], [0.7777777777777778, \"#fb9f3a\"], [0.8888888888888888, \"#fdca26\"], [1.0, \"#f0f921\"]]}, \"colorway\": [\"#636efa\", \"#EF553B\", \"#00cc96\", \"#ab63fa\", \"#FFA15A\", \"#19d3f3\", \"#FF6692\", \"#B6E880\", \"#FF97FF\", \"#FECB52\"], \"font\": {\"color\": \"#2a3f5f\"}, \"geo\": {\"bgcolor\": \"white\", \"lakecolor\": \"white\", \"landcolor\": \"#E5ECF6\", \"showlakes\": true, \"showland\": true, \"subunitcolor\": \"white\"}, \"hoverlabel\": {\"align\": \"left\"}, \"hovermode\": \"closest\", \"mapbox\": {\"style\": \"light\"}, \"paper_bgcolor\": \"white\", \"plot_bgcolor\": \"#E5ECF6\", \"polar\": {\"angularaxis\": {\"gridcolor\": \"white\", \"linecolor\": \"white\", \"ticks\": \"\"}, \"bgcolor\": \"#E5ECF6\", \"radialaxis\": {\"gridcolor\": \"white\", \"linecolor\": \"white\", \"ticks\": \"\"}}, \"scene\": {\"xaxis\": {\"backgroundcolor\": \"#E5ECF6\", \"gridcolor\": \"white\", \"gridwidth\": 2, \"linecolor\": \"white\", \"showbackground\": true, \"ticks\": \"\", \"zerolinecolor\": \"white\"}, \"yaxis\": {\"backgroundcolor\": \"#E5ECF6\", \"gridcolor\": \"white\", \"gridwidth\": 2, \"linecolor\": \"white\", \"showbackground\": true, \"ticks\": \"\", \"zerolinecolor\": \"white\"}, \"zaxis\": {\"backgroundcolor\": \"#E5ECF6\", \"gridcolor\": \"white\", \"gridwidth\": 2, \"linecolor\": \"white\", \"showbackground\": true, \"ticks\": \"\", \"zerolinecolor\": \"white\"}}, \"shapedefaults\": {\"line\": {\"color\": \"#2a3f5f\"}}, \"ternary\": {\"aaxis\": {\"gridcolor\": \"white\", \"linecolor\": \"white\", \"ticks\": \"\"}, \"baxis\": {\"gridcolor\": \"white\", \"linecolor\": \"white\", \"ticks\": \"\"}, \"bgcolor\": \"#E5ECF6\", \"caxis\": {\"gridcolor\": \"white\", \"linecolor\": \"white\", \"ticks\": \"\"}}, \"title\": {\"x\": 0.05}, \"xaxis\": {\"automargin\": true, \"gridcolor\": \"white\", \"linecolor\": \"white\", \"ticks\": \"\", \"title\": {\"standoff\": 15}, \"zerolinecolor\": \"white\", \"zerolinewidth\": 2}, \"yaxis\": {\"automargin\": true, \"gridcolor\": \"white\", \"linecolor\": \"white\", \"ticks\": \"\", \"title\": {\"standoff\": 15}, \"zerolinecolor\": \"white\", \"zerolinewidth\": 2}}}, \"title\": {\"text\": \"Every minute Top 5 Languges wikipedia page updation (between 17:11 till 18:13) \"}, \"width\": 1700, \"xaxis\": {\"tickangle\": -90, \"title\": {\"text\": \"Hour_Minute\"}}, \"yaxis\": {\"title\": {\"text\": \"No of Edits\"}}},\n",
              "                        {\"responsive\": true}\n",
              "                    ).then(function(){\n",
              "                            \n",
              "var gd = document.getElementById('d267ab07-c32f-44d4-bf5e-cd3158032e17');\n",
              "var x = new MutationObserver(function (mutations, observer) {{\n",
              "        var display = window.getComputedStyle(gd).display;\n",
              "        if (!display || display === 'none') {{\n",
              "            console.log([gd, 'removed!']);\n",
              "            Plotly.purge(gd);\n",
              "            observer.disconnect();\n",
              "        }}\n",
              "}});\n",
              "\n",
              "// Listen for the removal of the full notebook cells\n",
              "var notebookContainer = gd.closest('#notebook-container');\n",
              "if (notebookContainer) {{\n",
              "    x.observe(notebookContainer, {childList: true});\n",
              "}}\n",
              "\n",
              "// Listen for the clearing of the current output cell\n",
              "var outputEl = gd.closest('.output');\n",
              "if (outputEl) {{\n",
              "    x.observe(outputEl, {childList: true});\n",
              "}}\n",
              "\n",
              "                        })\n",
              "                };\n",
              "                \n",
              "            </script>\n",
              "        </div>\n",
              "</body>\n",
              "</html>"
            ]
          },
          "metadata": {
            "tags": []
          }
        },
        {
          "output_type": "stream",
          "text": [
            "\n",
            "\n"
          ],
          "name": "stdout"
        },
        {
          "output_type": "display_data",
          "data": {
            "image/png": "[encoded data removed]",
            "text/plain": [
              "<Figure size 2160x432 with 5 Axes>"
            ]
          },
          "metadata": {
            "tags": []
          }
        }
      ]
    },
    {
      "cell_type": "markdown",
      "metadata": {
        "id": "LPBWM6qQJWB8"
      },
      "source": [
        "<a name=\"6\"></a>\n",
        "**6.(Q) Edits per minute for all languages present in the dataset (Global data) ?** "
      ]
    },
    {
      "cell_type": "code",
      "metadata": {
        "colab": {
          "base_uri": "https://localhost:8080/",
          "height": 617
        },
        "id": "JW8Xzp8pd2Xq",
        "cellView": "form",
        "outputId": "b03c4551-06d1-4b57-82d6-cf63e8844812"
      },
      "source": [
        "#@title Run the Cell\n",
        "hourminute = df['hour_minute'].value_counts().sort_index()\n",
        "fig = go.Figure()\n",
        "fig.add_trace(go.Scatter(x=hourminute.index, y=hourminute.values,  text = hourminute.values, textposition=\"top right\", textfont=dict(size=9), mode='lines+markers+text', line= dict(width = 2, dash = 'dot'), marker=dict(color= 'red', size= 7), showlegend=False ))\n",
        "fig.update_xaxes(tickangle = 270, title_font = {\"size\": 10},     title_standoff = 25)\n",
        "fig.update_yaxes(title_font = {\"size\": 10},     title_standoff = 25)\n",
        "fig.update_layout(title='Every minute OVERALL wikipedia page updation for one hour (between 17:11 till 18:13) ', xaxis_title='Hour_Minute', yaxis_title='No of Edits', height=600, width=1700)\n",
        "fig.add_shape(type='line',x0= 0, y0= round(hourminute.values.mean()), x1= '18_13', y1= round(hourminute.values.mean()), line=dict(color='black',width = 1.5, dash = 'dashdot'),   xref='x',  yref='y')\n",
        "fig.add_trace(go.Scatter(x=['17_47'], y=[1000], text=[f\"Average Edits per minute = {round(hourminute.values.mean())}\"], mode=\"text\", showlegend= False))\n",
        "fig.show()\n"
      ],
      "execution_count": null,
      "outputs": [
        {
          "output_type": "display_data",
          "data": {
            "text/html": [
              "<html>\n",
              "<head><meta charset=\"utf-8\" /></head>\n",
              "<body>\n",
              "    <div>\n",
              "            <script src=\"https://cdnjs.cloudflare.com/ajax/libs/mathjax/2.7.5/MathJax.js?config=TeX-AMS-MML_SVG\"></script><script type=\"text/javascript\">if (window.MathJax) {MathJax.Hub.Config({SVG: {font: \"STIX-Web\"}});}</script>\n",
              "                <script type=\"text/javascript\">window.PlotlyConfig = {MathJaxConfig: 'local'};</script>\n",
              "        <script src=\"https://cdn.plot.ly/plotly-latest.min.js\"></script>    \n",
              "            <div id=\"d394847e-66c4-4b17-bcde-5d5698362014\" class=\"plotly-graph-div\" style=\"height:600px; width:1700px;\"></div>\n",
              "            <script type=\"text/javascript\">\n",
              "                \n",
              "                    window.PLOTLYENV=window.PLOTLYENV || {};\n",
              "                    \n",
              "                if (document.getElementById(\"d394847e-66c4-4b17-bcde-5d5698362014\")) {\n",
              "                    Plotly.newPlot(\n",
              "                        'd394847e-66c4-4b17-bcde-5d5698362014',\n",
              "                        [{\"line\": {\"dash\": \"dot\", \"width\": 2}, \"marker\": {\"color\": \"red\", \"size\": 7}, \"mode\": \"lines+markers+text\", \"showlegend\": false, \"text\": [735.0, 1183.0, 1090.0, 1152.0, 1167.0, 1083.0, 1050.0, 1110.0, 1150.0, 1086.0, 1186.0, 1099.0, 1114.0, 1122.0, 1242.0, 1256.0, 1179.0, 1187.0, 1107.0, 1197.0, 1118.0, 1217.0, 1102.0, 1185.0, 1217.0, 1149.0, 1134.0, 1125.0, 1179.0, 1144.0, 1135.0, 1171.0, 1262.0, 1118.0, 1233.0, 1214.0, 1163.0, 1184.0, 1172.0, 1168.0, 1239.0, 1186.0, 1197.0, 1239.0, 1241.0, 1285.0, 1194.0, 1174.0, 1142.0, 1203.0, 1238.0, 1238.0, 1127.0, 1256.0, 1195.0, 1272.0, 1251.0, 1221.0, 1289.0, 1220.0, 1218.0, 1185.0, 870.0], \"textfont\": {\"size\": 9}, \"textposition\": \"top right\", \"type\": \"scatter\", \"x\": [\"17_11\", \"17_12\", \"17_13\", \"17_14\", \"17_15\", \"17_16\", \"17_17\", \"17_18\", \"17_19\", \"17_20\", \"17_21\", \"17_22\", \"17_23\", \"17_24\", \"17_25\", \"17_26\", \"17_27\", \"17_28\", \"17_29\", \"17_30\", \"17_31\", \"17_32\", \"17_33\", \"17_34\", \"17_35\", \"17_36\", \"17_37\", \"17_38\", \"17_39\", \"17_40\", \"17_41\", \"17_42\", \"17_43\", \"17_44\", \"17_45\", \"17_46\", \"17_47\", \"17_48\", \"17_49\", \"17_50\", \"17_51\", \"17_52\", \"17_53\", \"17_54\", \"17_55\", \"17_56\", \"17_57\", \"17_58\", \"17_59\", \"18_00\", \"18_01\", \"18_02\", \"18_03\", \"18_04\", \"18_05\", \"18_06\", \"18_07\", \"18_08\", \"18_09\", \"18_10\", \"18_11\", \"18_12\", \"18_13\"], \"y\": [735, 1183, 1090, 1152, 1167, 1083, 1050, 1110, 1150, 1086, 1186, 1099, 1114, 1122, 1242, 1256, 1179, 1187, 1107, 1197, 1118, 1217, 1102, 1185, 1217, 1149, 1134, 1125, 1179, 1144, 1135, 1171, 1262, 1118, 1233, 1214, 1163, 1184, 1172, 1168, 1239, 1186, 1197, 1239, 1241, 1285, 1194, 1174, 1142, 1203, 1238, 1238, 1127, 1256, 1195, 1272, 1251, 1221, 1289, 1220, 1218, 1185, 870]}, {\"mode\": \"text\", \"showlegend\": false, \"text\": [\"Average Edits per minute = 1168\"], \"type\": \"scatter\", \"x\": [\"17_47\"], \"y\": [1000]}],\n",
              "                        {\"height\": 600, \"shapes\": [{\"line\": {\"color\": \"black\", \"dash\": \"dashdot\", \"width\": 1.5}, \"type\": \"line\", \"x0\": 0, \"x1\": \"18_13\", \"xref\": \"x\", \"y0\": 1168, \"y1\": 1168, \"yref\": \"y\"}], \"template\": {\"data\": {\"bar\": [{\"error_x\": {\"color\": \"#2a3f5f\"}, \"error_y\": {\"color\": \"#2a3f5f\"}, \"marker\": {\"line\": {\"color\": \"#E5ECF6\", \"width\": 0.5}}, \"type\": \"bar\"}], \"barpolar\": [{\"marker\": {\"line\": {\"color\": \"#E5ECF6\", \"width\": 0.5}}, \"type\": \"barpolar\"}], \"carpet\": [{\"aaxis\": {\"endlinecolor\": \"#2a3f5f\", \"gridcolor\": \"white\", \"linecolor\": \"white\", \"minorgridcolor\": \"white\", \"startlinecolor\": \"#2a3f5f\"}, \"baxis\": {\"endlinecolor\": \"#2a3f5f\", \"gridcolor\": \"white\", \"linecolor\": \"white\", \"minorgridcolor\": \"white\", \"startlinecolor\": \"#2a3f5f\"}, \"type\": \"carpet\"}], \"choropleth\": [{\"colorbar\": {\"outlinewidth\": 0, \"ticks\": \"\"}, \"type\": \"choropleth\"}], \"contour\": [{\"colorbar\": {\"outlinewidth\": 0, \"ticks\": \"\"}, \"colorscale\": [[0.0, \"#0d0887\"], [0.1111111111111111, \"#46039f\"], [0.2222222222222222, \"#7201a8\"], [0.3333333333333333, \"#9c179e\"], [0.4444444444444444, \"#bd3786\"], [0.5555555555555556, \"#d8576b\"], [0.6666666666666666, \"#ed7953\"], [0.7777777777777778, \"#fb9f3a\"], [0.8888888888888888, \"#fdca26\"], [1.0, \"#f0f921\"]], \"type\": \"contour\"}], \"contourcarpet\": [{\"colorbar\": {\"outlinewidth\": 0, \"ticks\": \"\"}, \"type\": \"contourcarpet\"}], \"heatmap\": [{\"colorbar\": {\"outlinewidth\": 0, \"ticks\": \"\"}, \"colorscale\": [[0.0, \"#0d0887\"], [0.1111111111111111, \"#46039f\"], [0.2222222222222222, \"#7201a8\"], [0.3333333333333333, \"#9c179e\"], [0.4444444444444444, \"#bd3786\"], [0.5555555555555556, \"#d8576b\"], [0.6666666666666666, \"#ed7953\"], [0.7777777777777778, \"#fb9f3a\"], [0.8888888888888888, \"#fdca26\"], [1.0, \"#f0f921\"]], \"type\": \"heatmap\"}], \"heatmapgl\": [{\"colorbar\": {\"outlinewidth\": 0, \"ticks\": \"\"}, \"colorscale\": [[0.0, \"#0d0887\"], [0.1111111111111111, \"#46039f\"], [0.2222222222222222, \"#7201a8\"], [0.3333333333333333, \"#9c179e\"], [0.4444444444444444, \"#bd3786\"], [0.5555555555555556, \"#d8576b\"], [0.6666666666666666, \"#ed7953\"], [0.7777777777777778, \"#fb9f3a\"], [0.8888888888888888, \"#fdca26\"], [1.0, \"#f0f921\"]], \"type\": \"heatmapgl\"}], \"histogram\": [{\"marker\": {\"colorbar\": {\"outlinewidth\": 0, \"ticks\": \"\"}}, \"type\": \"histogram\"}], \"histogram2d\": [{\"colorbar\": {\"outlinewidth\": 0, \"ticks\": \"\"}, \"colorscale\": [[0.0, \"#0d0887\"], [0.1111111111111111, \"#46039f\"], [0.2222222222222222, \"#7201a8\"], [0.3333333333333333, \"#9c179e\"], [0.4444444444444444, \"#bd3786\"], [0.5555555555555556, \"#d8576b\"], [0.6666666666666666, \"#ed7953\"], [0.7777777777777778, \"#fb9f3a\"], [0.8888888888888888, \"#fdca26\"], [1.0, \"#f0f921\"]], \"type\": \"histogram2d\"}], \"histogram2dcontour\": [{\"colorbar\": {\"outlinewidth\": 0, \"ticks\": \"\"}, \"colorscale\": [[0.0, \"#0d0887\"], [0.1111111111111111, \"#46039f\"], [0.2222222222222222, \"#7201a8\"], [0.3333333333333333, \"#9c179e\"], [0.4444444444444444, \"#bd3786\"], [0.5555555555555556, \"#d8576b\"], [0.6666666666666666, \"#ed7953\"], [0.7777777777777778, \"#fb9f3a\"], [0.8888888888888888, \"#fdca26\"], [1.0, \"#f0f921\"]], \"type\": \"histogram2dcontour\"}], \"mesh3d\": [{\"colorbar\": {\"outlinewidth\": 0, \"ticks\": \"\"}, \"type\": \"mesh3d\"}], \"parcoords\": [{\"line\": {\"colorbar\": {\"outlinewidth\": 0, \"ticks\": \"\"}}, \"type\": \"parcoords\"}], \"pie\": [{\"automargin\": true, \"type\": \"pie\"}], \"scatter\": [{\"marker\": {\"colorbar\": {\"outlinewidth\": 0, \"ticks\": \"\"}}, \"type\": \"scatter\"}], \"scatter3d\": [{\"line\": {\"colorbar\": {\"outlinewidth\": 0, \"ticks\": \"\"}}, \"marker\": {\"colorbar\": {\"outlinewidth\": 0, \"ticks\": \"\"}}, \"type\": \"scatter3d\"}], \"scattercarpet\": [{\"marker\": {\"colorbar\": {\"outlinewidth\": 0, \"ticks\": \"\"}}, \"type\": \"scattercarpet\"}], \"scattergeo\": [{\"marker\": {\"colorbar\": {\"outlinewidth\": 0, \"ticks\": \"\"}}, \"type\": \"scattergeo\"}], \"scattergl\": [{\"marker\": {\"colorbar\": {\"outlinewidth\": 0, \"ticks\": \"\"}}, \"type\": \"scattergl\"}], \"scattermapbox\": [{\"marker\": {\"colorbar\": {\"outlinewidth\": 0, \"ticks\": \"\"}}, \"type\": \"scattermapbox\"}], \"scatterpolar\": [{\"marker\": {\"colorbar\": {\"outlinewidth\": 0, \"ticks\": \"\"}}, \"type\": \"scatterpolar\"}], \"scatterpolargl\": [{\"marker\": {\"colorbar\": {\"outlinewidth\": 0, \"ticks\": \"\"}}, \"type\": \"scatterpolargl\"}], \"scatterternary\": [{\"marker\": {\"colorbar\": {\"outlinewidth\": 0, \"ticks\": \"\"}}, \"type\": \"scatterternary\"}], \"surface\": [{\"colorbar\": {\"outlinewidth\": 0, \"ticks\": \"\"}, \"colorscale\": [[0.0, \"#0d0887\"], [0.1111111111111111, \"#46039f\"], [0.2222222222222222, \"#7201a8\"], [0.3333333333333333, \"#9c179e\"], [0.4444444444444444, \"#bd3786\"], [0.5555555555555556, \"#d8576b\"], [0.6666666666666666, \"#ed7953\"], [0.7777777777777778, \"#fb9f3a\"], [0.8888888888888888, \"#fdca26\"], [1.0, \"#f0f921\"]], \"type\": \"surface\"}], \"table\": [{\"cells\": {\"fill\": {\"color\": \"#EBF0F8\"}, \"line\": {\"color\": \"white\"}}, \"header\": {\"fill\": {\"color\": \"#C8D4E3\"}, \"line\": {\"color\": \"white\"}}, \"type\": \"table\"}]}, \"layout\": {\"annotationdefaults\": {\"arrowcolor\": \"#2a3f5f\", \"arrowhead\": 0, \"arrowwidth\": 1}, \"coloraxis\": {\"colorbar\": {\"outlinewidth\": 0, \"ticks\": \"\"}}, \"colorscale\": {\"diverging\": [[0, \"#8e0152\"], [0.1, \"#c51b7d\"], [0.2, \"#de77ae\"], [0.3, \"#f1b6da\"], [0.4, \"#fde0ef\"], [0.5, \"#f7f7f7\"], [0.6, \"#e6f5d0\"], [0.7, \"#b8e186\"], [0.8, \"#7fbc41\"], [0.9, \"#4d9221\"], [1, \"#276419\"]], \"sequential\": [[0.0, \"#0d0887\"], [0.1111111111111111, \"#46039f\"], [0.2222222222222222, \"#7201a8\"], [0.3333333333333333, \"#9c179e\"], [0.4444444444444444, \"#bd3786\"], [0.5555555555555556, \"#d8576b\"], [0.6666666666666666, \"#ed7953\"], [0.7777777777777778, \"#fb9f3a\"], [0.8888888888888888, \"#fdca26\"], [1.0, \"#f0f921\"]], \"sequentialminus\": [[0.0, \"#0d0887\"], [0.1111111111111111, \"#46039f\"], [0.2222222222222222, \"#7201a8\"], [0.3333333333333333, \"#9c179e\"], [0.4444444444444444, \"#bd3786\"], [0.5555555555555556, \"#d8576b\"], [0.6666666666666666, \"#ed7953\"], [0.7777777777777778, \"#fb9f3a\"], [0.8888888888888888, \"#fdca26\"], [1.0, \"#f0f921\"]]}, \"colorway\": [\"#636efa\", \"#EF553B\", \"#00cc96\", \"#ab63fa\", \"#FFA15A\", \"#19d3f3\", \"#FF6692\", \"#B6E880\", \"#FF97FF\", \"#FECB52\"], \"font\": {\"color\": \"#2a3f5f\"}, \"geo\": {\"bgcolor\": \"white\", \"lakecolor\": \"white\", \"landcolor\": \"#E5ECF6\", \"showlakes\": true, \"showland\": true, \"subunitcolor\": \"white\"}, \"hoverlabel\": {\"align\": \"left\"}, \"hovermode\": \"closest\", \"mapbox\": {\"style\": \"light\"}, \"paper_bgcolor\": \"white\", \"plot_bgcolor\": \"#E5ECF6\", \"polar\": {\"angularaxis\": {\"gridcolor\": \"white\", \"linecolor\": \"white\", \"ticks\": \"\"}, \"bgcolor\": \"#E5ECF6\", \"radialaxis\": {\"gridcolor\": \"white\", \"linecolor\": \"white\", \"ticks\": \"\"}}, \"scene\": {\"xaxis\": {\"backgroundcolor\": \"#E5ECF6\", \"gridcolor\": \"white\", \"gridwidth\": 2, \"linecolor\": \"white\", \"showbackground\": true, \"ticks\": \"\", \"zerolinecolor\": \"white\"}, \"yaxis\": {\"backgroundcolor\": \"#E5ECF6\", \"gridcolor\": \"white\", \"gridwidth\": 2, \"linecolor\": \"white\", \"showbackground\": true, \"ticks\": \"\", \"zerolinecolor\": \"white\"}, \"zaxis\": {\"backgroundcolor\": \"#E5ECF6\", \"gridcolor\": \"white\", \"gridwidth\": 2, \"linecolor\": \"white\", \"showbackground\": true, \"ticks\": \"\", \"zerolinecolor\": \"white\"}}, \"shapedefaults\": {\"line\": {\"color\": \"#2a3f5f\"}}, \"ternary\": {\"aaxis\": {\"gridcolor\": \"white\", \"linecolor\": \"white\", \"ticks\": \"\"}, \"baxis\": {\"gridcolor\": \"white\", \"linecolor\": \"white\", \"ticks\": \"\"}, \"bgcolor\": \"#E5ECF6\", \"caxis\": {\"gridcolor\": \"white\", \"linecolor\": \"white\", \"ticks\": \"\"}}, \"title\": {\"x\": 0.05}, \"xaxis\": {\"automargin\": true, \"gridcolor\": \"white\", \"linecolor\": \"white\", \"ticks\": \"\", \"title\": {\"standoff\": 15}, \"zerolinecolor\": \"white\", \"zerolinewidth\": 2}, \"yaxis\": {\"automargin\": true, \"gridcolor\": \"white\", \"linecolor\": \"white\", \"ticks\": \"\", \"title\": {\"standoff\": 15}, \"zerolinecolor\": \"white\", \"zerolinewidth\": 2}}}, \"title\": {\"text\": \"Every minute OVERALL wikipedia page updation for one hour (between 17:11 till 18:13) \"}, \"width\": 1700, \"xaxis\": {\"tickangle\": -90, \"title\": {\"text\": \"Hour_Minute\"}}, \"yaxis\": {\"title\": {\"text\": \"No of Edits\"}}},\n",
              "                        {\"responsive\": true}\n",
              "                    ).then(function(){\n",
              "                            \n",
              "var gd = document.getElementById('d394847e-66c4-4b17-bcde-5d5698362014');\n",
              "var x = new MutationObserver(function (mutations, observer) {{\n",
              "        var display = window.getComputedStyle(gd).display;\n",
              "        if (!display || display === 'none') {{\n",
              "            console.log([gd, 'removed!']);\n",
              "            Plotly.purge(gd);\n",
              "            observer.disconnect();\n",
              "        }}\n",
              "}});\n",
              "\n",
              "// Listen for the removal of the full notebook cells\n",
              "var notebookContainer = gd.closest('#notebook-container');\n",
              "if (notebookContainer) {{\n",
              "    x.observe(notebookContainer, {childList: true});\n",
              "}}\n",
              "\n",
              "// Listen for the clearing of the current output cell\n",
              "var outputEl = gd.closest('.output');\n",
              "if (outputEl) {{\n",
              "    x.observe(outputEl, {childList: true});\n",
              "}}\n",
              "\n",
              "                        })\n",
              "                };\n",
              "                \n",
              "            </script>\n",
              "        </div>\n",
              "</body>\n",
              "</html>"
            ]
          },
          "metadata": {
            "tags": []
          }
        }
      ]
    },
    {
      "cell_type": "markdown",
      "metadata": {
        "id": "itbkRijiRjsf"
      },
      "source": [
        "\n",
        "\n",
        "---\n",
        "\n"
      ]
    },
    {
      "cell_type": "markdown",
      "metadata": {
        "id": "7S5B2rlRRkvZ"
      },
      "source": [
        "<a name=\"7\"></a>\n",
        "**7. (Q) Edits per minute for GERMAN languages present in the dataset ?** "
      ]
    },
    {
      "cell_type": "code",
      "metadata": {
        "colab": {
          "base_uri": "https://localhost:8080/",
          "height": 637
        },
        "id": "0986-Fl76YF3",
        "cellView": "form",
        "outputId": "2d053913-ecad-42bd-947c-6aad1c95a210"
      },
      "source": [
        "#@title Run the Cell\n",
        "hourminute_deutsch = df[df['language'] == 'de']['hour_minute'].value_counts().sort_index()\n",
        "fig = go.Figure()\n",
        "fig.add_trace(go.Scatter(x=hourminute_deutsch.index, y=hourminute_deutsch.values,  text = hourminute_deutsch.values, textposition=\"top right\", textfont=dict(size=9), mode='lines+markers+text', line= dict(width = 2, dash = 'dot'), marker=dict(color= 'red', size= 7), showlegend=False ))\n",
        "fig.update_xaxes(tickangle = 270, title_font = {\"size\": 10},     title_standoff = 25)\n",
        "fig.update_yaxes(title_font = {\"size\": 10},     title_standoff = 25)\n",
        "fig.update_layout(title='Every minute GERMAN wikipedia page updation for one hour (between 17:11 till 18:13) ', xaxis_title='Hour_Minute', yaxis_title='No of Edits', height=600, width=1700)\n",
        "fig.add_shape(type='line',x0= 0, y0= round(hourminute_deutsch.values.mean()), x1= '18_13', y1= round(hourminute_deutsch.values.mean()), line=dict(color='black',width = 1.5, dash = 'dashdot'),   xref='x',  yref='y')\n",
        "fig.add_trace(go.Scatter(x=['17_47'], y=[13], text=[f\"Average Edits per minute = {round(hourminute_deutsch.values.mean())}\"], mode=\"text\", showlegend= False))\n",
        "fig.show()\n"
      ],
      "execution_count": null,
      "outputs": [
        {
          "output_type": "display_data",
          "data": {
            "text/html": [
              "<html>\n",
              "<head><meta charset=\"utf-8\" /></head>\n",
              "<body>\n",
              "    <div>\n",
              "            <script src=\"https://cdnjs.cloudflare.com/ajax/libs/mathjax/2.7.5/MathJax.js?config=TeX-AMS-MML_SVG\"></script><script type=\"text/javascript\">if (window.MathJax) {MathJax.Hub.Config({SVG: {font: \"STIX-Web\"}});}</script>\n",
              "                <script type=\"text/javascript\">window.PlotlyConfig = {MathJaxConfig: 'local'};</script>\n",
              "        <script src=\"https://cdn.plot.ly/plotly-latest.min.js\"></script>    \n",
              "            <div id=\"e627edd6-5dc2-4beb-87ca-8f0ba2e9d56d\" class=\"plotly-graph-div\" style=\"height:600px; width:1700px;\"></div>\n",
              "            <script type=\"text/javascript\">\n",
              "                \n",
              "                    window.PLOTLYENV=window.PLOTLYENV || {};\n",
              "                    \n",
              "                if (document.getElementById(\"e627edd6-5dc2-4beb-87ca-8f0ba2e9d56d\")) {\n",
              "                    Plotly.newPlot(\n",
              "                        'e627edd6-5dc2-4beb-87ca-8f0ba2e9d56d',\n",
              "                        [{\"line\": {\"dash\": \"dot\", \"width\": 2}, \"marker\": {\"color\": \"red\", \"size\": 7}, \"mode\": \"lines+markers+text\", \"showlegend\": false, \"text\": [10.0, 33.0, 30.0, 31.0, 27.0, 20.0, 33.0, 24.0, 23.0, 33.0, 29.0, 32.0, 35.0, 33.0, 27.0, 20.0, 31.0, 32.0, 33.0, 34.0, 30.0, 30.0, 31.0, 31.0, 33.0, 31.0, 25.0, 27.0, 34.0, 31.0, 26.0, 23.0, 15.0, 18.0, 19.0, 18.0, 43.0, 25.0, 33.0, 26.0, 27.0, 25.0, 34.0, 32.0, 30.0, 33.0, 34.0, 33.0, 29.0, 37.0, 24.0, 30.0, 16.0, 32.0, 32.0, 23.0, 27.0, 23.0, 32.0, 23.0, 22.0, 28.0, 11.0], \"textfont\": {\"size\": 9}, \"textposition\": \"top right\", \"type\": \"scatter\", \"x\": [\"17_11\", \"17_12\", \"17_13\", \"17_14\", \"17_15\", \"17_16\", \"17_17\", \"17_18\", \"17_19\", \"17_20\", \"17_21\", \"17_22\", \"17_23\", \"17_24\", \"17_25\", \"17_26\", \"17_27\", \"17_28\", \"17_29\", \"17_30\", \"17_31\", \"17_32\", \"17_33\", \"17_34\", \"17_35\", \"17_36\", \"17_37\", \"17_38\", \"17_39\", \"17_40\", \"17_41\", \"17_42\", \"17_43\", \"17_44\", \"17_45\", \"17_46\", \"17_47\", \"17_48\", \"17_49\", \"17_50\", \"17_51\", \"17_52\", \"17_53\", \"17_54\", \"17_55\", \"17_56\", \"17_57\", \"17_58\", \"17_59\", \"18_00\", \"18_01\", \"18_02\", \"18_03\", \"18_04\", \"18_05\", \"18_06\", \"18_07\", \"18_08\", \"18_09\", \"18_10\", \"18_11\", \"18_12\", \"18_13\"], \"y\": [10, 33, 30, 31, 27, 20, 33, 24, 23, 33, 29, 32, 35, 33, 27, 20, 31, 32, 33, 34, 30, 30, 31, 31, 33, 31, 25, 27, 34, 31, 26, 23, 15, 18, 19, 18, 43, 25, 33, 26, 27, 25, 34, 32, 30, 33, 34, 33, 29, 37, 24, 30, 16, 32, 32, 23, 27, 23, 32, 23, 22, 28, 11]}, {\"mode\": \"text\", \"showlegend\": false, \"text\": [\"Average Edits per minute = 28\"], \"type\": \"scatter\", \"x\": [\"17_47\"], \"y\": [13]}],\n",
              "                        {\"height\": 600, \"shapes\": [{\"line\": {\"color\": \"black\", \"dash\": \"dashdot\", \"width\": 1.5}, \"type\": \"line\", \"x0\": 0, \"x1\": \"18_13\", \"xref\": \"x\", \"y0\": 28, \"y1\": 28, \"yref\": \"y\"}], \"template\": {\"data\": {\"bar\": [{\"error_x\": {\"color\": \"#2a3f5f\"}, \"error_y\": {\"color\": \"#2a3f5f\"}, \"marker\": {\"line\": {\"color\": \"#E5ECF6\", \"width\": 0.5}}, \"type\": \"bar\"}], \"barpolar\": [{\"marker\": {\"line\": {\"color\": \"#E5ECF6\", \"width\": 0.5}}, \"type\": \"barpolar\"}], \"carpet\": [{\"aaxis\": {\"endlinecolor\": \"#2a3f5f\", \"gridcolor\": \"white\", \"linecolor\": \"white\", \"minorgridcolor\": \"white\", \"startlinecolor\": \"#2a3f5f\"}, \"baxis\": {\"endlinecolor\": \"#2a3f5f\", \"gridcolor\": \"white\", \"linecolor\": \"white\", \"minorgridcolor\": \"white\", \"startlinecolor\": \"#2a3f5f\"}, \"type\": \"carpet\"}], \"choropleth\": [{\"colorbar\": {\"outlinewidth\": 0, \"ticks\": \"\"}, \"type\": \"choropleth\"}], \"contour\": [{\"colorbar\": {\"outlinewidth\": 0, \"ticks\": \"\"}, \"colorscale\": [[0.0, \"#0d0887\"], [0.1111111111111111, \"#46039f\"], [0.2222222222222222, \"#7201a8\"], [0.3333333333333333, \"#9c179e\"], [0.4444444444444444, \"#bd3786\"], [0.5555555555555556, \"#d8576b\"], [0.6666666666666666, \"#ed7953\"], [0.7777777777777778, \"#fb9f3a\"], [0.8888888888888888, \"#fdca26\"], [1.0, \"#f0f921\"]], \"type\": \"contour\"}], \"contourcarpet\": [{\"colorbar\": {\"outlinewidth\": 0, \"ticks\": \"\"}, \"type\": \"contourcarpet\"}], \"heatmap\": [{\"colorbar\": {\"outlinewidth\": 0, \"ticks\": \"\"}, \"colorscale\": [[0.0, \"#0d0887\"], [0.1111111111111111, \"#46039f\"], [0.2222222222222222, \"#7201a8\"], [0.3333333333333333, \"#9c179e\"], [0.4444444444444444, \"#bd3786\"], [0.5555555555555556, \"#d8576b\"], [0.6666666666666666, \"#ed7953\"], [0.7777777777777778, \"#fb9f3a\"], [0.8888888888888888, \"#fdca26\"], [1.0, \"#f0f921\"]], \"type\": \"heatmap\"}], \"heatmapgl\": [{\"colorbar\": {\"outlinewidth\": 0, \"ticks\": \"\"}, \"colorscale\": [[0.0, \"#0d0887\"], [0.1111111111111111, \"#46039f\"], [0.2222222222222222, \"#7201a8\"], [0.3333333333333333, \"#9c179e\"], [0.4444444444444444, \"#bd3786\"], [0.5555555555555556, \"#d8576b\"], [0.6666666666666666, \"#ed7953\"], [0.7777777777777778, \"#fb9f3a\"], [0.8888888888888888, \"#fdca26\"], [1.0, \"#f0f921\"]], \"type\": \"heatmapgl\"}], \"histogram\": [{\"marker\": {\"colorbar\": {\"outlinewidth\": 0, \"ticks\": \"\"}}, \"type\": \"histogram\"}], \"histogram2d\": [{\"colorbar\": {\"outlinewidth\": 0, \"ticks\": \"\"}, \"colorscale\": [[0.0, \"#0d0887\"], [0.1111111111111111, \"#46039f\"], [0.2222222222222222, \"#7201a8\"], [0.3333333333333333, \"#9c179e\"], [0.4444444444444444, \"#bd3786\"], [0.5555555555555556, \"#d8576b\"], [0.6666666666666666, \"#ed7953\"], [0.7777777777777778, \"#fb9f3a\"], [0.8888888888888888, \"#fdca26\"], [1.0, \"#f0f921\"]], \"type\": \"histogram2d\"}], \"histogram2dcontour\": [{\"colorbar\": {\"outlinewidth\": 0, \"ticks\": \"\"}, \"colorscale\": [[0.0, \"#0d0887\"], [0.1111111111111111, \"#46039f\"], [0.2222222222222222, \"#7201a8\"], [0.3333333333333333, \"#9c179e\"], [0.4444444444444444, \"#bd3786\"], [0.5555555555555556, \"#d8576b\"], [0.6666666666666666, \"#ed7953\"], [0.7777777777777778, \"#fb9f3a\"], [0.8888888888888888, \"#fdca26\"], [1.0, \"#f0f921\"]], \"type\": \"histogram2dcontour\"}], \"mesh3d\": [{\"colorbar\": {\"outlinewidth\": 0, \"ticks\": \"\"}, \"type\": \"mesh3d\"}], \"parcoords\": [{\"line\": {\"colorbar\": {\"outlinewidth\": 0, \"ticks\": \"\"}}, \"type\": \"parcoords\"}], \"pie\": [{\"automargin\": true, \"type\": \"pie\"}], \"scatter\": [{\"marker\": {\"colorbar\": {\"outlinewidth\": 0, \"ticks\": \"\"}}, \"type\": \"scatter\"}], \"scatter3d\": [{\"line\": {\"colorbar\": {\"outlinewidth\": 0, \"ticks\": \"\"}}, \"marker\": {\"colorbar\": {\"outlinewidth\": 0, \"ticks\": \"\"}}, \"type\": \"scatter3d\"}], \"scattercarpet\": [{\"marker\": {\"colorbar\": {\"outlinewidth\": 0, \"ticks\": \"\"}}, \"type\": \"scattercarpet\"}], \"scattergeo\": [{\"marker\": {\"colorbar\": {\"outlinewidth\": 0, \"ticks\": \"\"}}, \"type\": \"scattergeo\"}], \"scattergl\": [{\"marker\": {\"colorbar\": {\"outlinewidth\": 0, \"ticks\": \"\"}}, \"type\": \"scattergl\"}], \"scattermapbox\": [{\"marker\": {\"colorbar\": {\"outlinewidth\": 0, \"ticks\": \"\"}}, \"type\": \"scattermapbox\"}], \"scatterpolar\": [{\"marker\": {\"colorbar\": {\"outlinewidth\": 0, \"ticks\": \"\"}}, \"type\": \"scatterpolar\"}], \"scatterpolargl\": [{\"marker\": {\"colorbar\": {\"outlinewidth\": 0, \"ticks\": \"\"}}, \"type\": \"scatterpolargl\"}], \"scatterternary\": [{\"marker\": {\"colorbar\": {\"outlinewidth\": 0, \"ticks\": \"\"}}, \"type\": \"scatterternary\"}], \"surface\": [{\"colorbar\": {\"outlinewidth\": 0, \"ticks\": \"\"}, \"colorscale\": [[0.0, \"#0d0887\"], [0.1111111111111111, \"#46039f\"], [0.2222222222222222, \"#7201a8\"], [0.3333333333333333, \"#9c179e\"], [0.4444444444444444, \"#bd3786\"], [0.5555555555555556, \"#d8576b\"], [0.6666666666666666, \"#ed7953\"], [0.7777777777777778, \"#fb9f3a\"], [0.8888888888888888, \"#fdca26\"], [1.0, \"#f0f921\"]], \"type\": \"surface\"}], \"table\": [{\"cells\": {\"fill\": {\"color\": \"#EBF0F8\"}, \"line\": {\"color\": \"white\"}}, \"header\": {\"fill\": {\"color\": \"#C8D4E3\"}, \"line\": {\"color\": \"white\"}}, \"type\": \"table\"}]}, \"layout\": {\"annotationdefaults\": {\"arrowcolor\": \"#2a3f5f\", \"arrowhead\": 0, \"arrowwidth\": 1}, \"coloraxis\": {\"colorbar\": {\"outlinewidth\": 0, \"ticks\": \"\"}}, \"colorscale\": {\"diverging\": [[0, \"#8e0152\"], [0.1, \"#c51b7d\"], [0.2, \"#de77ae\"], [0.3, \"#f1b6da\"], [0.4, \"#fde0ef\"], [0.5, \"#f7f7f7\"], [0.6, \"#e6f5d0\"], [0.7, \"#b8e186\"], [0.8, \"#7fbc41\"], [0.9, \"#4d9221\"], [1, \"#276419\"]], \"sequential\": [[0.0, \"#0d0887\"], [0.1111111111111111, \"#46039f\"], [0.2222222222222222, \"#7201a8\"], [0.3333333333333333, \"#9c179e\"], [0.4444444444444444, \"#bd3786\"], [0.5555555555555556, \"#d8576b\"], [0.6666666666666666, \"#ed7953\"], [0.7777777777777778, \"#fb9f3a\"], [0.8888888888888888, \"#fdca26\"], [1.0, \"#f0f921\"]], \"sequentialminus\": [[0.0, \"#0d0887\"], [0.1111111111111111, \"#46039f\"], [0.2222222222222222, \"#7201a8\"], [0.3333333333333333, \"#9c179e\"], [0.4444444444444444, \"#bd3786\"], [0.5555555555555556, \"#d8576b\"], [0.6666666666666666, \"#ed7953\"], [0.7777777777777778, \"#fb9f3a\"], [0.8888888888888888, \"#fdca26\"], [1.0, \"#f0f921\"]]}, \"colorway\": [\"#636efa\", \"#EF553B\", \"#00cc96\", \"#ab63fa\", \"#FFA15A\", \"#19d3f3\", \"#FF6692\", \"#B6E880\", \"#FF97FF\", \"#FECB52\"], \"font\": {\"color\": \"#2a3f5f\"}, \"geo\": {\"bgcolor\": \"white\", \"lakecolor\": \"white\", \"landcolor\": \"#E5ECF6\", \"showlakes\": true, \"showland\": true, \"subunitcolor\": \"white\"}, \"hoverlabel\": {\"align\": \"left\"}, \"hovermode\": \"closest\", \"mapbox\": {\"style\": \"light\"}, \"paper_bgcolor\": \"white\", \"plot_bgcolor\": \"#E5ECF6\", \"polar\": {\"angularaxis\": {\"gridcolor\": \"white\", \"linecolor\": \"white\", \"ticks\": \"\"}, \"bgcolor\": \"#E5ECF6\", \"radialaxis\": {\"gridcolor\": \"white\", \"linecolor\": \"white\", \"ticks\": \"\"}}, \"scene\": {\"xaxis\": {\"backgroundcolor\": \"#E5ECF6\", \"gridcolor\": \"white\", \"gridwidth\": 2, \"linecolor\": \"white\", \"showbackground\": true, \"ticks\": \"\", \"zerolinecolor\": \"white\"}, \"yaxis\": {\"backgroundcolor\": \"#E5ECF6\", \"gridcolor\": \"white\", \"gridwidth\": 2, \"linecolor\": \"white\", \"showbackground\": true, \"ticks\": \"\", \"zerolinecolor\": \"white\"}, \"zaxis\": {\"backgroundcolor\": \"#E5ECF6\", \"gridcolor\": \"white\", \"gridwidth\": 2, \"linecolor\": \"white\", \"showbackground\": true, \"ticks\": \"\", \"zerolinecolor\": \"white\"}}, \"shapedefaults\": {\"line\": {\"color\": \"#2a3f5f\"}}, \"ternary\": {\"aaxis\": {\"gridcolor\": \"white\", \"linecolor\": \"white\", \"ticks\": \"\"}, \"baxis\": {\"gridcolor\": \"white\", \"linecolor\": \"white\", \"ticks\": \"\"}, \"bgcolor\": \"#E5ECF6\", \"caxis\": {\"gridcolor\": \"white\", \"linecolor\": \"white\", \"ticks\": \"\"}}, \"title\": {\"x\": 0.05}, \"xaxis\": {\"automargin\": true, \"gridcolor\": \"white\", \"linecolor\": \"white\", \"ticks\": \"\", \"title\": {\"standoff\": 15}, \"zerolinecolor\": \"white\", \"zerolinewidth\": 2}, \"yaxis\": {\"automargin\": true, \"gridcolor\": \"white\", \"linecolor\": \"white\", \"ticks\": \"\", \"title\": {\"standoff\": 15}, \"zerolinecolor\": \"white\", \"zerolinewidth\": 2}}}, \"title\": {\"text\": \"Every minute GERMAN wikipedia page updation for one hour (between 17:11 till 18:13) \"}, \"width\": 1700, \"xaxis\": {\"tickangle\": -90, \"title\": {\"text\": \"Hour_Minute\"}}, \"yaxis\": {\"title\": {\"text\": \"No of Edits\"}}},\n",
              "                        {\"responsive\": true}\n",
              "                    ).then(function(){\n",
              "                            \n",
              "var gd = document.getElementById('e627edd6-5dc2-4beb-87ca-8f0ba2e9d56d');\n",
              "var x = new MutationObserver(function (mutations, observer) {{\n",
              "        var display = window.getComputedStyle(gd).display;\n",
              "        if (!display || display === 'none') {{\n",
              "            console.log([gd, 'removed!']);\n",
              "            Plotly.purge(gd);\n",
              "            observer.disconnect();\n",
              "        }}\n",
              "}});\n",
              "\n",
              "// Listen for the removal of the full notebook cells\n",
              "var notebookContainer = gd.closest('#notebook-container');\n",
              "if (notebookContainer) {{\n",
              "    x.observe(notebookContainer, {childList: true});\n",
              "}}\n",
              "\n",
              "// Listen for the clearing of the current output cell\n",
              "var outputEl = gd.closest('.output');\n",
              "if (outputEl) {{\n",
              "    x.observe(outputEl, {childList: true});\n",
              "}}\n",
              "\n",
              "                        })\n",
              "                };\n",
              "                \n",
              "            </script>\n",
              "        </div>\n",
              "</body>\n",
              "</html>"
            ]
          },
          "metadata": {
            "tags": []
          }
        }
      ]
    },
    {
      "cell_type": "markdown",
      "metadata": {
        "id": "_uo6RolVRz6X"
      },
      "source": [
        "\n",
        "\n",
        "---\n",
        "\n"
      ]
    },
    {
      "cell_type": "markdown",
      "metadata": {
        "id": "6PIQxk_-7JJz"
      },
      "source": [
        "\n",
        "<a name=\"8\"></a>\n",
        "**8. Unique Users per minutes for German language present in the dataset** "
      ]
    },
    {
      "cell_type": "code",
      "metadata": {
        "colab": {
          "base_uri": "https://localhost:8080/",
          "height": 617
        },
        "id": "gthOHYGiId9u",
        "cellView": "form",
        "outputId": "cb55d793-8ca3-4d84-ad4b-2fb0d1c42ea1"
      },
      "source": [
        "#@title Run the cell\n",
        "df_german_user = df[df.language == 'de'].groupby('hour_minute').agg({\"user\": pd.Series.nunique}).reset_index()\n",
        "hourminute_deutsch = df[df['language'] == 'de']['hour_minute'].value_counts().sort_index()\n",
        "\n",
        "fig = go.Figure()\n",
        "fig.add_trace(go.Scatter(x=df_german_user.hour_minute, y=df_german_user.user,  text = df_german_user.user, textposition=\"top right\", textfont=dict(size=9), mode='lines+markers+text', line= dict(width = 2), marker=dict(color= 'green', size= 7,), name = 'Unique Users', showlegend = True))\n",
        "fig.add_trace(go.Scatter(x=hourminute_deutsch.index, y=hourminute_deutsch.values,  text = hourminute_deutsch.values, textposition=\"top right\", textfont=dict(size=9), mode='lines+markers+text', line= dict(width = 1,), marker=dict(color= 'red', size= 4, opacity=0.5), name = 'Edit count', showlegend=True ))\n",
        "fig.update_xaxes(tickangle = 270, title_font = {\"size\": 10},     title_standoff = 25)\n",
        "fig.update_yaxes(title_font = {\"size\": 10},     title_standoff = 25)\n",
        "fig.add_shape(type='line',x0= 0, y0= round(df_german_user.user.mean()), x1= '18_13', y1= round(df_german_user.user.mean()), line=dict(color='green',width = 1.5, dash = 'dashdot'),   xref='x',  yref='y')\n",
        "fig.add_trace(go.Scatter(x=['17_32'], y=[21], text=[f\"Avg Unique Users per min = {round(df_german_user.user.mean())}\"], mode=\"text\", showlegend= False))\n",
        "fig.update_layout(title='German wikipedia page unique users count per minute (between 17:11 till 18:13) ', xaxis_title='Hour_Minute', yaxis_title='Unique user count & No of Edits (per min)', height=600, width=1700)\n",
        "fig.show()"
      ],
      "execution_count": null,
      "outputs": [
        {
          "output_type": "display_data",
          "data": {
            "text/html": [
              "<html>\n",
              "<head><meta charset=\"utf-8\" /></head>\n",
              "<body>\n",
              "    <div>\n",
              "            <script src=\"https://cdnjs.cloudflare.com/ajax/libs/mathjax/2.7.5/MathJax.js?config=TeX-AMS-MML_SVG\"></script><script type=\"text/javascript\">if (window.MathJax) {MathJax.Hub.Config({SVG: {font: \"STIX-Web\"}});}</script>\n",
              "                <script type=\"text/javascript\">window.PlotlyConfig = {MathJaxConfig: 'local'};</script>\n",
              "        <script src=\"https://cdn.plot.ly/plotly-latest.min.js\"></script>    \n",
              "            <div id=\"f49a0da1-42c2-4962-880f-767bdb7a7be3\" class=\"plotly-graph-div\" style=\"height:600px; width:1700px;\"></div>\n",
              "            <script type=\"text/javascript\">\n",
              "                \n",
              "                    window.PLOTLYENV=window.PLOTLYENV || {};\n",
              "                    \n",
              "                if (document.getElementById(\"f49a0da1-42c2-4962-880f-767bdb7a7be3\")) {\n",
              "                    Plotly.newPlot(\n",
              "                        'f49a0da1-42c2-4962-880f-767bdb7a7be3',\n",
              "                        [{\"line\": {\"width\": 2}, \"marker\": {\"color\": \"green\", \"size\": 7}, \"mode\": \"lines+markers+text\", \"name\": \"Unique Users\", \"showlegend\": true, \"text\": [10.0, 30.0, 29.0, 28.0, 26.0, 19.0, 32.0, 24.0, 23.0, 31.0, 27.0, 29.0, 35.0, 29.0, 27.0, 19.0, 28.0, 26.0, 31.0, 34.0, 29.0, 29.0, 30.0, 30.0, 30.0, 27.0, 25.0, 27.0, 32.0, 22.0, 20.0, 17.0, 14.0, 16.0, 19.0, 17.0, 40.0, 21.0, 30.0, 25.0, 23.0, 21.0, 30.0, 30.0, 27.0, 28.0, 27.0, 26.0, 25.0, 29.0, 19.0, 28.0, 16.0, 25.0, 24.0, 22.0, 27.0, 22.0, 27.0, 20.0, 21.0, 25.0, 11.0], \"textfont\": {\"size\": 9}, \"textposition\": \"top right\", \"type\": \"scatter\", \"x\": [\"17_11\", \"17_12\", \"17_13\", \"17_14\", \"17_15\", \"17_16\", \"17_17\", \"17_18\", \"17_19\", \"17_20\", \"17_21\", \"17_22\", \"17_23\", \"17_24\", \"17_25\", \"17_26\", \"17_27\", \"17_28\", \"17_29\", \"17_30\", \"17_31\", \"17_32\", \"17_33\", \"17_34\", \"17_35\", \"17_36\", \"17_37\", \"17_38\", \"17_39\", \"17_40\", \"17_41\", \"17_42\", \"17_43\", \"17_44\", \"17_45\", \"17_46\", \"17_47\", \"17_48\", \"17_49\", \"17_50\", \"17_51\", \"17_52\", \"17_53\", \"17_54\", \"17_55\", \"17_56\", \"17_57\", \"17_58\", \"17_59\", \"18_00\", \"18_01\", \"18_02\", \"18_03\", \"18_04\", \"18_05\", \"18_06\", \"18_07\", \"18_08\", \"18_09\", \"18_10\", \"18_11\", \"18_12\", \"18_13\"], \"y\": [10, 30, 29, 28, 26, 19, 32, 24, 23, 31, 27, 29, 35, 29, 27, 19, 28, 26, 31, 34, 29, 29, 30, 30, 30, 27, 25, 27, 32, 22, 20, 17, 14, 16, 19, 17, 40, 21, 30, 25, 23, 21, 30, 30, 27, 28, 27, 26, 25, 29, 19, 28, 16, 25, 24, 22, 27, 22, 27, 20, 21, 25, 11]}, {\"line\": {\"width\": 1}, \"marker\": {\"color\": \"red\", \"opacity\": 0.5, \"size\": 4}, \"mode\": \"lines+markers+text\", \"name\": \"Edit count\", \"showlegend\": true, \"text\": [10.0, 33.0, 30.0, 31.0, 27.0, 20.0, 35.0, 24.0, 24.0, 33.0, 29.0, 32.0, 35.0, 33.0, 27.0, 19.0, 31.0, 32.0, 34.0, 35.0, 30.0, 30.0, 31.0, 31.0, 33.0, 31.0, 25.0, 28.0, 34.0, 31.0, 26.0, 23.0, 15.0, 18.0, 19.0, 18.0, 43.0, 25.0, 33.0, 26.0, 27.0, 25.0, 35.0, 33.0, 30.0, 34.0, 34.0, 33.0, 30.0, 37.0, 24.0, 30.0, 16.0, 32.0, 32.0, 24.0, 28.0, 23.0, 32.0, 23.0, 22.0, 28.0, 11.0], \"textfont\": {\"size\": 9}, \"textposition\": \"top right\", \"type\": \"scatter\", \"x\": [\"17_11\", \"17_12\", \"17_13\", \"17_14\", \"17_15\", \"17_16\", \"17_17\", \"17_18\", \"17_19\", \"17_20\", \"17_21\", \"17_22\", \"17_23\", \"17_24\", \"17_25\", \"17_26\", \"17_27\", \"17_28\", \"17_29\", \"17_30\", \"17_31\", \"17_32\", \"17_33\", \"17_34\", \"17_35\", \"17_36\", \"17_37\", \"17_38\", \"17_39\", \"17_40\", \"17_41\", \"17_42\", \"17_43\", \"17_44\", \"17_45\", \"17_46\", \"17_47\", \"17_48\", \"17_49\", \"17_50\", \"17_51\", \"17_52\", \"17_53\", \"17_54\", \"17_55\", \"17_56\", \"17_57\", \"17_58\", \"17_59\", \"18_00\", \"18_01\", \"18_02\", \"18_03\", \"18_04\", \"18_05\", \"18_06\", \"18_07\", \"18_08\", \"18_09\", \"18_10\", \"18_11\", \"18_12\", \"18_13\"], \"y\": [10, 33, 30, 31, 27, 20, 35, 24, 24, 33, 29, 32, 35, 33, 27, 19, 31, 32, 34, 35, 30, 30, 31, 31, 33, 31, 25, 28, 34, 31, 26, 23, 15, 18, 19, 18, 43, 25, 33, 26, 27, 25, 35, 33, 30, 34, 34, 33, 30, 37, 24, 30, 16, 32, 32, 24, 28, 23, 32, 23, 22, 28, 11]}, {\"mode\": \"text\", \"showlegend\": false, \"text\": [\"Avg Unique Users per min = 25\"], \"type\": \"scatter\", \"x\": [\"17_32\"], \"y\": [21]}],\n",
              "                        {\"height\": 600, \"shapes\": [{\"line\": {\"color\": \"green\", \"dash\": \"dashdot\", \"width\": 1.5}, \"type\": \"line\", \"x0\": 0, \"x1\": \"18_13\", \"xref\": \"x\", \"y0\": 25, \"y1\": 25, \"yref\": \"y\"}], \"template\": {\"data\": {\"bar\": [{\"error_x\": {\"color\": \"#2a3f5f\"}, \"error_y\": {\"color\": \"#2a3f5f\"}, \"marker\": {\"line\": {\"color\": \"#E5ECF6\", \"width\": 0.5}}, \"type\": \"bar\"}], \"barpolar\": [{\"marker\": {\"line\": {\"color\": \"#E5ECF6\", \"width\": 0.5}}, \"type\": \"barpolar\"}], \"carpet\": [{\"aaxis\": {\"endlinecolor\": \"#2a3f5f\", \"gridcolor\": \"white\", \"linecolor\": \"white\", \"minorgridcolor\": \"white\", \"startlinecolor\": \"#2a3f5f\"}, \"baxis\": {\"endlinecolor\": \"#2a3f5f\", \"gridcolor\": \"white\", \"linecolor\": \"white\", \"minorgridcolor\": \"white\", \"startlinecolor\": \"#2a3f5f\"}, \"type\": \"carpet\"}], \"choropleth\": [{\"colorbar\": {\"outlinewidth\": 0, \"ticks\": \"\"}, \"type\": \"choropleth\"}], \"contour\": [{\"colorbar\": {\"outlinewidth\": 0, \"ticks\": \"\"}, \"colorscale\": [[0.0, \"#0d0887\"], [0.1111111111111111, \"#46039f\"], [0.2222222222222222, \"#7201a8\"], [0.3333333333333333, \"#9c179e\"], [0.4444444444444444, \"#bd3786\"], [0.5555555555555556, \"#d8576b\"], [0.6666666666666666, \"#ed7953\"], [0.7777777777777778, \"#fb9f3a\"], [0.8888888888888888, \"#fdca26\"], [1.0, \"#f0f921\"]], \"type\": \"contour\"}], \"contourcarpet\": [{\"colorbar\": {\"outlinewidth\": 0, \"ticks\": \"\"}, \"type\": \"contourcarpet\"}], \"heatmap\": [{\"colorbar\": {\"outlinewidth\": 0, \"ticks\": \"\"}, \"colorscale\": [[0.0, \"#0d0887\"], [0.1111111111111111, \"#46039f\"], [0.2222222222222222, \"#7201a8\"], [0.3333333333333333, \"#9c179e\"], [0.4444444444444444, \"#bd3786\"], [0.5555555555555556, \"#d8576b\"], [0.6666666666666666, \"#ed7953\"], [0.7777777777777778, \"#fb9f3a\"], [0.8888888888888888, \"#fdca26\"], [1.0, \"#f0f921\"]], \"type\": \"heatmap\"}], \"heatmapgl\": [{\"colorbar\": {\"outlinewidth\": 0, \"ticks\": \"\"}, \"colorscale\": [[0.0, \"#0d0887\"], [0.1111111111111111, \"#46039f\"], [0.2222222222222222, \"#7201a8\"], [0.3333333333333333, \"#9c179e\"], [0.4444444444444444, \"#bd3786\"], [0.5555555555555556, \"#d8576b\"], [0.6666666666666666, \"#ed7953\"], [0.7777777777777778, \"#fb9f3a\"], [0.8888888888888888, \"#fdca26\"], [1.0, \"#f0f921\"]], \"type\": \"heatmapgl\"}], \"histogram\": [{\"marker\": {\"colorbar\": {\"outlinewidth\": 0, \"ticks\": \"\"}}, \"type\": \"histogram\"}], \"histogram2d\": [{\"colorbar\": {\"outlinewidth\": 0, \"ticks\": \"\"}, \"colorscale\": [[0.0, \"#0d0887\"], [0.1111111111111111, \"#46039f\"], [0.2222222222222222, \"#7201a8\"], [0.3333333333333333, \"#9c179e\"], [0.4444444444444444, \"#bd3786\"], [0.5555555555555556, \"#d8576b\"], [0.6666666666666666, \"#ed7953\"], [0.7777777777777778, \"#fb9f3a\"], [0.8888888888888888, \"#fdca26\"], [1.0, \"#f0f921\"]], \"type\": \"histogram2d\"}], \"histogram2dcontour\": [{\"colorbar\": {\"outlinewidth\": 0, \"ticks\": \"\"}, \"colorscale\": [[0.0, \"#0d0887\"], [0.1111111111111111, \"#46039f\"], [0.2222222222222222, \"#7201a8\"], [0.3333333333333333, \"#9c179e\"], [0.4444444444444444, \"#bd3786\"], [0.5555555555555556, \"#d8576b\"], [0.6666666666666666, \"#ed7953\"], [0.7777777777777778, \"#fb9f3a\"], [0.8888888888888888, \"#fdca26\"], [1.0, \"#f0f921\"]], \"type\": \"histogram2dcontour\"}], \"mesh3d\": [{\"colorbar\": {\"outlinewidth\": 0, \"ticks\": \"\"}, \"type\": \"mesh3d\"}], \"parcoords\": [{\"line\": {\"colorbar\": {\"outlinewidth\": 0, \"ticks\": \"\"}}, \"type\": \"parcoords\"}], \"pie\": [{\"automargin\": true, \"type\": \"pie\"}], \"scatter\": [{\"marker\": {\"colorbar\": {\"outlinewidth\": 0, \"ticks\": \"\"}}, \"type\": \"scatter\"}], \"scatter3d\": [{\"line\": {\"colorbar\": {\"outlinewidth\": 0, \"ticks\": \"\"}}, \"marker\": {\"colorbar\": {\"outlinewidth\": 0, \"ticks\": \"\"}}, \"type\": \"scatter3d\"}], \"scattercarpet\": [{\"marker\": {\"colorbar\": {\"outlinewidth\": 0, \"ticks\": \"\"}}, \"type\": \"scattercarpet\"}], \"scattergeo\": [{\"marker\": {\"colorbar\": {\"outlinewidth\": 0, \"ticks\": \"\"}}, \"type\": \"scattergeo\"}], \"scattergl\": [{\"marker\": {\"colorbar\": {\"outlinewidth\": 0, \"ticks\": \"\"}}, \"type\": \"scattergl\"}], \"scattermapbox\": [{\"marker\": {\"colorbar\": {\"outlinewidth\": 0, \"ticks\": \"\"}}, \"type\": \"scattermapbox\"}], \"scatterpolar\": [{\"marker\": {\"colorbar\": {\"outlinewidth\": 0, \"ticks\": \"\"}}, \"type\": \"scatterpolar\"}], \"scatterpolargl\": [{\"marker\": {\"colorbar\": {\"outlinewidth\": 0, \"ticks\": \"\"}}, \"type\": \"scatterpolargl\"}], \"scatterternary\": [{\"marker\": {\"colorbar\": {\"outlinewidth\": 0, \"ticks\": \"\"}}, \"type\": \"scatterternary\"}], \"surface\": [{\"colorbar\": {\"outlinewidth\": 0, \"ticks\": \"\"}, \"colorscale\": [[0.0, \"#0d0887\"], [0.1111111111111111, \"#46039f\"], [0.2222222222222222, \"#7201a8\"], [0.3333333333333333, \"#9c179e\"], [0.4444444444444444, \"#bd3786\"], [0.5555555555555556, \"#d8576b\"], [0.6666666666666666, \"#ed7953\"], [0.7777777777777778, \"#fb9f3a\"], [0.8888888888888888, \"#fdca26\"], [1.0, \"#f0f921\"]], \"type\": \"surface\"}], \"table\": [{\"cells\": {\"fill\": {\"color\": \"#EBF0F8\"}, \"line\": {\"color\": \"white\"}}, \"header\": {\"fill\": {\"color\": \"#C8D4E3\"}, \"line\": {\"color\": \"white\"}}, \"type\": \"table\"}]}, \"layout\": {\"annotationdefaults\": {\"arrowcolor\": \"#2a3f5f\", \"arrowhead\": 0, \"arrowwidth\": 1}, \"coloraxis\": {\"colorbar\": {\"outlinewidth\": 0, \"ticks\": \"\"}}, \"colorscale\": {\"diverging\": [[0, \"#8e0152\"], [0.1, \"#c51b7d\"], [0.2, \"#de77ae\"], [0.3, \"#f1b6da\"], [0.4, \"#fde0ef\"], [0.5, \"#f7f7f7\"], [0.6, \"#e6f5d0\"], [0.7, \"#b8e186\"], [0.8, \"#7fbc41\"], [0.9, \"#4d9221\"], [1, \"#276419\"]], \"sequential\": [[0.0, \"#0d0887\"], [0.1111111111111111, \"#46039f\"], [0.2222222222222222, \"#7201a8\"], [0.3333333333333333, \"#9c179e\"], [0.4444444444444444, \"#bd3786\"], [0.5555555555555556, \"#d8576b\"], [0.6666666666666666, \"#ed7953\"], [0.7777777777777778, \"#fb9f3a\"], [0.8888888888888888, \"#fdca26\"], [1.0, \"#f0f921\"]], \"sequentialminus\": [[0.0, \"#0d0887\"], [0.1111111111111111, \"#46039f\"], [0.2222222222222222, \"#7201a8\"], [0.3333333333333333, \"#9c179e\"], [0.4444444444444444, \"#bd3786\"], [0.5555555555555556, \"#d8576b\"], [0.6666666666666666, \"#ed7953\"], [0.7777777777777778, \"#fb9f3a\"], [0.8888888888888888, \"#fdca26\"], [1.0, \"#f0f921\"]]}, \"colorway\": [\"#636efa\", \"#EF553B\", \"#00cc96\", \"#ab63fa\", \"#FFA15A\", \"#19d3f3\", \"#FF6692\", \"#B6E880\", \"#FF97FF\", \"#FECB52\"], \"font\": {\"color\": \"#2a3f5f\"}, \"geo\": {\"bgcolor\": \"white\", \"lakecolor\": \"white\", \"landcolor\": \"#E5ECF6\", \"showlakes\": true, \"showland\": true, \"subunitcolor\": \"white\"}, \"hoverlabel\": {\"align\": \"left\"}, \"hovermode\": \"closest\", \"mapbox\": {\"style\": \"light\"}, \"paper_bgcolor\": \"white\", \"plot_bgcolor\": \"#E5ECF6\", \"polar\": {\"angularaxis\": {\"gridcolor\": \"white\", \"linecolor\": \"white\", \"ticks\": \"\"}, \"bgcolor\": \"#E5ECF6\", \"radialaxis\": {\"gridcolor\": \"white\", \"linecolor\": \"white\", \"ticks\": \"\"}}, \"scene\": {\"xaxis\": {\"backgroundcolor\": \"#E5ECF6\", \"gridcolor\": \"white\", \"gridwidth\": 2, \"linecolor\": \"white\", \"showbackground\": true, \"ticks\": \"\", \"zerolinecolor\": \"white\"}, \"yaxis\": {\"backgroundcolor\": \"#E5ECF6\", \"gridcolor\": \"white\", \"gridwidth\": 2, \"linecolor\": \"white\", \"showbackground\": true, \"ticks\": \"\", \"zerolinecolor\": \"white\"}, \"zaxis\": {\"backgroundcolor\": \"#E5ECF6\", \"gridcolor\": \"white\", \"gridwidth\": 2, \"linecolor\": \"white\", \"showbackground\": true, \"ticks\": \"\", \"zerolinecolor\": \"white\"}}, \"shapedefaults\": {\"line\": {\"color\": \"#2a3f5f\"}}, \"ternary\": {\"aaxis\": {\"gridcolor\": \"white\", \"linecolor\": \"white\", \"ticks\": \"\"}, \"baxis\": {\"gridcolor\": \"white\", \"linecolor\": \"white\", \"ticks\": \"\"}, \"bgcolor\": \"#E5ECF6\", \"caxis\": {\"gridcolor\": \"white\", \"linecolor\": \"white\", \"ticks\": \"\"}}, \"title\": {\"x\": 0.05}, \"xaxis\": {\"automargin\": true, \"gridcolor\": \"white\", \"linecolor\": \"white\", \"ticks\": \"\", \"title\": {\"standoff\": 15}, \"zerolinecolor\": \"white\", \"zerolinewidth\": 2}, \"yaxis\": {\"automargin\": true, \"gridcolor\": \"white\", \"linecolor\": \"white\", \"ticks\": \"\", \"title\": {\"standoff\": 15}, \"zerolinecolor\": \"white\", \"zerolinewidth\": 2}}}, \"title\": {\"text\": \"German wikipedia page unique users count per minute (between 17:11 till 18:13) \"}, \"width\": 1700, \"xaxis\": {\"tickangle\": -90, \"title\": {\"text\": \"Hour_Minute\"}}, \"yaxis\": {\"title\": {\"text\": \"Unique user count & No of Edits (per min)\"}}},\n",
              "                        {\"responsive\": true}\n",
              "                    ).then(function(){\n",
              "                            \n",
              "var gd = document.getElementById('f49a0da1-42c2-4962-880f-767bdb7a7be3');\n",
              "var x = new MutationObserver(function (mutations, observer) {{\n",
              "        var display = window.getComputedStyle(gd).display;\n",
              "        if (!display || display === 'none') {{\n",
              "            console.log([gd, 'removed!']);\n",
              "            Plotly.purge(gd);\n",
              "            observer.disconnect();\n",
              "        }}\n",
              "}});\n",
              "\n",
              "// Listen for the removal of the full notebook cells\n",
              "var notebookContainer = gd.closest('#notebook-container');\n",
              "if (notebookContainer) {{\n",
              "    x.observe(notebookContainer, {childList: true});\n",
              "}}\n",
              "\n",
              "// Listen for the clearing of the current output cell\n",
              "var outputEl = gd.closest('.output');\n",
              "if (outputEl) {{\n",
              "    x.observe(outputEl, {childList: true});\n",
              "}}\n",
              "\n",
              "                        })\n",
              "                };\n",
              "                \n",
              "            </script>\n",
              "        </div>\n",
              "</body>\n",
              "</html>"
            ]
          },
          "metadata": {
            "tags": []
          }
        }
      ]
    },
    {
      "cell_type": "markdown",
      "metadata": {
        "id": "buZ5EZ2FRExn"
      },
      "source": [
        "The above plot shows even in every minute, same users edits occured more than once\n",
        "\n",
        "---\n",
        "\n"
      ]
    },
    {
      "cell_type": "markdown",
      "metadata": {
        "id": "zbuKWuOlR2Vs"
      },
      "source": [
        "<a name=\"9\"></a>\n",
        "**9. (Q) Rolling Avg. of length of edit in German Wikipedia (length_old- length_new) ?** "
      ]
    },
    {
      "cell_type": "code",
      "metadata": {
        "colab": {
          "base_uri": "https://localhost:8080/",
          "height": 634
        },
        "id": "tYfWtyEHrIZY",
        "cellView": "code",
        "outputId": "839428a4-af2b-4693-ee36-bb5726a0b5c9"
      },
      "source": [
        "#@title Run the cell\n",
        "def rol_avg_lenDiff(win= 2):\n",
        "  hour_minute_deutsch_lenDiff                         = df[df['language'] == 'de'].groupby('hour_minute').agg('length_diff').sum().reset_index()\n",
        "  hour_minute_deutsch_lenDiff['rolling_avg_len_diff'] = round(hour_minute_deutsch_lenDiff['length_diff'].rolling(window= win).mean())\n",
        "  return hour_minute_deutsch_lenDiff\n",
        "\n",
        "win = int(input('Enter the window length : '))\n",
        "hour_minute_deutsch_rol_avg_lenDiff = rol_avg_lenDiff(win)\n",
        "fig = go.Figure()\n",
        "fig.add_trace(go.Scatter(x=hour_minute_deutsch_rol_avg_lenDiff.hour_minute, y=hour_minute_deutsch_rol_avg_lenDiff.rolling_avg_len_diff,  text = hour_minute_deutsch_rol_avg_lenDiff.rolling_avg_len_diff, textposition=\"top center\", textfont=dict(size= 7), mode='lines+markers+text', line= dict(width = 1.5, dash = 'dot'), marker=dict(color= 'blue', size= 7), showlegend=False ))\n",
        "fig.update_xaxes(tickangle = 270, title_font = {\"size\": 10},     title_standoff = 25,)\n",
        "fig.update_yaxes(title_font = {\"size\": 10},     title_standoff = 25)\n",
        "fig.add_trace(go.Scatter(x=['17_20'], y=[31000], text=[f\" For Rolling Avg, window used = last {win} minutes\"], mode=\"text\", showlegend= False))\n",
        "fig.update_layout(title= f'Rolling Ave. of DEUTSCH wikipedia page LENGTH DIFF for last {win} minutes (Article Length old - Article Length new) ', xaxis_title='Hour_Minute', yaxis_title='Rolling average Edit Length Difference (Old - New)', height=600, width=1700)\n",
        "fig.show()\n"
      ],
      "execution_count": 3,
      "outputs": [
        {
          "output_type": "stream",
          "text": [
            "Enter the window length : 2\n"
          ],
          "name": "stdout"
        },
        {
          "output_type": "display_data",
          "data": {
            "text/html": [
              "<html>\n",
              "<head><meta charset=\"utf-8\" /></head>\n",
              "<body>\n",
              "    <div>\n",
              "            <script src=\"https://cdnjs.cloudflare.com/ajax/libs/mathjax/2.7.5/MathJax.js?config=TeX-AMS-MML_SVG\"></script><script type=\"text/javascript\">if (window.MathJax) {MathJax.Hub.Config({SVG: {font: \"STIX-Web\"}});}</script>\n",
              "                <script type=\"text/javascript\">window.PlotlyConfig = {MathJaxConfig: 'local'};</script>\n",
              "        <script src=\"https://cdn.plot.ly/plotly-latest.min.js\"></script>    \n",
              "            <div id=\"ccaec20c-144f-4b4c-b20d-8e8220de4934\" class=\"plotly-graph-div\" style=\"height:600px; width:1700px;\"></div>\n",
              "            <script type=\"text/javascript\">\n",
              "                \n",
              "                    window.PLOTLYENV=window.PLOTLYENV || {};\n",
              "                    \n",
              "                if (document.getElementById(\"ccaec20c-144f-4b4c-b20d-8e8220de4934\")) {\n",
              "                    Plotly.newPlot(\n",
              "                        'ccaec20c-144f-4b4c-b20d-8e8220de4934',\n",
              "                        [{\"line\": {\"dash\": \"dot\", \"width\": 1.5}, \"marker\": {\"color\": \"blue\", \"size\": 7}, \"mode\": \"lines+markers+text\", \"showlegend\": false, \"text\": [null, 3226.0, 4956.0, 5752.0, 6476.0, 5476.0, 7850.0, 8620.0, 9937.0, 11928.0, 11027.0, 9384.0, 9534.0, 10038.0, 15497.0, 13873.0, 5653.0, 7602.0, 7429.0, 8574.0, 8065.0, 4699.0, 4079.0, 7978.0, 9774.0, 6044.0, 4938.0, 4332.0, 6904.0, 10757.0, 6908.0, 4116.0, 4424.0, 4744.0, 5307.0, 3498.0, 8154.0, 7943.0, 3489.0, 5928.0, 13042.0, 13060.0, 30584.0, 52605.0, 29420.0, 7998.0, 7206.0, 8352.0, 7816.0, 4700.0, 4287.0, 8766.0, 8076.0, 7722.0, 8344.0, 5340.0, 6312.0, 6026.0, 5076.0, 3546.0, 3646.0, 8647.0, 7448.0], \"textfont\": {\"size\": 7}, \"textposition\": \"top center\", \"type\": \"scatter\", \"x\": [\"17_11\", \"17_12\", \"17_13\", \"17_14\", \"17_15\", \"17_16\", \"17_17\", \"17_18\", \"17_19\", \"17_20\", \"17_21\", \"17_22\", \"17_23\", \"17_24\", \"17_25\", \"17_26\", \"17_27\", \"17_28\", \"17_29\", \"17_30\", \"17_31\", \"17_32\", \"17_33\", \"17_34\", \"17_35\", \"17_36\", \"17_37\", \"17_38\", \"17_39\", \"17_40\", \"17_41\", \"17_42\", \"17_43\", \"17_44\", \"17_45\", \"17_46\", \"17_47\", \"17_48\", \"17_49\", \"17_50\", \"17_51\", \"17_52\", \"17_53\", \"17_54\", \"17_55\", \"17_56\", \"17_57\", \"17_58\", \"17_59\", \"18_00\", \"18_01\", \"18_02\", \"18_03\", \"18_04\", \"18_05\", \"18_06\", \"18_07\", \"18_08\", \"18_09\", \"18_10\", \"18_11\", \"18_12\", \"18_13\"], \"y\": [null, 3226.0, 4956.0, 5752.0, 6476.0, 5476.0, 7850.0, 8620.0, 9937.0, 11928.0, 11027.0, 9384.0, 9534.0, 10038.0, 15497.0, 13873.0, 5653.0, 7602.0, 7429.0, 8574.0, 8065.0, 4699.0, 4079.0, 7978.0, 9774.0, 6044.0, 4938.0, 4332.0, 6904.0, 10757.0, 6908.0, 4116.0, 4424.0, 4744.0, 5307.0, 3498.0, 8154.0, 7943.0, 3489.0, 5928.0, 13042.0, 13060.0, 30584.0, 52605.0, 29420.0, 7998.0, 7206.0, 8352.0, 7816.0, 4700.0, 4287.0, 8766.0, 8076.0, 7722.0, 8344.0, 5340.0, 6312.0, 6026.0, 5076.0, 3546.0, 3646.0, 8647.0, 7448.0]}, {\"mode\": \"text\", \"showlegend\": false, \"text\": [\" For Rolling Avg, window used = last 2 minutes\"], \"type\": \"scatter\", \"x\": [\"17_20\"], \"y\": [31000]}],\n",
              "                        {\"height\": 600, \"template\": {\"data\": {\"bar\": [{\"error_x\": {\"color\": \"#2a3f5f\"}, \"error_y\": {\"color\": \"#2a3f5f\"}, \"marker\": {\"line\": {\"color\": \"#E5ECF6\", \"width\": 0.5}}, \"type\": \"bar\"}], \"barpolar\": [{\"marker\": {\"line\": {\"color\": \"#E5ECF6\", \"width\": 0.5}}, \"type\": \"barpolar\"}], \"carpet\": [{\"aaxis\": {\"endlinecolor\": \"#2a3f5f\", \"gridcolor\": \"white\", \"linecolor\": \"white\", \"minorgridcolor\": \"white\", \"startlinecolor\": \"#2a3f5f\"}, \"baxis\": {\"endlinecolor\": \"#2a3f5f\", \"gridcolor\": \"white\", \"linecolor\": \"white\", \"minorgridcolor\": \"white\", \"startlinecolor\": \"#2a3f5f\"}, \"type\": \"carpet\"}], \"choropleth\": [{\"colorbar\": {\"outlinewidth\": 0, \"ticks\": \"\"}, \"type\": \"choropleth\"}], \"contour\": [{\"colorbar\": {\"outlinewidth\": 0, \"ticks\": \"\"}, \"colorscale\": [[0.0, \"#0d0887\"], [0.1111111111111111, \"#46039f\"], [0.2222222222222222, \"#7201a8\"], [0.3333333333333333, \"#9c179e\"], [0.4444444444444444, \"#bd3786\"], [0.5555555555555556, \"#d8576b\"], [0.6666666666666666, \"#ed7953\"], [0.7777777777777778, \"#fb9f3a\"], [0.8888888888888888, \"#fdca26\"], [1.0, \"#f0f921\"]], \"type\": \"contour\"}], \"contourcarpet\": [{\"colorbar\": {\"outlinewidth\": 0, \"ticks\": \"\"}, \"type\": \"contourcarpet\"}], \"heatmap\": [{\"colorbar\": {\"outlinewidth\": 0, \"ticks\": \"\"}, \"colorscale\": [[0.0, \"#0d0887\"], [0.1111111111111111, \"#46039f\"], [0.2222222222222222, \"#7201a8\"], [0.3333333333333333, \"#9c179e\"], [0.4444444444444444, \"#bd3786\"], [0.5555555555555556, \"#d8576b\"], [0.6666666666666666, \"#ed7953\"], [0.7777777777777778, \"#fb9f3a\"], [0.8888888888888888, \"#fdca26\"], [1.0, \"#f0f921\"]], \"type\": \"heatmap\"}], \"heatmapgl\": [{\"colorbar\": {\"outlinewidth\": 0, \"ticks\": \"\"}, \"colorscale\": [[0.0, \"#0d0887\"], [0.1111111111111111, \"#46039f\"], [0.2222222222222222, \"#7201a8\"], [0.3333333333333333, \"#9c179e\"], [0.4444444444444444, \"#bd3786\"], [0.5555555555555556, \"#d8576b\"], [0.6666666666666666, \"#ed7953\"], [0.7777777777777778, \"#fb9f3a\"], [0.8888888888888888, \"#fdca26\"], [1.0, \"#f0f921\"]], \"type\": \"heatmapgl\"}], \"histogram\": [{\"marker\": {\"colorbar\": {\"outlinewidth\": 0, \"ticks\": \"\"}}, \"type\": \"histogram\"}], \"histogram2d\": [{\"colorbar\": {\"outlinewidth\": 0, \"ticks\": \"\"}, \"colorscale\": [[0.0, \"#0d0887\"], [0.1111111111111111, \"#46039f\"], [0.2222222222222222, \"#7201a8\"], [0.3333333333333333, \"#9c179e\"], [0.4444444444444444, \"#bd3786\"], [0.5555555555555556, \"#d8576b\"], [0.6666666666666666, \"#ed7953\"], [0.7777777777777778, \"#fb9f3a\"], [0.8888888888888888, \"#fdca26\"], [1.0, \"#f0f921\"]], \"type\": \"histogram2d\"}], \"histogram2dcontour\": [{\"colorbar\": {\"outlinewidth\": 0, \"ticks\": \"\"}, \"colorscale\": [[0.0, \"#0d0887\"], [0.1111111111111111, \"#46039f\"], [0.2222222222222222, \"#7201a8\"], [0.3333333333333333, \"#9c179e\"], [0.4444444444444444, \"#bd3786\"], [0.5555555555555556, \"#d8576b\"], [0.6666666666666666, \"#ed7953\"], [0.7777777777777778, \"#fb9f3a\"], [0.8888888888888888, \"#fdca26\"], [1.0, \"#f0f921\"]], \"type\": \"histogram2dcontour\"}], \"mesh3d\": [{\"colorbar\": {\"outlinewidth\": 0, \"ticks\": \"\"}, \"type\": \"mesh3d\"}], \"parcoords\": [{\"line\": {\"colorbar\": {\"outlinewidth\": 0, \"ticks\": \"\"}}, \"type\": \"parcoords\"}], \"pie\": [{\"automargin\": true, \"type\": \"pie\"}], \"scatter\": [{\"marker\": {\"colorbar\": {\"outlinewidth\": 0, \"ticks\": \"\"}}, \"type\": \"scatter\"}], \"scatter3d\": [{\"line\": {\"colorbar\": {\"outlinewidth\": 0, \"ticks\": \"\"}}, \"marker\": {\"colorbar\": {\"outlinewidth\": 0, \"ticks\": \"\"}}, \"type\": \"scatter3d\"}], \"scattercarpet\": [{\"marker\": {\"colorbar\": {\"outlinewidth\": 0, \"ticks\": \"\"}}, \"type\": \"scattercarpet\"}], \"scattergeo\": [{\"marker\": {\"colorbar\": {\"outlinewidth\": 0, \"ticks\": \"\"}}, \"type\": \"scattergeo\"}], \"scattergl\": [{\"marker\": {\"colorbar\": {\"outlinewidth\": 0, \"ticks\": \"\"}}, \"type\": \"scattergl\"}], \"scattermapbox\": [{\"marker\": {\"colorbar\": {\"outlinewidth\": 0, \"ticks\": \"\"}}, \"type\": \"scattermapbox\"}], \"scatterpolar\": [{\"marker\": {\"colorbar\": {\"outlinewidth\": 0, \"ticks\": \"\"}}, \"type\": \"scatterpolar\"}], \"scatterpolargl\": [{\"marker\": {\"colorbar\": {\"outlinewidth\": 0, \"ticks\": \"\"}}, \"type\": \"scatterpolargl\"}], \"scatterternary\": [{\"marker\": {\"colorbar\": {\"outlinewidth\": 0, \"ticks\": \"\"}}, \"type\": \"scatterternary\"}], \"surface\": [{\"colorbar\": {\"outlinewidth\": 0, \"ticks\": \"\"}, \"colorscale\": [[0.0, \"#0d0887\"], [0.1111111111111111, \"#46039f\"], [0.2222222222222222, \"#7201a8\"], [0.3333333333333333, \"#9c179e\"], [0.4444444444444444, \"#bd3786\"], [0.5555555555555556, \"#d8576b\"], [0.6666666666666666, \"#ed7953\"], [0.7777777777777778, \"#fb9f3a\"], [0.8888888888888888, \"#fdca26\"], [1.0, \"#f0f921\"]], \"type\": \"surface\"}], \"table\": [{\"cells\": {\"fill\": {\"color\": \"#EBF0F8\"}, \"line\": {\"color\": \"white\"}}, \"header\": {\"fill\": {\"color\": \"#C8D4E3\"}, \"line\": {\"color\": \"white\"}}, \"type\": \"table\"}]}, \"layout\": {\"annotationdefaults\": {\"arrowcolor\": \"#2a3f5f\", \"arrowhead\": 0, \"arrowwidth\": 1}, \"coloraxis\": {\"colorbar\": {\"outlinewidth\": 0, \"ticks\": \"\"}}, \"colorscale\": {\"diverging\": [[0, \"#8e0152\"], [0.1, \"#c51b7d\"], [0.2, \"#de77ae\"], [0.3, \"#f1b6da\"], [0.4, \"#fde0ef\"], [0.5, \"#f7f7f7\"], [0.6, \"#e6f5d0\"], [0.7, \"#b8e186\"], [0.8, \"#7fbc41\"], [0.9, \"#4d9221\"], [1, \"#276419\"]], \"sequential\": [[0.0, \"#0d0887\"], [0.1111111111111111, \"#46039f\"], [0.2222222222222222, \"#7201a8\"], [0.3333333333333333, \"#9c179e\"], [0.4444444444444444, \"#bd3786\"], [0.5555555555555556, \"#d8576b\"], [0.6666666666666666, \"#ed7953\"], [0.7777777777777778, \"#fb9f3a\"], [0.8888888888888888, \"#fdca26\"], [1.0, \"#f0f921\"]], \"sequentialminus\": [[0.0, \"#0d0887\"], [0.1111111111111111, \"#46039f\"], [0.2222222222222222, \"#7201a8\"], [0.3333333333333333, \"#9c179e\"], [0.4444444444444444, \"#bd3786\"], [0.5555555555555556, \"#d8576b\"], [0.6666666666666666, \"#ed7953\"], [0.7777777777777778, \"#fb9f3a\"], [0.8888888888888888, \"#fdca26\"], [1.0, \"#f0f921\"]]}, \"colorway\": [\"#636efa\", \"#EF553B\", \"#00cc96\", \"#ab63fa\", \"#FFA15A\", \"#19d3f3\", \"#FF6692\", \"#B6E880\", \"#FF97FF\", \"#FECB52\"], \"font\": {\"color\": \"#2a3f5f\"}, \"geo\": {\"bgcolor\": \"white\", \"lakecolor\": \"white\", \"landcolor\": \"#E5ECF6\", \"showlakes\": true, \"showland\": true, \"subunitcolor\": \"white\"}, \"hoverlabel\": {\"align\": \"left\"}, \"hovermode\": \"closest\", \"mapbox\": {\"style\": \"light\"}, \"paper_bgcolor\": \"white\", \"plot_bgcolor\": \"#E5ECF6\", \"polar\": {\"angularaxis\": {\"gridcolor\": \"white\", \"linecolor\": \"white\", \"ticks\": \"\"}, \"bgcolor\": \"#E5ECF6\", \"radialaxis\": {\"gridcolor\": \"white\", \"linecolor\": \"white\", \"ticks\": \"\"}}, \"scene\": {\"xaxis\": {\"backgroundcolor\": \"#E5ECF6\", \"gridcolor\": \"white\", \"gridwidth\": 2, \"linecolor\": \"white\", \"showbackground\": true, \"ticks\": \"\", \"zerolinecolor\": \"white\"}, \"yaxis\": {\"backgroundcolor\": \"#E5ECF6\", \"gridcolor\": \"white\", \"gridwidth\": 2, \"linecolor\": \"white\", \"showbackground\": true, \"ticks\": \"\", \"zerolinecolor\": \"white\"}, \"zaxis\": {\"backgroundcolor\": \"#E5ECF6\", \"gridcolor\": \"white\", \"gridwidth\": 2, \"linecolor\": \"white\", \"showbackground\": true, \"ticks\": \"\", \"zerolinecolor\": \"white\"}}, \"shapedefaults\": {\"line\": {\"color\": \"#2a3f5f\"}}, \"ternary\": {\"aaxis\": {\"gridcolor\": \"white\", \"linecolor\": \"white\", \"ticks\": \"\"}, \"baxis\": {\"gridcolor\": \"white\", \"linecolor\": \"white\", \"ticks\": \"\"}, \"bgcolor\": \"#E5ECF6\", \"caxis\": {\"gridcolor\": \"white\", \"linecolor\": \"white\", \"ticks\": \"\"}}, \"title\": {\"x\": 0.05}, \"xaxis\": {\"automargin\": true, \"gridcolor\": \"white\", \"linecolor\": \"white\", \"ticks\": \"\", \"title\": {\"standoff\": 15}, \"zerolinecolor\": \"white\", \"zerolinewidth\": 2}, \"yaxis\": {\"automargin\": true, \"gridcolor\": \"white\", \"linecolor\": \"white\", \"ticks\": \"\", \"title\": {\"standoff\": 15}, \"zerolinecolor\": \"white\", \"zerolinewidth\": 2}}}, \"title\": {\"text\": \"Rolling Ave. of DEUTSCH wikipedia page LENGTH DIFF for last 2 minutes (Article Length old - Article Length new) \"}, \"width\": 1700, \"xaxis\": {\"tickangle\": -90, \"title\": {\"text\": \"Hour_Minute\"}}, \"yaxis\": {\"title\": {\"text\": \"Rolling average Edit Length Difference (Old - New)\"}}},\n",
              "                        {\"responsive\": true}\n",
              "                    ).then(function(){\n",
              "                            \n",
              "var gd = document.getElementById('ccaec20c-144f-4b4c-b20d-8e8220de4934');\n",
              "var x = new MutationObserver(function (mutations, observer) {{\n",
              "        var display = window.getComputedStyle(gd).display;\n",
              "        if (!display || display === 'none') {{\n",
              "            console.log([gd, 'removed!']);\n",
              "            Plotly.purge(gd);\n",
              "            observer.disconnect();\n",
              "        }}\n",
              "}});\n",
              "\n",
              "// Listen for the removal of the full notebook cells\n",
              "var notebookContainer = gd.closest('#notebook-container');\n",
              "if (notebookContainer) {{\n",
              "    x.observe(notebookContainer, {childList: true});\n",
              "}}\n",
              "\n",
              "// Listen for the clearing of the current output cell\n",
              "var outputEl = gd.closest('.output');\n",
              "if (outputEl) {{\n",
              "    x.observe(outputEl, {childList: true});\n",
              "}}\n",
              "\n",
              "                        })\n",
              "                };\n",
              "                \n",
              "            </script>\n",
              "        </div>\n",
              "</body>\n",
              "</html>"
            ]
          },
          "metadata": {
            "tags": []
          }
        }
      ]
    },
    {
      "cell_type": "markdown",
      "metadata": {
        "id": "gKBHPJhESKSJ"
      },
      "source": [
        "\n",
        "\n",
        "---\n",
        "\n"
      ]
    },
    {
      "cell_type": "markdown",
      "metadata": {
        "id": "yoFq39gWSK6d"
      },
      "source": [
        "<a name=\"10\"></a>\n",
        "**10. (Q) Rolling Avg. of comments length in German Wikipedia (comments length) ? ?**"
      ]
    },
    {
      "cell_type": "code",
      "metadata": {
        "colab": {
          "base_uri": "https://localhost:8080/",
          "height": 634
        },
        "id": "A04_lEpLuVC6",
        "cellView": "form",
        "outputId": "ca49fafe-0b65-4a68-cc43-1a6f4e81618d"
      },
      "source": [
        "#@title Run the cell\n",
        "def rol_avg_commentLen(win= 2):\n",
        "  hour_minute_deutsch_commLen                         = df[df['language'] == 'de'].groupby('hour_minute').agg('length_comment').sum().reset_index()\n",
        "  hour_minute_deutsch_commLen['rolling_avg_commLen'] = round(hour_minute_deutsch_commLen['length_comment'].rolling(window= win).mean())\n",
        "  return hour_minute_deutsch_commLen\n",
        "\n",
        "win = int(input('Enter the window length : '))\n",
        "hour_minute_deutsch_rol_avg_commLen = rol_avg_commentLen(win)\n",
        "fig = go.Figure()\n",
        "fig.add_trace(go.Scatter(x=hour_minute_deutsch_rol_avg_commLen.hour_minute, y=hour_minute_deutsch_rol_avg_commLen.rolling_avg_commLen,  text = hour_minute_deutsch_rol_avg_commLen.rolling_avg_commLen, textposition=\"top center\", textfont=dict(size= 7), mode='lines+markers+text', line= dict(width = 1.5, dash = 'dot'), marker=dict(color= 'blue', size= 7), showlegend=False ))\n",
        "fig.update_xaxes(tickangle = 270, title_font = {\"size\": 10},     title_standoff = 25,)\n",
        "fig.update_yaxes(title_font = {\"size\": 10},     title_standoff = 25)\n",
        "fig.add_trace(go.Scatter(x=['17_20'], y=[2200], text=[f\" For Rolling Avg, window used = last {win} minutes\"], mode=\"text\", showlegend= False))\n",
        "fig.update_layout(title= f'Rolling Ave. of DEUTSCH wikipedia page COMMENT LENGTH for last {win} minutes', xaxis_title='Hour_Minute', yaxis_title='Rolling average, Comment Length ', height=600, width=1700)\n",
        "fig.show()\n"
      ],
      "execution_count": null,
      "outputs": [
        {
          "output_type": "stream",
          "text": [
            "Enter the window length : 2\n"
          ],
          "name": "stdout"
        },
        {
          "output_type": "display_data",
          "data": {
            "text/html": [
              "<html>\n",
              "<head><meta charset=\"utf-8\" /></head>\n",
              "<body>\n",
              "    <div>\n",
              "            <script src=\"https://cdnjs.cloudflare.com/ajax/libs/mathjax/2.7.5/MathJax.js?config=TeX-AMS-MML_SVG\"></script><script type=\"text/javascript\">if (window.MathJax) {MathJax.Hub.Config({SVG: {font: \"STIX-Web\"}});}</script>\n",
              "                <script type=\"text/javascript\">window.PlotlyConfig = {MathJaxConfig: 'local'};</script>\n",
              "        <script src=\"https://cdn.plot.ly/plotly-latest.min.js\"></script>    \n",
              "            <div id=\"456a6d98-0029-4722-a277-8adcda2ae2f9\" class=\"plotly-graph-div\" style=\"height:600px; width:1700px;\"></div>\n",
              "            <script type=\"text/javascript\">\n",
              "                \n",
              "                    window.PLOTLYENV=window.PLOTLYENV || {};\n",
              "                    \n",
              "                if (document.getElementById(\"456a6d98-0029-4722-a277-8adcda2ae2f9\")) {\n",
              "                    Plotly.newPlot(\n",
              "                        '456a6d98-0029-4722-a277-8adcda2ae2f9',\n",
              "                        [{\"line\": {\"dash\": \"dot\", \"width\": 1.5}, \"marker\": {\"color\": \"blue\", \"size\": 7}, \"mode\": \"lines+markers+text\", \"showlegend\": false, \"text\": [null, 1110.0, 1438.0, 1108.0, 908.0, 640.0, 926.0, 1014.0, 588.0, 636.0, 934.0, 1168.0, 1160.0, 901.0, 967.0, 842.0, 732.0, 987.0, 892.0, 1128.0, 1228.0, 987.0, 996.0, 860.0, 804.0, 1348.0, 1186.0, 775.0, 1635.0, 2748.0, 2898.0, 2366.0, 1300.0, 602.0, 762.0, 496.0, 1030.0, 1287.0, 1050.0, 1073.0, 982.0, 974.0, 1262.0, 1576.0, 1242.0, 1217.0, 1168.0, 812.0, 878.0, 1504.0, 1372.0, 1220.0, 1054.0, 1182.0, 1462.0, 1045.0, 870.0, 685.0, 936.0, 976.0, 928.0, 1600.0, 1254.0], \"textfont\": {\"size\": 7}, \"textposition\": \"top center\", \"type\": \"scatter\", \"x\": [\"17_11\", \"17_12\", \"17_13\", \"17_14\", \"17_15\", \"17_16\", \"17_17\", \"17_18\", \"17_19\", \"17_20\", \"17_21\", \"17_22\", \"17_23\", \"17_24\", \"17_25\", \"17_26\", \"17_27\", \"17_28\", \"17_29\", \"17_30\", \"17_31\", \"17_32\", \"17_33\", \"17_34\", \"17_35\", \"17_36\", \"17_37\", \"17_38\", \"17_39\", \"17_40\", \"17_41\", \"17_42\", \"17_43\", \"17_44\", \"17_45\", \"17_46\", \"17_47\", \"17_48\", \"17_49\", \"17_50\", \"17_51\", \"17_52\", \"17_53\", \"17_54\", \"17_55\", \"17_56\", \"17_57\", \"17_58\", \"17_59\", \"18_00\", \"18_01\", \"18_02\", \"18_03\", \"18_04\", \"18_05\", \"18_06\", \"18_07\", \"18_08\", \"18_09\", \"18_10\", \"18_11\", \"18_12\", \"18_13\"], \"y\": [null, 1110.0, 1438.0, 1108.0, 908.0, 640.0, 926.0, 1014.0, 588.0, 636.0, 934.0, 1168.0, 1160.0, 901.0, 967.0, 842.0, 732.0, 987.0, 892.0, 1128.0, 1228.0, 987.0, 996.0, 860.0, 804.0, 1348.0, 1186.0, 775.0, 1635.0, 2748.0, 2898.0, 2366.0, 1300.0, 602.0, 762.0, 496.0, 1030.0, 1287.0, 1050.0, 1073.0, 982.0, 974.0, 1262.0, 1576.0, 1242.0, 1217.0, 1168.0, 812.0, 878.0, 1504.0, 1372.0, 1220.0, 1054.0, 1182.0, 1462.0, 1045.0, 870.0, 685.0, 936.0, 976.0, 928.0, 1600.0, 1254.0]}, {\"mode\": \"text\", \"showlegend\": false, \"text\": [\" For Rolling Avg, window used = last 2 minutes\"], \"type\": \"scatter\", \"x\": [\"17_20\"], \"y\": [2200]}],\n",
              "                        {\"height\": 600, \"template\": {\"data\": {\"bar\": [{\"error_x\": {\"color\": \"#2a3f5f\"}, \"error_y\": {\"color\": \"#2a3f5f\"}, \"marker\": {\"line\": {\"color\": \"#E5ECF6\", \"width\": 0.5}}, \"type\": \"bar\"}], \"barpolar\": [{\"marker\": {\"line\": {\"color\": \"#E5ECF6\", \"width\": 0.5}}, \"type\": \"barpolar\"}], \"carpet\": [{\"aaxis\": {\"endlinecolor\": \"#2a3f5f\", \"gridcolor\": \"white\", \"linecolor\": \"white\", \"minorgridcolor\": \"white\", \"startlinecolor\": \"#2a3f5f\"}, \"baxis\": {\"endlinecolor\": \"#2a3f5f\", \"gridcolor\": \"white\", \"linecolor\": \"white\", \"minorgridcolor\": \"white\", \"startlinecolor\": \"#2a3f5f\"}, \"type\": \"carpet\"}], \"choropleth\": [{\"colorbar\": {\"outlinewidth\": 0, \"ticks\": \"\"}, \"type\": \"choropleth\"}], \"contour\": [{\"colorbar\": {\"outlinewidth\": 0, \"ticks\": \"\"}, \"colorscale\": [[0.0, \"#0d0887\"], [0.1111111111111111, \"#46039f\"], [0.2222222222222222, \"#7201a8\"], [0.3333333333333333, \"#9c179e\"], [0.4444444444444444, \"#bd3786\"], [0.5555555555555556, \"#d8576b\"], [0.6666666666666666, \"#ed7953\"], [0.7777777777777778, \"#fb9f3a\"], [0.8888888888888888, \"#fdca26\"], [1.0, \"#f0f921\"]], \"type\": \"contour\"}], \"contourcarpet\": [{\"colorbar\": {\"outlinewidth\": 0, \"ticks\": \"\"}, \"type\": \"contourcarpet\"}], \"heatmap\": [{\"colorbar\": {\"outlinewidth\": 0, \"ticks\": \"\"}, \"colorscale\": [[0.0, \"#0d0887\"], [0.1111111111111111, \"#46039f\"], [0.2222222222222222, \"#7201a8\"], [0.3333333333333333, \"#9c179e\"], [0.4444444444444444, \"#bd3786\"], [0.5555555555555556, \"#d8576b\"], [0.6666666666666666, \"#ed7953\"], [0.7777777777777778, \"#fb9f3a\"], [0.8888888888888888, \"#fdca26\"], [1.0, \"#f0f921\"]], \"type\": \"heatmap\"}], \"heatmapgl\": [{\"colorbar\": {\"outlinewidth\": 0, \"ticks\": \"\"}, \"colorscale\": [[0.0, \"#0d0887\"], [0.1111111111111111, \"#46039f\"], [0.2222222222222222, \"#7201a8\"], [0.3333333333333333, \"#9c179e\"], [0.4444444444444444, \"#bd3786\"], [0.5555555555555556, \"#d8576b\"], [0.6666666666666666, \"#ed7953\"], [0.7777777777777778, \"#fb9f3a\"], [0.8888888888888888, \"#fdca26\"], [1.0, \"#f0f921\"]], \"type\": \"heatmapgl\"}], \"histogram\": [{\"marker\": {\"colorbar\": {\"outlinewidth\": 0, \"ticks\": \"\"}}, \"type\": \"histogram\"}], \"histogram2d\": [{\"colorbar\": {\"outlinewidth\": 0, \"ticks\": \"\"}, \"colorscale\": [[0.0, \"#0d0887\"], [0.1111111111111111, \"#46039f\"], [0.2222222222222222, \"#7201a8\"], [0.3333333333333333, \"#9c179e\"], [0.4444444444444444, \"#bd3786\"], [0.5555555555555556, \"#d8576b\"], [0.6666666666666666, \"#ed7953\"], [0.7777777777777778, \"#fb9f3a\"], [0.8888888888888888, \"#fdca26\"], [1.0, \"#f0f921\"]], \"type\": \"histogram2d\"}], \"histogram2dcontour\": [{\"colorbar\": {\"outlinewidth\": 0, \"ticks\": \"\"}, \"colorscale\": [[0.0, \"#0d0887\"], [0.1111111111111111, \"#46039f\"], [0.2222222222222222, \"#7201a8\"], [0.3333333333333333, \"#9c179e\"], [0.4444444444444444, \"#bd3786\"], [0.5555555555555556, \"#d8576b\"], [0.6666666666666666, \"#ed7953\"], [0.7777777777777778, \"#fb9f3a\"], [0.8888888888888888, \"#fdca26\"], [1.0, \"#f0f921\"]], \"type\": \"histogram2dcontour\"}], \"mesh3d\": [{\"colorbar\": {\"outlinewidth\": 0, \"ticks\": \"\"}, \"type\": \"mesh3d\"}], \"parcoords\": [{\"line\": {\"colorbar\": {\"outlinewidth\": 0, \"ticks\": \"\"}}, \"type\": \"parcoords\"}], \"pie\": [{\"automargin\": true, \"type\": \"pie\"}], \"scatter\": [{\"marker\": {\"colorbar\": {\"outlinewidth\": 0, \"ticks\": \"\"}}, \"type\": \"scatter\"}], \"scatter3d\": [{\"line\": {\"colorbar\": {\"outlinewidth\": 0, \"ticks\": \"\"}}, \"marker\": {\"colorbar\": {\"outlinewidth\": 0, \"ticks\": \"\"}}, \"type\": \"scatter3d\"}], \"scattercarpet\": [{\"marker\": {\"colorbar\": {\"outlinewidth\": 0, \"ticks\": \"\"}}, \"type\": \"scattercarpet\"}], \"scattergeo\": [{\"marker\": {\"colorbar\": {\"outlinewidth\": 0, \"ticks\": \"\"}}, \"type\": \"scattergeo\"}], \"scattergl\": [{\"marker\": {\"colorbar\": {\"outlinewidth\": 0, \"ticks\": \"\"}}, \"type\": \"scattergl\"}], \"scattermapbox\": [{\"marker\": {\"colorbar\": {\"outlinewidth\": 0, \"ticks\": \"\"}}, \"type\": \"scattermapbox\"}], \"scatterpolar\": [{\"marker\": {\"colorbar\": {\"outlinewidth\": 0, \"ticks\": \"\"}}, \"type\": \"scatterpolar\"}], \"scatterpolargl\": [{\"marker\": {\"colorbar\": {\"outlinewidth\": 0, \"ticks\": \"\"}}, \"type\": \"scatterpolargl\"}], \"scatterternary\": [{\"marker\": {\"colorbar\": {\"outlinewidth\": 0, \"ticks\": \"\"}}, \"type\": \"scatterternary\"}], \"surface\": [{\"colorbar\": {\"outlinewidth\": 0, \"ticks\": \"\"}, \"colorscale\": [[0.0, \"#0d0887\"], [0.1111111111111111, \"#46039f\"], [0.2222222222222222, \"#7201a8\"], [0.3333333333333333, \"#9c179e\"], [0.4444444444444444, \"#bd3786\"], [0.5555555555555556, \"#d8576b\"], [0.6666666666666666, \"#ed7953\"], [0.7777777777777778, \"#fb9f3a\"], [0.8888888888888888, \"#fdca26\"], [1.0, \"#f0f921\"]], \"type\": \"surface\"}], \"table\": [{\"cells\": {\"fill\": {\"color\": \"#EBF0F8\"}, \"line\": {\"color\": \"white\"}}, \"header\": {\"fill\": {\"color\": \"#C8D4E3\"}, \"line\": {\"color\": \"white\"}}, \"type\": \"table\"}]}, \"layout\": {\"annotationdefaults\": {\"arrowcolor\": \"#2a3f5f\", \"arrowhead\": 0, \"arrowwidth\": 1}, \"coloraxis\": {\"colorbar\": {\"outlinewidth\": 0, \"ticks\": \"\"}}, \"colorscale\": {\"diverging\": [[0, \"#8e0152\"], [0.1, \"#c51b7d\"], [0.2, \"#de77ae\"], [0.3, \"#f1b6da\"], [0.4, \"#fde0ef\"], [0.5, \"#f7f7f7\"], [0.6, \"#e6f5d0\"], [0.7, \"#b8e186\"], [0.8, \"#7fbc41\"], [0.9, \"#4d9221\"], [1, \"#276419\"]], \"sequential\": [[0.0, \"#0d0887\"], [0.1111111111111111, \"#46039f\"], [0.2222222222222222, \"#7201a8\"], [0.3333333333333333, \"#9c179e\"], [0.4444444444444444, \"#bd3786\"], [0.5555555555555556, \"#d8576b\"], [0.6666666666666666, \"#ed7953\"], [0.7777777777777778, \"#fb9f3a\"], [0.8888888888888888, \"#fdca26\"], [1.0, \"#f0f921\"]], \"sequentialminus\": [[0.0, \"#0d0887\"], [0.1111111111111111, \"#46039f\"], [0.2222222222222222, \"#7201a8\"], [0.3333333333333333, \"#9c179e\"], [0.4444444444444444, \"#bd3786\"], [0.5555555555555556, \"#d8576b\"], [0.6666666666666666, \"#ed7953\"], [0.7777777777777778, \"#fb9f3a\"], [0.8888888888888888, \"#fdca26\"], [1.0, \"#f0f921\"]]}, \"colorway\": [\"#636efa\", \"#EF553B\", \"#00cc96\", \"#ab63fa\", \"#FFA15A\", \"#19d3f3\", \"#FF6692\", \"#B6E880\", \"#FF97FF\", \"#FECB52\"], \"font\": {\"color\": \"#2a3f5f\"}, \"geo\": {\"bgcolor\": \"white\", \"lakecolor\": \"white\", \"landcolor\": \"#E5ECF6\", \"showlakes\": true, \"showland\": true, \"subunitcolor\": \"white\"}, \"hoverlabel\": {\"align\": \"left\"}, \"hovermode\": \"closest\", \"mapbox\": {\"style\": \"light\"}, \"paper_bgcolor\": \"white\", \"plot_bgcolor\": \"#E5ECF6\", \"polar\": {\"angularaxis\": {\"gridcolor\": \"white\", \"linecolor\": \"white\", \"ticks\": \"\"}, \"bgcolor\": \"#E5ECF6\", \"radialaxis\": {\"gridcolor\": \"white\", \"linecolor\": \"white\", \"ticks\": \"\"}}, \"scene\": {\"xaxis\": {\"backgroundcolor\": \"#E5ECF6\", \"gridcolor\": \"white\", \"gridwidth\": 2, \"linecolor\": \"white\", \"showbackground\": true, \"ticks\": \"\", \"zerolinecolor\": \"white\"}, \"yaxis\": {\"backgroundcolor\": \"#E5ECF6\", \"gridcolor\": \"white\", \"gridwidth\": 2, \"linecolor\": \"white\", \"showbackground\": true, \"ticks\": \"\", \"zerolinecolor\": \"white\"}, \"zaxis\": {\"backgroundcolor\": \"#E5ECF6\", \"gridcolor\": \"white\", \"gridwidth\": 2, \"linecolor\": \"white\", \"showbackground\": true, \"ticks\": \"\", \"zerolinecolor\": \"white\"}}, \"shapedefaults\": {\"line\": {\"color\": \"#2a3f5f\"}}, \"ternary\": {\"aaxis\": {\"gridcolor\": \"white\", \"linecolor\": \"white\", \"ticks\": \"\"}, \"baxis\": {\"gridcolor\": \"white\", \"linecolor\": \"white\", \"ticks\": \"\"}, \"bgcolor\": \"#E5ECF6\", \"caxis\": {\"gridcolor\": \"white\", \"linecolor\": \"white\", \"ticks\": \"\"}}, \"title\": {\"x\": 0.05}, \"xaxis\": {\"automargin\": true, \"gridcolor\": \"white\", \"linecolor\": \"white\", \"ticks\": \"\", \"title\": {\"standoff\": 15}, \"zerolinecolor\": \"white\", \"zerolinewidth\": 2}, \"yaxis\": {\"automargin\": true, \"gridcolor\": \"white\", \"linecolor\": \"white\", \"ticks\": \"\", \"title\": {\"standoff\": 15}, \"zerolinecolor\": \"white\", \"zerolinewidth\": 2}}}, \"title\": {\"text\": \"Rolling Ave. of DEUTSCH wikipedia page COMMENT LENGTH for last 2 minutes\"}, \"width\": 1700, \"xaxis\": {\"tickangle\": -90, \"title\": {\"text\": \"Hour_Minute\"}}, \"yaxis\": {\"title\": {\"text\": \"Rolling average, Comment Length \"}}},\n",
              "                        {\"responsive\": true}\n",
              "                    ).then(function(){\n",
              "                            \n",
              "var gd = document.getElementById('456a6d98-0029-4722-a277-8adcda2ae2f9');\n",
              "var x = new MutationObserver(function (mutations, observer) {{\n",
              "        var display = window.getComputedStyle(gd).display;\n",
              "        if (!display || display === 'none') {{\n",
              "            console.log([gd, 'removed!']);\n",
              "            Plotly.purge(gd);\n",
              "            observer.disconnect();\n",
              "        }}\n",
              "}});\n",
              "\n",
              "// Listen for the removal of the full notebook cells\n",
              "var notebookContainer = gd.closest('#notebook-container');\n",
              "if (notebookContainer) {{\n",
              "    x.observe(notebookContainer, {childList: true});\n",
              "}}\n",
              "\n",
              "// Listen for the clearing of the current output cell\n",
              "var outputEl = gd.closest('.output');\n",
              "if (outputEl) {{\n",
              "    x.observe(outputEl, {childList: true});\n",
              "}}\n",
              "\n",
              "                        })\n",
              "                };\n",
              "                \n",
              "            </script>\n",
              "        </div>\n",
              "</body>\n",
              "</html>"
            ]
          },
          "metadata": {
            "tags": []
          }
        }
      ]
    },
    {
      "cell_type": "markdown",
      "metadata": {
        "id": "YMFkbFBTSX3A"
      },
      "source": [
        "\n",
        "\n",
        "---\n",
        "\n"
      ]
    },
    {
      "cell_type": "markdown",
      "metadata": {
        "id": "jU3e5AxSSZSx"
      },
      "source": [
        "<a name=\"11\"></a>\n",
        "**11. Top 5 German URL's edited multiple times during the given time frame**"
      ]
    },
    {
      "cell_type": "code",
      "metadata": {
        "colab": {
          "base_uri": "https://localhost:8080/"
        },
        "id": "5tzAa6rBX-ay",
        "outputId": "373dfe99-c18f-4865-fac3-fbdff21b3d1a"
      },
      "source": [
        "df_german.df_german.value_counts()[:5]"
      ],
      "execution_count": null,
      "outputs": [
        {
          "output_type": "execute_result",
          "data": {
            "text/plain": [
              "https://de.wikipedia.org/wiki/Wikipedia:L%C3%B6schkandidaten/21._Januar_2021    42\n",
              "https://de.wikipedia.org/wiki/Namibia-Dollar                                    19\n",
              "https://de.wikipedia.org/wiki/Benutzer:Mathecrat/Temp                           13\n",
              "https://de.wikipedia.org/wiki/Lewis_Capaldi                                     12\n",
              "https://de.wikipedia.org/wiki/Diskussion:Karl_Astel                             12\n",
              "Name: meta_uri, dtype: int64"
            ]
          },
          "metadata": {
            "tags": []
          },
          "execution_count": 21
        }
      ]
    },
    {
      "cell_type": "code",
      "metadata": {
        "colab": {
          "base_uri": "https://localhost:8080/",
          "height": 1000
        },
        "id": "wGONacrZjVfF",
        "cellView": "form",
        "outputId": "e5597f7a-0eca-4625-bc87-a4a602a9ee9a"
      },
      "source": [
        "#@title Run the cell\n",
        "def URL_count_fn(N = int(input('Enter the value to filter top 10 URL webpages :'))):\n",
        "  # N         = int(input('Enter the value (up to filter top 10) URL webpages :'))\n",
        "  top_n_url = df_german.meta_uri.value_counts()[:N]\n",
        "  X         = df_german.hour_minute.unique()\n",
        "  color  = {0 : 'red', 1 : '#1f77b4', 2 : '#ff7f0e', 3: '#2ca02c', 4 : '#d62728',  5 : '#9467bd', 6 : '#8c564b', 7: '#e377c2', 8 : '#7f7f7f', 9 :  '#bcbd22', 10:'#17becf' }\n",
        "  for i in range(N):\n",
        "    url     = top_n_url.index[i]\n",
        "    y = [df_subset[df_subset['meta_uri'] == url].shape[0] if df_subset[df_subset['meta_uri'] == url].shape[0] != 0 else 0 for _, df_subset in df_german.groupby('hour_minute')]\n",
        "    fig = go.Figure()\n",
        "    # fig.add_trace(go.Bar(x=X, y= y,  text = y, textposition=\"outside\", textfont=dict(size=9), marker_color = color[i],  showlegend = False))\n",
        "    fig.add_trace(go.Scatter(x= X, y=y,  mode='lines+markers+text', text = y, textposition=\"top center\", textfont=dict(size=9), line= dict(width = 1.5), marker=dict(color= color[i], size= 5,), showlegend = False))\n",
        "    fig.update_xaxes(tickangle = 270, title_font = {\"size\": 10},     title_standoff = 25)\n",
        "    fig.update_yaxes(title_font = {\"size\": 10},     title_standoff = 25)\n",
        "    fig.update_layout(title= 'URL = ' + url + ' &  Total Count = '  + str(top_n_url.values[i]), xaxis_title='Hour_Minute', yaxis_title='URL Count (per min)', height=500, width=1700)\n",
        "    fig.show()\n",
        "  return\n",
        "  \n",
        "URL_count_fn()"
      ],
      "execution_count": null,
      "outputs": [
        {
          "output_type": "stream",
          "text": [
            "Enter the value to filter top 10 URL webpages :5\n"
          ],
          "name": "stdout"
        },
        {
          "output_type": "display_data",
          "data": {
            "text/html": [
              "<html>\n",
              "<head><meta charset=\"utf-8\" /></head>\n",
              "<body>\n",
              "    <div>\n",
              "            <script src=\"https://cdnjs.cloudflare.com/ajax/libs/mathjax/2.7.5/MathJax.js?config=TeX-AMS-MML_SVG\"></script><script type=\"text/javascript\">if (window.MathJax) {MathJax.Hub.Config({SVG: {font: \"STIX-Web\"}});}</script>\n",
              "                <script type=\"text/javascript\">window.PlotlyConfig = {MathJaxConfig: 'local'};</script>\n",
              "        <script src=\"https://cdn.plot.ly/plotly-latest.min.js\"></script>    \n",
              "            <div id=\"3e73ea31-e0e6-47e1-8261-eda87a3dd662\" class=\"plotly-graph-div\" style=\"height:500px; width:1700px;\"></div>\n",
              "            <script type=\"text/javascript\">\n",
              "                \n",
              "                    window.PLOTLYENV=window.PLOTLYENV || {};\n",
              "                    \n",
              "                if (document.getElementById(\"3e73ea31-e0e6-47e1-8261-eda87a3dd662\")) {\n",
              "                    Plotly.newPlot(\n",
              "                        '3e73ea31-e0e6-47e1-8261-eda87a3dd662',\n",
              "                        [{\"line\": {\"width\": 1.5}, \"marker\": {\"color\": \"red\", \"size\": 5}, \"mode\": \"lines+markers+text\", \"showlegend\": false, \"text\": [\"0\", \"1\", \"0\", \"0\", \"0\", \"0\", \"0\", \"2\", \"1\", \"1\", \"0\", \"1\", \"0\", \"0\", \"1\", \"0\", \"1\", \"4\", \"2\", \"0\", \"1\", \"2\", \"1\", \"1\", \"0\", \"1\", \"1\", \"1\", \"1\", \"0\", \"0\", \"1\", \"0\", \"0\", \"0\", \"0\", \"1\", \"1\", \"0\", \"1\", \"0\", \"1\", \"1\", \"0\", \"0\", \"1\", \"0\", \"1\", \"0\", \"1\", \"1\", \"0\", \"0\", \"0\", \"1\", \"0\", \"0\", \"0\", \"1\", \"1\", \"2\", \"3\", \"1\"], \"textfont\": {\"size\": 9}, \"textposition\": \"top center\", \"type\": \"scatter\", \"x\": [\"17_11\", \"17_12\", \"17_13\", \"17_14\", \"17_15\", \"17_16\", \"17_17\", \"17_18\", \"17_19\", \"17_20\", \"17_21\", \"17_22\", \"17_23\", \"17_24\", \"17_25\", \"17_26\", \"17_27\", \"17_28\", \"17_29\", \"17_30\", \"17_31\", \"17_32\", \"17_33\", \"17_34\", \"17_35\", \"17_36\", \"17_37\", \"17_38\", \"17_39\", \"17_40\", \"17_41\", \"17_42\", \"17_43\", \"17_44\", \"17_45\", \"17_46\", \"17_47\", \"17_48\", \"17_49\", \"17_50\", \"17_51\", \"17_52\", \"17_53\", \"17_54\", \"17_55\", \"17_56\", \"17_57\", \"17_58\", \"17_59\", \"18_00\", \"18_01\", \"18_02\", \"18_03\", \"18_04\", \"18_05\", \"18_06\", \"18_07\", \"18_08\", \"18_09\", \"18_10\", \"18_11\", \"18_12\", \"18_13\"], \"y\": [0, 1, 0, 0, 0, 0, 0, 2, 1, 1, 0, 1, 0, 0, 1, 0, 1, 4, 2, 0, 1, 2, 1, 1, 0, 1, 1, 1, 1, 0, 0, 1, 0, 0, 0, 0, 1, 1, 0, 1, 0, 1, 1, 0, 0, 1, 0, 1, 0, 1, 1, 0, 0, 0, 1, 0, 0, 0, 1, 1, 2, 3, 1]}],\n",
              "                        {\"height\": 500, \"template\": {\"data\": {\"bar\": [{\"error_x\": {\"color\": \"#2a3f5f\"}, \"error_y\": {\"color\": \"#2a3f5f\"}, \"marker\": {\"line\": {\"color\": \"#E5ECF6\", \"width\": 0.5}}, \"type\": \"bar\"}], \"barpolar\": [{\"marker\": {\"line\": {\"color\": \"#E5ECF6\", \"width\": 0.5}}, \"type\": \"barpolar\"}], \"carpet\": [{\"aaxis\": {\"endlinecolor\": \"#2a3f5f\", \"gridcolor\": \"white\", \"linecolor\": \"white\", \"minorgridcolor\": \"white\", \"startlinecolor\": \"#2a3f5f\"}, \"baxis\": {\"endlinecolor\": \"#2a3f5f\", \"gridcolor\": \"white\", \"linecolor\": \"white\", \"minorgridcolor\": \"white\", \"startlinecolor\": \"#2a3f5f\"}, \"type\": \"carpet\"}], \"choropleth\": [{\"colorbar\": {\"outlinewidth\": 0, \"ticks\": \"\"}, \"type\": \"choropleth\"}], \"contour\": [{\"colorbar\": {\"outlinewidth\": 0, \"ticks\": \"\"}, \"colorscale\": [[0.0, \"#0d0887\"], [0.1111111111111111, \"#46039f\"], [0.2222222222222222, \"#7201a8\"], [0.3333333333333333, \"#9c179e\"], [0.4444444444444444, \"#bd3786\"], [0.5555555555555556, \"#d8576b\"], [0.6666666666666666, \"#ed7953\"], [0.7777777777777778, \"#fb9f3a\"], [0.8888888888888888, \"#fdca26\"], [1.0, \"#f0f921\"]], \"type\": \"contour\"}], \"contourcarpet\": [{\"colorbar\": {\"outlinewidth\": 0, \"ticks\": \"\"}, \"type\": \"contourcarpet\"}], \"heatmap\": [{\"colorbar\": {\"outlinewidth\": 0, \"ticks\": \"\"}, \"colorscale\": [[0.0, \"#0d0887\"], [0.1111111111111111, \"#46039f\"], [0.2222222222222222, \"#7201a8\"], [0.3333333333333333, \"#9c179e\"], [0.4444444444444444, \"#bd3786\"], [0.5555555555555556, \"#d8576b\"], [0.6666666666666666, \"#ed7953\"], [0.7777777777777778, \"#fb9f3a\"], [0.8888888888888888, \"#fdca26\"], [1.0, \"#f0f921\"]], \"type\": \"heatmap\"}], \"heatmapgl\": [{\"colorbar\": {\"outlinewidth\": 0, \"ticks\": \"\"}, \"colorscale\": [[0.0, \"#0d0887\"], [0.1111111111111111, \"#46039f\"], [0.2222222222222222, \"#7201a8\"], [0.3333333333333333, \"#9c179e\"], [0.4444444444444444, \"#bd3786\"], [0.5555555555555556, \"#d8576b\"], [0.6666666666666666, \"#ed7953\"], [0.7777777777777778, \"#fb9f3a\"], [0.8888888888888888, \"#fdca26\"], [1.0, \"#f0f921\"]], \"type\": \"heatmapgl\"}], \"histogram\": [{\"marker\": {\"colorbar\": {\"outlinewidth\": 0, \"ticks\": \"\"}}, \"type\": \"histogram\"}], \"histogram2d\": [{\"colorbar\": {\"outlinewidth\": 0, \"ticks\": \"\"}, \"colorscale\": [[0.0, \"#0d0887\"], [0.1111111111111111, \"#46039f\"], [0.2222222222222222, \"#7201a8\"], [0.3333333333333333, \"#9c179e\"], [0.4444444444444444, \"#bd3786\"], [0.5555555555555556, \"#d8576b\"], [0.6666666666666666, \"#ed7953\"], [0.7777777777777778, \"#fb9f3a\"], [0.8888888888888888, \"#fdca26\"], [1.0, \"#f0f921\"]], \"type\": \"histogram2d\"}], \"histogram2dcontour\": [{\"colorbar\": {\"outlinewidth\": 0, \"ticks\": \"\"}, \"colorscale\": [[0.0, \"#0d0887\"], [0.1111111111111111, \"#46039f\"], [0.2222222222222222, \"#7201a8\"], [0.3333333333333333, \"#9c179e\"], [0.4444444444444444, \"#bd3786\"], [0.5555555555555556, \"#d8576b\"], [0.6666666666666666, \"#ed7953\"], [0.7777777777777778, \"#fb9f3a\"], [0.8888888888888888, \"#fdca26\"], [1.0, \"#f0f921\"]], \"type\": \"histogram2dcontour\"}], \"mesh3d\": [{\"colorbar\": {\"outlinewidth\": 0, \"ticks\": \"\"}, \"type\": \"mesh3d\"}], \"parcoords\": [{\"line\": {\"colorbar\": {\"outlinewidth\": 0, \"ticks\": \"\"}}, \"type\": \"parcoords\"}], \"pie\": [{\"automargin\": true, \"type\": \"pie\"}], \"scatter\": [{\"marker\": {\"colorbar\": {\"outlinewidth\": 0, \"ticks\": \"\"}}, \"type\": \"scatter\"}], \"scatter3d\": [{\"line\": {\"colorbar\": {\"outlinewidth\": 0, \"ticks\": \"\"}}, \"marker\": {\"colorbar\": {\"outlinewidth\": 0, \"ticks\": \"\"}}, \"type\": \"scatter3d\"}], \"scattercarpet\": [{\"marker\": {\"colorbar\": {\"outlinewidth\": 0, \"ticks\": \"\"}}, \"type\": \"scattercarpet\"}], \"scattergeo\": [{\"marker\": {\"colorbar\": {\"outlinewidth\": 0, \"ticks\": \"\"}}, \"type\": \"scattergeo\"}], \"scattergl\": [{\"marker\": {\"colorbar\": {\"outlinewidth\": 0, \"ticks\": \"\"}}, \"type\": \"scattergl\"}], \"scattermapbox\": [{\"marker\": {\"colorbar\": {\"outlinewidth\": 0, \"ticks\": \"\"}}, \"type\": \"scattermapbox\"}], \"scatterpolar\": [{\"marker\": {\"colorbar\": {\"outlinewidth\": 0, \"ticks\": \"\"}}, \"type\": \"scatterpolar\"}], \"scatterpolargl\": [{\"marker\": {\"colorbar\": {\"outlinewidth\": 0, \"ticks\": \"\"}}, \"type\": \"scatterpolargl\"}], \"scatterternary\": [{\"marker\": {\"colorbar\": {\"outlinewidth\": 0, \"ticks\": \"\"}}, \"type\": \"scatterternary\"}], \"surface\": [{\"colorbar\": {\"outlinewidth\": 0, \"ticks\": \"\"}, \"colorscale\": [[0.0, \"#0d0887\"], [0.1111111111111111, \"#46039f\"], [0.2222222222222222, \"#7201a8\"], [0.3333333333333333, \"#9c179e\"], [0.4444444444444444, \"#bd3786\"], [0.5555555555555556, \"#d8576b\"], [0.6666666666666666, \"#ed7953\"], [0.7777777777777778, \"#fb9f3a\"], [0.8888888888888888, \"#fdca26\"], [1.0, \"#f0f921\"]], \"type\": \"surface\"}], \"table\": [{\"cells\": {\"fill\": {\"color\": \"#EBF0F8\"}, \"line\": {\"color\": \"white\"}}, \"header\": {\"fill\": {\"color\": \"#C8D4E3\"}, \"line\": {\"color\": \"white\"}}, \"type\": \"table\"}]}, \"layout\": {\"annotationdefaults\": {\"arrowcolor\": \"#2a3f5f\", \"arrowhead\": 0, \"arrowwidth\": 1}, \"coloraxis\": {\"colorbar\": {\"outlinewidth\": 0, \"ticks\": \"\"}}, \"colorscale\": {\"diverging\": [[0, \"#8e0152\"], [0.1, \"#c51b7d\"], [0.2, \"#de77ae\"], [0.3, \"#f1b6da\"], [0.4, \"#fde0ef\"], [0.5, \"#f7f7f7\"], [0.6, \"#e6f5d0\"], [0.7, \"#b8e186\"], [0.8, \"#7fbc41\"], [0.9, \"#4d9221\"], [1, \"#276419\"]], \"sequential\": [[0.0, \"#0d0887\"], [0.1111111111111111, \"#46039f\"], [0.2222222222222222, \"#7201a8\"], [0.3333333333333333, \"#9c179e\"], [0.4444444444444444, \"#bd3786\"], [0.5555555555555556, \"#d8576b\"], [0.6666666666666666, \"#ed7953\"], [0.7777777777777778, \"#fb9f3a\"], [0.8888888888888888, \"#fdca26\"], [1.0, \"#f0f921\"]], \"sequentialminus\": [[0.0, \"#0d0887\"], [0.1111111111111111, \"#46039f\"], [0.2222222222222222, \"#7201a8\"], [0.3333333333333333, \"#9c179e\"], [0.4444444444444444, \"#bd3786\"], [0.5555555555555556, \"#d8576b\"], [0.6666666666666666, \"#ed7953\"], [0.7777777777777778, \"#fb9f3a\"], [0.8888888888888888, \"#fdca26\"], [1.0, \"#f0f921\"]]}, \"colorway\": [\"#636efa\", \"#EF553B\", \"#00cc96\", \"#ab63fa\", \"#FFA15A\", \"#19d3f3\", \"#FF6692\", \"#B6E880\", \"#FF97FF\", \"#FECB52\"], \"font\": {\"color\": \"#2a3f5f\"}, \"geo\": {\"bgcolor\": \"white\", \"lakecolor\": \"white\", \"landcolor\": \"#E5ECF6\", \"showlakes\": true, \"showland\": true, \"subunitcolor\": \"white\"}, \"hoverlabel\": {\"align\": \"left\"}, \"hovermode\": \"closest\", \"mapbox\": {\"style\": \"light\"}, \"paper_bgcolor\": \"white\", \"plot_bgcolor\": \"#E5ECF6\", \"polar\": {\"angularaxis\": {\"gridcolor\": \"white\", \"linecolor\": \"white\", \"ticks\": \"\"}, \"bgcolor\": \"#E5ECF6\", \"radialaxis\": {\"gridcolor\": \"white\", \"linecolor\": \"white\", \"ticks\": \"\"}}, \"scene\": {\"xaxis\": {\"backgroundcolor\": \"#E5ECF6\", \"gridcolor\": \"white\", \"gridwidth\": 2, \"linecolor\": \"white\", \"showbackground\": true, \"ticks\": \"\", \"zerolinecolor\": \"white\"}, \"yaxis\": {\"backgroundcolor\": \"#E5ECF6\", \"gridcolor\": \"white\", \"gridwidth\": 2, \"linecolor\": \"white\", \"showbackground\": true, \"ticks\": \"\", \"zerolinecolor\": \"white\"}, \"zaxis\": {\"backgroundcolor\": \"#E5ECF6\", \"gridcolor\": \"white\", \"gridwidth\": 2, \"linecolor\": \"white\", \"showbackground\": true, \"ticks\": \"\", \"zerolinecolor\": \"white\"}}, \"shapedefaults\": {\"line\": {\"color\": \"#2a3f5f\"}}, \"ternary\": {\"aaxis\": {\"gridcolor\": \"white\", \"linecolor\": \"white\", \"ticks\": \"\"}, \"baxis\": {\"gridcolor\": \"white\", \"linecolor\": \"white\", \"ticks\": \"\"}, \"bgcolor\": \"#E5ECF6\", \"caxis\": {\"gridcolor\": \"white\", \"linecolor\": \"white\", \"ticks\": \"\"}}, \"title\": {\"x\": 0.05}, \"xaxis\": {\"automargin\": true, \"gridcolor\": \"white\", \"linecolor\": \"white\", \"ticks\": \"\", \"title\": {\"standoff\": 15}, \"zerolinecolor\": \"white\", \"zerolinewidth\": 2}, \"yaxis\": {\"automargin\": true, \"gridcolor\": \"white\", \"linecolor\": \"white\", \"ticks\": \"\", \"title\": {\"standoff\": 15}, \"zerolinecolor\": \"white\", \"zerolinewidth\": 2}}}, \"title\": {\"text\": \"URL = https://de.wikipedia.org/wiki/Wikipedia:L%C3%B6schkandidaten/21._Januar_2021 &  Total Count = 42\"}, \"width\": 1700, \"xaxis\": {\"tickangle\": -90, \"title\": {\"text\": \"Hour_Minute\"}}, \"yaxis\": {\"title\": {\"text\": \"URL Count (per min)\"}}},\n",
              "                        {\"responsive\": true}\n",
              "                    ).then(function(){\n",
              "                            \n",
              "var gd = document.getElementById('3e73ea31-e0e6-47e1-8261-eda87a3dd662');\n",
              "var x = new MutationObserver(function (mutations, observer) {{\n",
              "        var display = window.getComputedStyle(gd).display;\n",
              "        if (!display || display === 'none') {{\n",
              "            console.log([gd, 'removed!']);\n",
              "            Plotly.purge(gd);\n",
              "            observer.disconnect();\n",
              "        }}\n",
              "}});\n",
              "\n",
              "// Listen for the removal of the full notebook cells\n",
              "var notebookContainer = gd.closest('#notebook-container');\n",
              "if (notebookContainer) {{\n",
              "    x.observe(notebookContainer, {childList: true});\n",
              "}}\n",
              "\n",
              "// Listen for the clearing of the current output cell\n",
              "var outputEl = gd.closest('.output');\n",
              "if (outputEl) {{\n",
              "    x.observe(outputEl, {childList: true});\n",
              "}}\n",
              "\n",
              "                        })\n",
              "                };\n",
              "                \n",
              "            </script>\n",
              "        </div>\n",
              "</body>\n",
              "</html>"
            ]
          },
          "metadata": {
            "tags": []
          }
        },
        {
          "output_type": "display_data",
          "data": {
            "text/html": [
              "<html>\n",
              "<head><meta charset=\"utf-8\" /></head>\n",
              "<body>\n",
              "    <div>\n",
              "            <script src=\"https://cdnjs.cloudflare.com/ajax/libs/mathjax/2.7.5/MathJax.js?config=TeX-AMS-MML_SVG\"></script><script type=\"text/javascript\">if (window.MathJax) {MathJax.Hub.Config({SVG: {font: \"STIX-Web\"}});}</script>\n",
              "                <script type=\"text/javascript\">window.PlotlyConfig = {MathJaxConfig: 'local'};</script>\n",
              "        <script src=\"https://cdn.plot.ly/plotly-latest.min.js\"></script>    \n",
              "            <div id=\"fc8875bd-195c-4335-bdab-54dfc0db3694\" class=\"plotly-graph-div\" style=\"height:500px; width:1700px;\"></div>\n",
              "            <script type=\"text/javascript\">\n",
              "                \n",
              "                    window.PLOTLYENV=window.PLOTLYENV || {};\n",
              "                    \n",
              "                if (document.getElementById(\"fc8875bd-195c-4335-bdab-54dfc0db3694\")) {\n",
              "                    Plotly.newPlot(\n",
              "                        'fc8875bd-195c-4335-bdab-54dfc0db3694',\n",
              "                        [{\"line\": {\"width\": 1.5}, \"marker\": {\"color\": \"#1f77b4\", \"size\": 5}, \"mode\": \"lines+markers+text\", \"showlegend\": false, \"text\": [\"0\", \"0\", \"0\", \"0\", \"0\", \"0\", \"0\", \"0\", \"0\", \"0\", \"0\", \"0\", \"0\", \"0\", \"0\", \"0\", \"0\", \"0\", \"0\", \"0\", \"0\", \"0\", \"0\", \"0\", \"0\", \"0\", \"0\", \"0\", \"0\", \"7\", \"5\", \"7\", \"0\", \"0\", \"0\", \"0\", \"0\", \"0\", \"0\", \"0\", \"0\", \"0\", \"0\", \"0\", \"0\", \"0\", \"0\", \"0\", \"0\", \"0\", \"0\", \"0\", \"0\", \"0\", \"0\", \"0\", \"0\", \"0\", \"0\", \"0\", \"0\", \"0\", \"0\"], \"textfont\": {\"size\": 9}, \"textposition\": \"top center\", \"type\": \"scatter\", \"x\": [\"17_11\", \"17_12\", \"17_13\", \"17_14\", \"17_15\", \"17_16\", \"17_17\", \"17_18\", \"17_19\", \"17_20\", \"17_21\", \"17_22\", \"17_23\", \"17_24\", \"17_25\", \"17_26\", \"17_27\", \"17_28\", \"17_29\", \"17_30\", \"17_31\", \"17_32\", \"17_33\", \"17_34\", \"17_35\", \"17_36\", \"17_37\", \"17_38\", \"17_39\", \"17_40\", \"17_41\", \"17_42\", \"17_43\", \"17_44\", \"17_45\", \"17_46\", \"17_47\", \"17_48\", \"17_49\", \"17_50\", \"17_51\", \"17_52\", \"17_53\", \"17_54\", \"17_55\", \"17_56\", \"17_57\", \"17_58\", \"17_59\", \"18_00\", \"18_01\", \"18_02\", \"18_03\", \"18_04\", \"18_05\", \"18_06\", \"18_07\", \"18_08\", \"18_09\", \"18_10\", \"18_11\", \"18_12\", \"18_13\"], \"y\": [0, 0, 0, 0, 0, 0, 0, 0, 0, 0, 0, 0, 0, 0, 0, 0, 0, 0, 0, 0, 0, 0, 0, 0, 0, 0, 0, 0, 0, 7, 5, 7, 0, 0, 0, 0, 0, 0, 0, 0, 0, 0, 0, 0, 0, 0, 0, 0, 0, 0, 0, 0, 0, 0, 0, 0, 0, 0, 0, 0, 0, 0, 0]}],\n",
              "                        {\"height\": 500, \"template\": {\"data\": {\"bar\": [{\"error_x\": {\"color\": \"#2a3f5f\"}, \"error_y\": {\"color\": \"#2a3f5f\"}, \"marker\": {\"line\": {\"color\": \"#E5ECF6\", \"width\": 0.5}}, \"type\": \"bar\"}], \"barpolar\": [{\"marker\": {\"line\": {\"color\": \"#E5ECF6\", \"width\": 0.5}}, \"type\": \"barpolar\"}], \"carpet\": [{\"aaxis\": {\"endlinecolor\": \"#2a3f5f\", \"gridcolor\": \"white\", \"linecolor\": \"white\", \"minorgridcolor\": \"white\", \"startlinecolor\": \"#2a3f5f\"}, \"baxis\": {\"endlinecolor\": \"#2a3f5f\", \"gridcolor\": \"white\", \"linecolor\": \"white\", \"minorgridcolor\": \"white\", \"startlinecolor\": \"#2a3f5f\"}, \"type\": \"carpet\"}], \"choropleth\": [{\"colorbar\": {\"outlinewidth\": 0, \"ticks\": \"\"}, \"type\": \"choropleth\"}], \"contour\": [{\"colorbar\": {\"outlinewidth\": 0, \"ticks\": \"\"}, \"colorscale\": [[0.0, \"#0d0887\"], [0.1111111111111111, \"#46039f\"], [0.2222222222222222, \"#7201a8\"], [0.3333333333333333, \"#9c179e\"], [0.4444444444444444, \"#bd3786\"], [0.5555555555555556, \"#d8576b\"], [0.6666666666666666, \"#ed7953\"], [0.7777777777777778, \"#fb9f3a\"], [0.8888888888888888, \"#fdca26\"], [1.0, \"#f0f921\"]], \"type\": \"contour\"}], \"contourcarpet\": [{\"colorbar\": {\"outlinewidth\": 0, \"ticks\": \"\"}, \"type\": \"contourcarpet\"}], \"heatmap\": [{\"colorbar\": {\"outlinewidth\": 0, \"ticks\": \"\"}, \"colorscale\": [[0.0, \"#0d0887\"], [0.1111111111111111, \"#46039f\"], [0.2222222222222222, \"#7201a8\"], [0.3333333333333333, \"#9c179e\"], [0.4444444444444444, \"#bd3786\"], [0.5555555555555556, \"#d8576b\"], [0.6666666666666666, \"#ed7953\"], [0.7777777777777778, \"#fb9f3a\"], [0.8888888888888888, \"#fdca26\"], [1.0, \"#f0f921\"]], \"type\": \"heatmap\"}], \"heatmapgl\": [{\"colorbar\": {\"outlinewidth\": 0, \"ticks\": \"\"}, \"colorscale\": [[0.0, \"#0d0887\"], [0.1111111111111111, \"#46039f\"], [0.2222222222222222, \"#7201a8\"], [0.3333333333333333, \"#9c179e\"], [0.4444444444444444, \"#bd3786\"], [0.5555555555555556, \"#d8576b\"], [0.6666666666666666, \"#ed7953\"], [0.7777777777777778, \"#fb9f3a\"], [0.8888888888888888, \"#fdca26\"], [1.0, \"#f0f921\"]], \"type\": \"heatmapgl\"}], \"histogram\": [{\"marker\": {\"colorbar\": {\"outlinewidth\": 0, \"ticks\": \"\"}}, \"type\": \"histogram\"}], \"histogram2d\": [{\"colorbar\": {\"outlinewidth\": 0, \"ticks\": \"\"}, \"colorscale\": [[0.0, \"#0d0887\"], [0.1111111111111111, \"#46039f\"], [0.2222222222222222, \"#7201a8\"], [0.3333333333333333, \"#9c179e\"], [0.4444444444444444, \"#bd3786\"], [0.5555555555555556, \"#d8576b\"], [0.6666666666666666, \"#ed7953\"], [0.7777777777777778, \"#fb9f3a\"], [0.8888888888888888, \"#fdca26\"], [1.0, \"#f0f921\"]], \"type\": \"histogram2d\"}], \"histogram2dcontour\": [{\"colorbar\": {\"outlinewidth\": 0, \"ticks\": \"\"}, \"colorscale\": [[0.0, \"#0d0887\"], [0.1111111111111111, \"#46039f\"], [0.2222222222222222, \"#7201a8\"], [0.3333333333333333, \"#9c179e\"], [0.4444444444444444, \"#bd3786\"], [0.5555555555555556, \"#d8576b\"], [0.6666666666666666, \"#ed7953\"], [0.7777777777777778, \"#fb9f3a\"], [0.8888888888888888, \"#fdca26\"], [1.0, \"#f0f921\"]], \"type\": \"histogram2dcontour\"}], \"mesh3d\": [{\"colorbar\": {\"outlinewidth\": 0, \"ticks\": \"\"}, \"type\": \"mesh3d\"}], \"parcoords\": [{\"line\": {\"colorbar\": {\"outlinewidth\": 0, \"ticks\": \"\"}}, \"type\": \"parcoords\"}], \"pie\": [{\"automargin\": true, \"type\": \"pie\"}], \"scatter\": [{\"marker\": {\"colorbar\": {\"outlinewidth\": 0, \"ticks\": \"\"}}, \"type\": \"scatter\"}], \"scatter3d\": [{\"line\": {\"colorbar\": {\"outlinewidth\": 0, \"ticks\": \"\"}}, \"marker\": {\"colorbar\": {\"outlinewidth\": 0, \"ticks\": \"\"}}, \"type\": \"scatter3d\"}], \"scattercarpet\": [{\"marker\": {\"colorbar\": {\"outlinewidth\": 0, \"ticks\": \"\"}}, \"type\": \"scattercarpet\"}], \"scattergeo\": [{\"marker\": {\"colorbar\": {\"outlinewidth\": 0, \"ticks\": \"\"}}, \"type\": \"scattergeo\"}], \"scattergl\": [{\"marker\": {\"colorbar\": {\"outlinewidth\": 0, \"ticks\": \"\"}}, \"type\": \"scattergl\"}], \"scattermapbox\": [{\"marker\": {\"colorbar\": {\"outlinewidth\": 0, \"ticks\": \"\"}}, \"type\": \"scattermapbox\"}], \"scatterpolar\": [{\"marker\": {\"colorbar\": {\"outlinewidth\": 0, \"ticks\": \"\"}}, \"type\": \"scatterpolar\"}], \"scatterpolargl\": [{\"marker\": {\"colorbar\": {\"outlinewidth\": 0, \"ticks\": \"\"}}, \"type\": \"scatterpolargl\"}], \"scatterternary\": [{\"marker\": {\"colorbar\": {\"outlinewidth\": 0, \"ticks\": \"\"}}, \"type\": \"scatterternary\"}], \"surface\": [{\"colorbar\": {\"outlinewidth\": 0, \"ticks\": \"\"}, \"colorscale\": [[0.0, \"#0d0887\"], [0.1111111111111111, \"#46039f\"], [0.2222222222222222, \"#7201a8\"], [0.3333333333333333, \"#9c179e\"], [0.4444444444444444, \"#bd3786\"], [0.5555555555555556, \"#d8576b\"], [0.6666666666666666, \"#ed7953\"], [0.7777777777777778, \"#fb9f3a\"], [0.8888888888888888, \"#fdca26\"], [1.0, \"#f0f921\"]], \"type\": \"surface\"}], \"table\": [{\"cells\": {\"fill\": {\"color\": \"#EBF0F8\"}, \"line\": {\"color\": \"white\"}}, \"header\": {\"fill\": {\"color\": \"#C8D4E3\"}, \"line\": {\"color\": \"white\"}}, \"type\": \"table\"}]}, \"layout\": {\"annotationdefaults\": {\"arrowcolor\": \"#2a3f5f\", \"arrowhead\": 0, \"arrowwidth\": 1}, \"coloraxis\": {\"colorbar\": {\"outlinewidth\": 0, \"ticks\": \"\"}}, \"colorscale\": {\"diverging\": [[0, \"#8e0152\"], [0.1, \"#c51b7d\"], [0.2, \"#de77ae\"], [0.3, \"#f1b6da\"], [0.4, \"#fde0ef\"], [0.5, \"#f7f7f7\"], [0.6, \"#e6f5d0\"], [0.7, \"#b8e186\"], [0.8, \"#7fbc41\"], [0.9, \"#4d9221\"], [1, \"#276419\"]], \"sequential\": [[0.0, \"#0d0887\"], [0.1111111111111111, \"#46039f\"], [0.2222222222222222, \"#7201a8\"], [0.3333333333333333, \"#9c179e\"], [0.4444444444444444, \"#bd3786\"], [0.5555555555555556, \"#d8576b\"], [0.6666666666666666, \"#ed7953\"], [0.7777777777777778, \"#fb9f3a\"], [0.8888888888888888, \"#fdca26\"], [1.0, \"#f0f921\"]], \"sequentialminus\": [[0.0, \"#0d0887\"], [0.1111111111111111, \"#46039f\"], [0.2222222222222222, \"#7201a8\"], [0.3333333333333333, \"#9c179e\"], [0.4444444444444444, \"#bd3786\"], [0.5555555555555556, \"#d8576b\"], [0.6666666666666666, \"#ed7953\"], [0.7777777777777778, \"#fb9f3a\"], [0.8888888888888888, \"#fdca26\"], [1.0, \"#f0f921\"]]}, \"colorway\": [\"#636efa\", \"#EF553B\", \"#00cc96\", \"#ab63fa\", \"#FFA15A\", \"#19d3f3\", \"#FF6692\", \"#B6E880\", \"#FF97FF\", \"#FECB52\"], \"font\": {\"color\": \"#2a3f5f\"}, \"geo\": {\"bgcolor\": \"white\", \"lakecolor\": \"white\", \"landcolor\": \"#E5ECF6\", \"showlakes\": true, \"showland\": true, \"subunitcolor\": \"white\"}, \"hoverlabel\": {\"align\": \"left\"}, \"hovermode\": \"closest\", \"mapbox\": {\"style\": \"light\"}, \"paper_bgcolor\": \"white\", \"plot_bgcolor\": \"#E5ECF6\", \"polar\": {\"angularaxis\": {\"gridcolor\": \"white\", \"linecolor\": \"white\", \"ticks\": \"\"}, \"bgcolor\": \"#E5ECF6\", \"radialaxis\": {\"gridcolor\": \"white\", \"linecolor\": \"white\", \"ticks\": \"\"}}, \"scene\": {\"xaxis\": {\"backgroundcolor\": \"#E5ECF6\", \"gridcolor\": \"white\", \"gridwidth\": 2, \"linecolor\": \"white\", \"showbackground\": true, \"ticks\": \"\", \"zerolinecolor\": \"white\"}, \"yaxis\": {\"backgroundcolor\": \"#E5ECF6\", \"gridcolor\": \"white\", \"gridwidth\": 2, \"linecolor\": \"white\", \"showbackground\": true, \"ticks\": \"\", \"zerolinecolor\": \"white\"}, \"zaxis\": {\"backgroundcolor\": \"#E5ECF6\", \"gridcolor\": \"white\", \"gridwidth\": 2, \"linecolor\": \"white\", \"showbackground\": true, \"ticks\": \"\", \"zerolinecolor\": \"white\"}}, \"shapedefaults\": {\"line\": {\"color\": \"#2a3f5f\"}}, \"ternary\": {\"aaxis\": {\"gridcolor\": \"white\", \"linecolor\": \"white\", \"ticks\": \"\"}, \"baxis\": {\"gridcolor\": \"white\", \"linecolor\": \"white\", \"ticks\": \"\"}, \"bgcolor\": \"#E5ECF6\", \"caxis\": {\"gridcolor\": \"white\", \"linecolor\": \"white\", \"ticks\": \"\"}}, \"title\": {\"x\": 0.05}, \"xaxis\": {\"automargin\": true, \"gridcolor\": \"white\", \"linecolor\": \"white\", \"ticks\": \"\", \"title\": {\"standoff\": 15}, \"zerolinecolor\": \"white\", \"zerolinewidth\": 2}, \"yaxis\": {\"automargin\": true, \"gridcolor\": \"white\", \"linecolor\": \"white\", \"ticks\": \"\", \"title\": {\"standoff\": 15}, \"zerolinecolor\": \"white\", \"zerolinewidth\": 2}}}, \"title\": {\"text\": \"URL = https://de.wikipedia.org/wiki/Namibia-Dollar &  Total Count = 19\"}, \"width\": 1700, \"xaxis\": {\"tickangle\": -90, \"title\": {\"text\": \"Hour_Minute\"}}, \"yaxis\": {\"title\": {\"text\": \"URL Count (per min)\"}}},\n",
              "                        {\"responsive\": true}\n",
              "                    ).then(function(){\n",
              "                            \n",
              "var gd = document.getElementById('fc8875bd-195c-4335-bdab-54dfc0db3694');\n",
              "var x = new MutationObserver(function (mutations, observer) {{\n",
              "        var display = window.getComputedStyle(gd).display;\n",
              "        if (!display || display === 'none') {{\n",
              "            console.log([gd, 'removed!']);\n",
              "            Plotly.purge(gd);\n",
              "            observer.disconnect();\n",
              "        }}\n",
              "}});\n",
              "\n",
              "// Listen for the removal of the full notebook cells\n",
              "var notebookContainer = gd.closest('#notebook-container');\n",
              "if (notebookContainer) {{\n",
              "    x.observe(notebookContainer, {childList: true});\n",
              "}}\n",
              "\n",
              "// Listen for the clearing of the current output cell\n",
              "var outputEl = gd.closest('.output');\n",
              "if (outputEl) {{\n",
              "    x.observe(outputEl, {childList: true});\n",
              "}}\n",
              "\n",
              "                        })\n",
              "                };\n",
              "                \n",
              "            </script>\n",
              "        </div>\n",
              "</body>\n",
              "</html>"
            ]
          },
          "metadata": {
            "tags": []
          }
        },
        {
          "output_type": "display_data",
          "data": {
            "text/html": [
              "<html>\n",
              "<head><meta charset=\"utf-8\" /></head>\n",
              "<body>\n",
              "    <div>\n",
              "            <script src=\"https://cdnjs.cloudflare.com/ajax/libs/mathjax/2.7.5/MathJax.js?config=TeX-AMS-MML_SVG\"></script><script type=\"text/javascript\">if (window.MathJax) {MathJax.Hub.Config({SVG: {font: \"STIX-Web\"}});}</script>\n",
              "                <script type=\"text/javascript\">window.PlotlyConfig = {MathJaxConfig: 'local'};</script>\n",
              "        <script src=\"https://cdn.plot.ly/plotly-latest.min.js\"></script>    \n",
              "            <div id=\"105bee3d-5ec3-478e-9859-570c8f601539\" class=\"plotly-graph-div\" style=\"height:500px; width:1700px;\"></div>\n",
              "            <script type=\"text/javascript\">\n",
              "                \n",
              "                    window.PLOTLYENV=window.PLOTLYENV || {};\n",
              "                    \n",
              "                if (document.getElementById(\"105bee3d-5ec3-478e-9859-570c8f601539\")) {\n",
              "                    Plotly.newPlot(\n",
              "                        '105bee3d-5ec3-478e-9859-570c8f601539',\n",
              "                        [{\"line\": {\"width\": 1.5}, \"marker\": {\"color\": \"#ff7f0e\", \"size\": 5}, \"mode\": \"lines+markers+text\", \"showlegend\": false, \"text\": [\"0\", \"0\", \"0\", \"0\", \"1\", \"0\", \"1\", \"0\", \"0\", \"1\", \"0\", \"0\", \"1\", \"1\", \"0\", \"2\", \"1\", \"1\", \"1\", \"1\", \"0\", \"1\", \"0\", \"1\", \"0\", \"0\", \"0\", \"0\", \"0\", \"0\", \"0\", \"0\", \"0\", \"0\", \"0\", \"0\", \"0\", \"0\", \"0\", \"0\", \"0\", \"0\", \"0\", \"0\", \"0\", \"0\", \"0\", \"0\", \"0\", \"0\", \"0\", \"0\", \"0\", \"0\", \"0\", \"0\", \"0\", \"0\", \"0\", \"0\", \"0\", \"0\", \"0\"], \"textfont\": {\"size\": 9}, \"textposition\": \"top center\", \"type\": \"scatter\", \"x\": [\"17_11\", \"17_12\", \"17_13\", \"17_14\", \"17_15\", \"17_16\", \"17_17\", \"17_18\", \"17_19\", \"17_20\", \"17_21\", \"17_22\", \"17_23\", \"17_24\", \"17_25\", \"17_26\", \"17_27\", \"17_28\", \"17_29\", \"17_30\", \"17_31\", \"17_32\", \"17_33\", \"17_34\", \"17_35\", \"17_36\", \"17_37\", \"17_38\", \"17_39\", \"17_40\", \"17_41\", \"17_42\", \"17_43\", \"17_44\", \"17_45\", \"17_46\", \"17_47\", \"17_48\", \"17_49\", \"17_50\", \"17_51\", \"17_52\", \"17_53\", \"17_54\", \"17_55\", \"17_56\", \"17_57\", \"17_58\", \"17_59\", \"18_00\", \"18_01\", \"18_02\", \"18_03\", \"18_04\", \"18_05\", \"18_06\", \"18_07\", \"18_08\", \"18_09\", \"18_10\", \"18_11\", \"18_12\", \"18_13\"], \"y\": [0, 0, 0, 0, 1, 0, 1, 0, 0, 1, 0, 0, 1, 1, 0, 2, 1, 1, 1, 1, 0, 1, 0, 1, 0, 0, 0, 0, 0, 0, 0, 0, 0, 0, 0, 0, 0, 0, 0, 0, 0, 0, 0, 0, 0, 0, 0, 0, 0, 0, 0, 0, 0, 0, 0, 0, 0, 0, 0, 0, 0, 0, 0]}],\n",
              "                        {\"height\": 500, \"template\": {\"data\": {\"bar\": [{\"error_x\": {\"color\": \"#2a3f5f\"}, \"error_y\": {\"color\": \"#2a3f5f\"}, \"marker\": {\"line\": {\"color\": \"#E5ECF6\", \"width\": 0.5}}, \"type\": \"bar\"}], \"barpolar\": [{\"marker\": {\"line\": {\"color\": \"#E5ECF6\", \"width\": 0.5}}, \"type\": \"barpolar\"}], \"carpet\": [{\"aaxis\": {\"endlinecolor\": \"#2a3f5f\", \"gridcolor\": \"white\", \"linecolor\": \"white\", \"minorgridcolor\": \"white\", \"startlinecolor\": \"#2a3f5f\"}, \"baxis\": {\"endlinecolor\": \"#2a3f5f\", \"gridcolor\": \"white\", \"linecolor\": \"white\", \"minorgridcolor\": \"white\", \"startlinecolor\": \"#2a3f5f\"}, \"type\": \"carpet\"}], \"choropleth\": [{\"colorbar\": {\"outlinewidth\": 0, \"ticks\": \"\"}, \"type\": \"choropleth\"}], \"contour\": [{\"colorbar\": {\"outlinewidth\": 0, \"ticks\": \"\"}, \"colorscale\": [[0.0, \"#0d0887\"], [0.1111111111111111, \"#46039f\"], [0.2222222222222222, \"#7201a8\"], [0.3333333333333333, \"#9c179e\"], [0.4444444444444444, \"#bd3786\"], [0.5555555555555556, \"#d8576b\"], [0.6666666666666666, \"#ed7953\"], [0.7777777777777778, \"#fb9f3a\"], [0.8888888888888888, \"#fdca26\"], [1.0, \"#f0f921\"]], \"type\": \"contour\"}], \"contourcarpet\": [{\"colorbar\": {\"outlinewidth\": 0, \"ticks\": \"\"}, \"type\": \"contourcarpet\"}], \"heatmap\": [{\"colorbar\": {\"outlinewidth\": 0, \"ticks\": \"\"}, \"colorscale\": [[0.0, \"#0d0887\"], [0.1111111111111111, \"#46039f\"], [0.2222222222222222, \"#7201a8\"], [0.3333333333333333, \"#9c179e\"], [0.4444444444444444, \"#bd3786\"], [0.5555555555555556, \"#d8576b\"], [0.6666666666666666, \"#ed7953\"], [0.7777777777777778, \"#fb9f3a\"], [0.8888888888888888, \"#fdca26\"], [1.0, \"#f0f921\"]], \"type\": \"heatmap\"}], \"heatmapgl\": [{\"colorbar\": {\"outlinewidth\": 0, \"ticks\": \"\"}, \"colorscale\": [[0.0, \"#0d0887\"], [0.1111111111111111, \"#46039f\"], [0.2222222222222222, \"#7201a8\"], [0.3333333333333333, \"#9c179e\"], [0.4444444444444444, \"#bd3786\"], [0.5555555555555556, \"#d8576b\"], [0.6666666666666666, \"#ed7953\"], [0.7777777777777778, \"#fb9f3a\"], [0.8888888888888888, \"#fdca26\"], [1.0, \"#f0f921\"]], \"type\": \"heatmapgl\"}], \"histogram\": [{\"marker\": {\"colorbar\": {\"outlinewidth\": 0, \"ticks\": \"\"}}, \"type\": \"histogram\"}], \"histogram2d\": [{\"colorbar\": {\"outlinewidth\": 0, \"ticks\": \"\"}, \"colorscale\": [[0.0, \"#0d0887\"], [0.1111111111111111, \"#46039f\"], [0.2222222222222222, \"#7201a8\"], [0.3333333333333333, \"#9c179e\"], [0.4444444444444444, \"#bd3786\"], [0.5555555555555556, \"#d8576b\"], [0.6666666666666666, \"#ed7953\"], [0.7777777777777778, \"#fb9f3a\"], [0.8888888888888888, \"#fdca26\"], [1.0, \"#f0f921\"]], \"type\": \"histogram2d\"}], \"histogram2dcontour\": [{\"colorbar\": {\"outlinewidth\": 0, \"ticks\": \"\"}, \"colorscale\": [[0.0, \"#0d0887\"], [0.1111111111111111, \"#46039f\"], [0.2222222222222222, \"#7201a8\"], [0.3333333333333333, \"#9c179e\"], [0.4444444444444444, \"#bd3786\"], [0.5555555555555556, \"#d8576b\"], [0.6666666666666666, \"#ed7953\"], [0.7777777777777778, \"#fb9f3a\"], [0.8888888888888888, \"#fdca26\"], [1.0, \"#f0f921\"]], \"type\": \"histogram2dcontour\"}], \"mesh3d\": [{\"colorbar\": {\"outlinewidth\": 0, \"ticks\": \"\"}, \"type\": \"mesh3d\"}], \"parcoords\": [{\"line\": {\"colorbar\": {\"outlinewidth\": 0, \"ticks\": \"\"}}, \"type\": \"parcoords\"}], \"pie\": [{\"automargin\": true, \"type\": \"pie\"}], \"scatter\": [{\"marker\": {\"colorbar\": {\"outlinewidth\": 0, \"ticks\": \"\"}}, \"type\": \"scatter\"}], \"scatter3d\": [{\"line\": {\"colorbar\": {\"outlinewidth\": 0, \"ticks\": \"\"}}, \"marker\": {\"colorbar\": {\"outlinewidth\": 0, \"ticks\": \"\"}}, \"type\": \"scatter3d\"}], \"scattercarpet\": [{\"marker\": {\"colorbar\": {\"outlinewidth\": 0, \"ticks\": \"\"}}, \"type\": \"scattercarpet\"}], \"scattergeo\": [{\"marker\": {\"colorbar\": {\"outlinewidth\": 0, \"ticks\": \"\"}}, \"type\": \"scattergeo\"}], \"scattergl\": [{\"marker\": {\"colorbar\": {\"outlinewidth\": 0, \"ticks\": \"\"}}, \"type\": \"scattergl\"}], \"scattermapbox\": [{\"marker\": {\"colorbar\": {\"outlinewidth\": 0, \"ticks\": \"\"}}, \"type\": \"scattermapbox\"}], \"scatterpolar\": [{\"marker\": {\"colorbar\": {\"outlinewidth\": 0, \"ticks\": \"\"}}, \"type\": \"scatterpolar\"}], \"scatterpolargl\": [{\"marker\": {\"colorbar\": {\"outlinewidth\": 0, \"ticks\": \"\"}}, \"type\": \"scatterpolargl\"}], \"scatterternary\": [{\"marker\": {\"colorbar\": {\"outlinewidth\": 0, \"ticks\": \"\"}}, \"type\": \"scatterternary\"}], \"surface\": [{\"colorbar\": {\"outlinewidth\": 0, \"ticks\": \"\"}, \"colorscale\": [[0.0, \"#0d0887\"], [0.1111111111111111, \"#46039f\"], [0.2222222222222222, \"#7201a8\"], [0.3333333333333333, \"#9c179e\"], [0.4444444444444444, \"#bd3786\"], [0.5555555555555556, \"#d8576b\"], [0.6666666666666666, \"#ed7953\"], [0.7777777777777778, \"#fb9f3a\"], [0.8888888888888888, \"#fdca26\"], [1.0, \"#f0f921\"]], \"type\": \"surface\"}], \"table\": [{\"cells\": {\"fill\": {\"color\": \"#EBF0F8\"}, \"line\": {\"color\": \"white\"}}, \"header\": {\"fill\": {\"color\": \"#C8D4E3\"}, \"line\": {\"color\": \"white\"}}, \"type\": \"table\"}]}, \"layout\": {\"annotationdefaults\": {\"arrowcolor\": \"#2a3f5f\", \"arrowhead\": 0, \"arrowwidth\": 1}, \"coloraxis\": {\"colorbar\": {\"outlinewidth\": 0, \"ticks\": \"\"}}, \"colorscale\": {\"diverging\": [[0, \"#8e0152\"], [0.1, \"#c51b7d\"], [0.2, \"#de77ae\"], [0.3, \"#f1b6da\"], [0.4, \"#fde0ef\"], [0.5, \"#f7f7f7\"], [0.6, \"#e6f5d0\"], [0.7, \"#b8e186\"], [0.8, \"#7fbc41\"], [0.9, \"#4d9221\"], [1, \"#276419\"]], \"sequential\": [[0.0, \"#0d0887\"], [0.1111111111111111, \"#46039f\"], [0.2222222222222222, \"#7201a8\"], [0.3333333333333333, \"#9c179e\"], [0.4444444444444444, \"#bd3786\"], [0.5555555555555556, \"#d8576b\"], [0.6666666666666666, \"#ed7953\"], [0.7777777777777778, \"#fb9f3a\"], [0.8888888888888888, \"#fdca26\"], [1.0, \"#f0f921\"]], \"sequentialminus\": [[0.0, \"#0d0887\"], [0.1111111111111111, \"#46039f\"], [0.2222222222222222, \"#7201a8\"], [0.3333333333333333, \"#9c179e\"], [0.4444444444444444, \"#bd3786\"], [0.5555555555555556, \"#d8576b\"], [0.6666666666666666, \"#ed7953\"], [0.7777777777777778, \"#fb9f3a\"], [0.8888888888888888, \"#fdca26\"], [1.0, \"#f0f921\"]]}, \"colorway\": [\"#636efa\", \"#EF553B\", \"#00cc96\", \"#ab63fa\", \"#FFA15A\", \"#19d3f3\", \"#FF6692\", \"#B6E880\", \"#FF97FF\", \"#FECB52\"], \"font\": {\"color\": \"#2a3f5f\"}, \"geo\": {\"bgcolor\": \"white\", \"lakecolor\": \"white\", \"landcolor\": \"#E5ECF6\", \"showlakes\": true, \"showland\": true, \"subunitcolor\": \"white\"}, \"hoverlabel\": {\"align\": \"left\"}, \"hovermode\": \"closest\", \"mapbox\": {\"style\": \"light\"}, \"paper_bgcolor\": \"white\", \"plot_bgcolor\": \"#E5ECF6\", \"polar\": {\"angularaxis\": {\"gridcolor\": \"white\", \"linecolor\": \"white\", \"ticks\": \"\"}, \"bgcolor\": \"#E5ECF6\", \"radialaxis\": {\"gridcolor\": \"white\", \"linecolor\": \"white\", \"ticks\": \"\"}}, \"scene\": {\"xaxis\": {\"backgroundcolor\": \"#E5ECF6\", \"gridcolor\": \"white\", \"gridwidth\": 2, \"linecolor\": \"white\", \"showbackground\": true, \"ticks\": \"\", \"zerolinecolor\": \"white\"}, \"yaxis\": {\"backgroundcolor\": \"#E5ECF6\", \"gridcolor\": \"white\", \"gridwidth\": 2, \"linecolor\": \"white\", \"showbackground\": true, \"ticks\": \"\", \"zerolinecolor\": \"white\"}, \"zaxis\": {\"backgroundcolor\": \"#E5ECF6\", \"gridcolor\": \"white\", \"gridwidth\": 2, \"linecolor\": \"white\", \"showbackground\": true, \"ticks\": \"\", \"zerolinecolor\": \"white\"}}, \"shapedefaults\": {\"line\": {\"color\": \"#2a3f5f\"}}, \"ternary\": {\"aaxis\": {\"gridcolor\": \"white\", \"linecolor\": \"white\", \"ticks\": \"\"}, \"baxis\": {\"gridcolor\": \"white\", \"linecolor\": \"white\", \"ticks\": \"\"}, \"bgcolor\": \"#E5ECF6\", \"caxis\": {\"gridcolor\": \"white\", \"linecolor\": \"white\", \"ticks\": \"\"}}, \"title\": {\"x\": 0.05}, \"xaxis\": {\"automargin\": true, \"gridcolor\": \"white\", \"linecolor\": \"white\", \"ticks\": \"\", \"title\": {\"standoff\": 15}, \"zerolinecolor\": \"white\", \"zerolinewidth\": 2}, \"yaxis\": {\"automargin\": true, \"gridcolor\": \"white\", \"linecolor\": \"white\", \"ticks\": \"\", \"title\": {\"standoff\": 15}, \"zerolinecolor\": \"white\", \"zerolinewidth\": 2}}}, \"title\": {\"text\": \"URL = https://de.wikipedia.org/wiki/Benutzer:Mathecrat/Temp &  Total Count = 13\"}, \"width\": 1700, \"xaxis\": {\"tickangle\": -90, \"title\": {\"text\": \"Hour_Minute\"}}, \"yaxis\": {\"title\": {\"text\": \"URL Count (per min)\"}}},\n",
              "                        {\"responsive\": true}\n",
              "                    ).then(function(){\n",
              "                            \n",
              "var gd = document.getElementById('105bee3d-5ec3-478e-9859-570c8f601539');\n",
              "var x = new MutationObserver(function (mutations, observer) {{\n",
              "        var display = window.getComputedStyle(gd).display;\n",
              "        if (!display || display === 'none') {{\n",
              "            console.log([gd, 'removed!']);\n",
              "            Plotly.purge(gd);\n",
              "            observer.disconnect();\n",
              "        }}\n",
              "}});\n",
              "\n",
              "// Listen for the removal of the full notebook cells\n",
              "var notebookContainer = gd.closest('#notebook-container');\n",
              "if (notebookContainer) {{\n",
              "    x.observe(notebookContainer, {childList: true});\n",
              "}}\n",
              "\n",
              "// Listen for the clearing of the current output cell\n",
              "var outputEl = gd.closest('.output');\n",
              "if (outputEl) {{\n",
              "    x.observe(outputEl, {childList: true});\n",
              "}}\n",
              "\n",
              "                        })\n",
              "                };\n",
              "                \n",
              "            </script>\n",
              "        </div>\n",
              "</body>\n",
              "</html>"
            ]
          },
          "metadata": {
            "tags": []
          }
        },
        {
          "output_type": "display_data",
          "data": {
            "text/html": [
              "<html>\n",
              "<head><meta charset=\"utf-8\" /></head>\n",
              "<body>\n",
              "    <div>\n",
              "            <script src=\"https://cdnjs.cloudflare.com/ajax/libs/mathjax/2.7.5/MathJax.js?config=TeX-AMS-MML_SVG\"></script><script type=\"text/javascript\">if (window.MathJax) {MathJax.Hub.Config({SVG: {font: \"STIX-Web\"}});}</script>\n",
              "                <script type=\"text/javascript\">window.PlotlyConfig = {MathJaxConfig: 'local'};</script>\n",
              "        <script src=\"https://cdn.plot.ly/plotly-latest.min.js\"></script>    \n",
              "            <div id=\"fbbc9a39-092d-4ca4-b6d4-6a3d8b02f006\" class=\"plotly-graph-div\" style=\"height:500px; width:1700px;\"></div>\n",
              "            <script type=\"text/javascript\">\n",
              "                \n",
              "                    window.PLOTLYENV=window.PLOTLYENV || {};\n",
              "                    \n",
              "                if (document.getElementById(\"fbbc9a39-092d-4ca4-b6d4-6a3d8b02f006\")) {\n",
              "                    Plotly.newPlot(\n",
              "                        'fbbc9a39-092d-4ca4-b6d4-6a3d8b02f006',\n",
              "                        [{\"line\": {\"width\": 1.5}, \"marker\": {\"color\": \"#2ca02c\", \"size\": 5}, \"mode\": \"lines+markers+text\", \"showlegend\": false, \"text\": [\"0\", \"0\", \"0\", \"0\", \"0\", \"0\", \"0\", \"0\", \"0\", \"0\", \"0\", \"0\", \"1\", \"0\", \"0\", \"0\", \"0\", \"0\", \"2\", \"1\", \"1\", \"0\", \"1\", \"0\", \"1\", \"2\", \"1\", \"1\", \"1\", \"0\", \"0\", \"0\", \"0\", \"0\", \"0\", \"0\", \"0\", \"0\", \"0\", \"0\", \"0\", \"0\", \"0\", \"0\", \"0\", \"0\", \"0\", \"0\", \"0\", \"0\", \"0\", \"0\", \"0\", \"0\", \"0\", \"0\", \"0\", \"0\", \"0\", \"0\", \"0\", \"0\", \"0\"], \"textfont\": {\"size\": 9}, \"textposition\": \"top center\", \"type\": \"scatter\", \"x\": [\"17_11\", \"17_12\", \"17_13\", \"17_14\", \"17_15\", \"17_16\", \"17_17\", \"17_18\", \"17_19\", \"17_20\", \"17_21\", \"17_22\", \"17_23\", \"17_24\", \"17_25\", \"17_26\", \"17_27\", \"17_28\", \"17_29\", \"17_30\", \"17_31\", \"17_32\", \"17_33\", \"17_34\", \"17_35\", \"17_36\", \"17_37\", \"17_38\", \"17_39\", \"17_40\", \"17_41\", \"17_42\", \"17_43\", \"17_44\", \"17_45\", \"17_46\", \"17_47\", \"17_48\", \"17_49\", \"17_50\", \"17_51\", \"17_52\", \"17_53\", \"17_54\", \"17_55\", \"17_56\", \"17_57\", \"17_58\", \"17_59\", \"18_00\", \"18_01\", \"18_02\", \"18_03\", \"18_04\", \"18_05\", \"18_06\", \"18_07\", \"18_08\", \"18_09\", \"18_10\", \"18_11\", \"18_12\", \"18_13\"], \"y\": [0, 0, 0, 0, 0, 0, 0, 0, 0, 0, 0, 0, 1, 0, 0, 0, 0, 0, 2, 1, 1, 0, 1, 0, 1, 2, 1, 1, 1, 0, 0, 0, 0, 0, 0, 0, 0, 0, 0, 0, 0, 0, 0, 0, 0, 0, 0, 0, 0, 0, 0, 0, 0, 0, 0, 0, 0, 0, 0, 0, 0, 0, 0]}],\n",
              "                        {\"height\": 500, \"template\": {\"data\": {\"bar\": [{\"error_x\": {\"color\": \"#2a3f5f\"}, \"error_y\": {\"color\": \"#2a3f5f\"}, \"marker\": {\"line\": {\"color\": \"#E5ECF6\", \"width\": 0.5}}, \"type\": \"bar\"}], \"barpolar\": [{\"marker\": {\"line\": {\"color\": \"#E5ECF6\", \"width\": 0.5}}, \"type\": \"barpolar\"}], \"carpet\": [{\"aaxis\": {\"endlinecolor\": \"#2a3f5f\", \"gridcolor\": \"white\", \"linecolor\": \"white\", \"minorgridcolor\": \"white\", \"startlinecolor\": \"#2a3f5f\"}, \"baxis\": {\"endlinecolor\": \"#2a3f5f\", \"gridcolor\": \"white\", \"linecolor\": \"white\", \"minorgridcolor\": \"white\", \"startlinecolor\": \"#2a3f5f\"}, \"type\": \"carpet\"}], \"choropleth\": [{\"colorbar\": {\"outlinewidth\": 0, \"ticks\": \"\"}, \"type\": \"choropleth\"}], \"contour\": [{\"colorbar\": {\"outlinewidth\": 0, \"ticks\": \"\"}, \"colorscale\": [[0.0, \"#0d0887\"], [0.1111111111111111, \"#46039f\"], [0.2222222222222222, \"#7201a8\"], [0.3333333333333333, \"#9c179e\"], [0.4444444444444444, \"#bd3786\"], [0.5555555555555556, \"#d8576b\"], [0.6666666666666666, \"#ed7953\"], [0.7777777777777778, \"#fb9f3a\"], [0.8888888888888888, \"#fdca26\"], [1.0, \"#f0f921\"]], \"type\": \"contour\"}], \"contourcarpet\": [{\"colorbar\": {\"outlinewidth\": 0, \"ticks\": \"\"}, \"type\": \"contourcarpet\"}], \"heatmap\": [{\"colorbar\": {\"outlinewidth\": 0, \"ticks\": \"\"}, \"colorscale\": [[0.0, \"#0d0887\"], [0.1111111111111111, \"#46039f\"], [0.2222222222222222, \"#7201a8\"], [0.3333333333333333, \"#9c179e\"], [0.4444444444444444, \"#bd3786\"], [0.5555555555555556, \"#d8576b\"], [0.6666666666666666, \"#ed7953\"], [0.7777777777777778, \"#fb9f3a\"], [0.8888888888888888, \"#fdca26\"], [1.0, \"#f0f921\"]], \"type\": \"heatmap\"}], \"heatmapgl\": [{\"colorbar\": {\"outlinewidth\": 0, \"ticks\": \"\"}, \"colorscale\": [[0.0, \"#0d0887\"], [0.1111111111111111, \"#46039f\"], [0.2222222222222222, \"#7201a8\"], [0.3333333333333333, \"#9c179e\"], [0.4444444444444444, \"#bd3786\"], [0.5555555555555556, \"#d8576b\"], [0.6666666666666666, \"#ed7953\"], [0.7777777777777778, \"#fb9f3a\"], [0.8888888888888888, \"#fdca26\"], [1.0, \"#f0f921\"]], \"type\": \"heatmapgl\"}], \"histogram\": [{\"marker\": {\"colorbar\": {\"outlinewidth\": 0, \"ticks\": \"\"}}, \"type\": \"histogram\"}], \"histogram2d\": [{\"colorbar\": {\"outlinewidth\": 0, \"ticks\": \"\"}, \"colorscale\": [[0.0, \"#0d0887\"], [0.1111111111111111, \"#46039f\"], [0.2222222222222222, \"#7201a8\"], [0.3333333333333333, \"#9c179e\"], [0.4444444444444444, \"#bd3786\"], [0.5555555555555556, \"#d8576b\"], [0.6666666666666666, \"#ed7953\"], [0.7777777777777778, \"#fb9f3a\"], [0.8888888888888888, \"#fdca26\"], [1.0, \"#f0f921\"]], \"type\": \"histogram2d\"}], \"histogram2dcontour\": [{\"colorbar\": {\"outlinewidth\": 0, \"ticks\": \"\"}, \"colorscale\": [[0.0, \"#0d0887\"], [0.1111111111111111, \"#46039f\"], [0.2222222222222222, \"#7201a8\"], [0.3333333333333333, \"#9c179e\"], [0.4444444444444444, \"#bd3786\"], [0.5555555555555556, \"#d8576b\"], [0.6666666666666666, \"#ed7953\"], [0.7777777777777778, \"#fb9f3a\"], [0.8888888888888888, \"#fdca26\"], [1.0, \"#f0f921\"]], \"type\": \"histogram2dcontour\"}], \"mesh3d\": [{\"colorbar\": {\"outlinewidth\": 0, \"ticks\": \"\"}, \"type\": \"mesh3d\"}], \"parcoords\": [{\"line\": {\"colorbar\": {\"outlinewidth\": 0, \"ticks\": \"\"}}, \"type\": \"parcoords\"}], \"pie\": [{\"automargin\": true, \"type\": \"pie\"}], \"scatter\": [{\"marker\": {\"colorbar\": {\"outlinewidth\": 0, \"ticks\": \"\"}}, \"type\": \"scatter\"}], \"scatter3d\": [{\"line\": {\"colorbar\": {\"outlinewidth\": 0, \"ticks\": \"\"}}, \"marker\": {\"colorbar\": {\"outlinewidth\": 0, \"ticks\": \"\"}}, \"type\": \"scatter3d\"}], \"scattercarpet\": [{\"marker\": {\"colorbar\": {\"outlinewidth\": 0, \"ticks\": \"\"}}, \"type\": \"scattercarpet\"}], \"scattergeo\": [{\"marker\": {\"colorbar\": {\"outlinewidth\": 0, \"ticks\": \"\"}}, \"type\": \"scattergeo\"}], \"scattergl\": [{\"marker\": {\"colorbar\": {\"outlinewidth\": 0, \"ticks\": \"\"}}, \"type\": \"scattergl\"}], \"scattermapbox\": [{\"marker\": {\"colorbar\": {\"outlinewidth\": 0, \"ticks\": \"\"}}, \"type\": \"scattermapbox\"}], \"scatterpolar\": [{\"marker\": {\"colorbar\": {\"outlinewidth\": 0, \"ticks\": \"\"}}, \"type\": \"scatterpolar\"}], \"scatterpolargl\": [{\"marker\": {\"colorbar\": {\"outlinewidth\": 0, \"ticks\": \"\"}}, \"type\": \"scatterpolargl\"}], \"scatterternary\": [{\"marker\": {\"colorbar\": {\"outlinewidth\": 0, \"ticks\": \"\"}}, \"type\": \"scatterternary\"}], \"surface\": [{\"colorbar\": {\"outlinewidth\": 0, \"ticks\": \"\"}, \"colorscale\": [[0.0, \"#0d0887\"], [0.1111111111111111, \"#46039f\"], [0.2222222222222222, \"#7201a8\"], [0.3333333333333333, \"#9c179e\"], [0.4444444444444444, \"#bd3786\"], [0.5555555555555556, \"#d8576b\"], [0.6666666666666666, \"#ed7953\"], [0.7777777777777778, \"#fb9f3a\"], [0.8888888888888888, \"#fdca26\"], [1.0, \"#f0f921\"]], \"type\": \"surface\"}], \"table\": [{\"cells\": {\"fill\": {\"color\": \"#EBF0F8\"}, \"line\": {\"color\": \"white\"}}, \"header\": {\"fill\": {\"color\": \"#C8D4E3\"}, \"line\": {\"color\": \"white\"}}, \"type\": \"table\"}]}, \"layout\": {\"annotationdefaults\": {\"arrowcolor\": \"#2a3f5f\", \"arrowhead\": 0, \"arrowwidth\": 1}, \"coloraxis\": {\"colorbar\": {\"outlinewidth\": 0, \"ticks\": \"\"}}, \"colorscale\": {\"diverging\": [[0, \"#8e0152\"], [0.1, \"#c51b7d\"], [0.2, \"#de77ae\"], [0.3, \"#f1b6da\"], [0.4, \"#fde0ef\"], [0.5, \"#f7f7f7\"], [0.6, \"#e6f5d0\"], [0.7, \"#b8e186\"], [0.8, \"#7fbc41\"], [0.9, \"#4d9221\"], [1, \"#276419\"]], \"sequential\": [[0.0, \"#0d0887\"], [0.1111111111111111, \"#46039f\"], [0.2222222222222222, \"#7201a8\"], [0.3333333333333333, \"#9c179e\"], [0.4444444444444444, \"#bd3786\"], [0.5555555555555556, \"#d8576b\"], [0.6666666666666666, \"#ed7953\"], [0.7777777777777778, \"#fb9f3a\"], [0.8888888888888888, \"#fdca26\"], [1.0, \"#f0f921\"]], \"sequentialminus\": [[0.0, \"#0d0887\"], [0.1111111111111111, \"#46039f\"], [0.2222222222222222, \"#7201a8\"], [0.3333333333333333, \"#9c179e\"], [0.4444444444444444, \"#bd3786\"], [0.5555555555555556, \"#d8576b\"], [0.6666666666666666, \"#ed7953\"], [0.7777777777777778, \"#fb9f3a\"], [0.8888888888888888, \"#fdca26\"], [1.0, \"#f0f921\"]]}, \"colorway\": [\"#636efa\", \"#EF553B\", \"#00cc96\", \"#ab63fa\", \"#FFA15A\", \"#19d3f3\", \"#FF6692\", \"#B6E880\", \"#FF97FF\", \"#FECB52\"], \"font\": {\"color\": \"#2a3f5f\"}, \"geo\": {\"bgcolor\": \"white\", \"lakecolor\": \"white\", \"landcolor\": \"#E5ECF6\", \"showlakes\": true, \"showland\": true, \"subunitcolor\": \"white\"}, \"hoverlabel\": {\"align\": \"left\"}, \"hovermode\": \"closest\", \"mapbox\": {\"style\": \"light\"}, \"paper_bgcolor\": \"white\", \"plot_bgcolor\": \"#E5ECF6\", \"polar\": {\"angularaxis\": {\"gridcolor\": \"white\", \"linecolor\": \"white\", \"ticks\": \"\"}, \"bgcolor\": \"#E5ECF6\", \"radialaxis\": {\"gridcolor\": \"white\", \"linecolor\": \"white\", \"ticks\": \"\"}}, \"scene\": {\"xaxis\": {\"backgroundcolor\": \"#E5ECF6\", \"gridcolor\": \"white\", \"gridwidth\": 2, \"linecolor\": \"white\", \"showbackground\": true, \"ticks\": \"\", \"zerolinecolor\": \"white\"}, \"yaxis\": {\"backgroundcolor\": \"#E5ECF6\", \"gridcolor\": \"white\", \"gridwidth\": 2, \"linecolor\": \"white\", \"showbackground\": true, \"ticks\": \"\", \"zerolinecolor\": \"white\"}, \"zaxis\": {\"backgroundcolor\": \"#E5ECF6\", \"gridcolor\": \"white\", \"gridwidth\": 2, \"linecolor\": \"white\", \"showbackground\": true, \"ticks\": \"\", \"zerolinecolor\": \"white\"}}, \"shapedefaults\": {\"line\": {\"color\": \"#2a3f5f\"}}, \"ternary\": {\"aaxis\": {\"gridcolor\": \"white\", \"linecolor\": \"white\", \"ticks\": \"\"}, \"baxis\": {\"gridcolor\": \"white\", \"linecolor\": \"white\", \"ticks\": \"\"}, \"bgcolor\": \"#E5ECF6\", \"caxis\": {\"gridcolor\": \"white\", \"linecolor\": \"white\", \"ticks\": \"\"}}, \"title\": {\"x\": 0.05}, \"xaxis\": {\"automargin\": true, \"gridcolor\": \"white\", \"linecolor\": \"white\", \"ticks\": \"\", \"title\": {\"standoff\": 15}, \"zerolinecolor\": \"white\", \"zerolinewidth\": 2}, \"yaxis\": {\"automargin\": true, \"gridcolor\": \"white\", \"linecolor\": \"white\", \"ticks\": \"\", \"title\": {\"standoff\": 15}, \"zerolinecolor\": \"white\", \"zerolinewidth\": 2}}}, \"title\": {\"text\": \"URL = https://de.wikipedia.org/wiki/Lewis_Capaldi &  Total Count = 12\"}, \"width\": 1700, \"xaxis\": {\"tickangle\": -90, \"title\": {\"text\": \"Hour_Minute\"}}, \"yaxis\": {\"title\": {\"text\": \"URL Count (per min)\"}}},\n",
              "                        {\"responsive\": true}\n",
              "                    ).then(function(){\n",
              "                            \n",
              "var gd = document.getElementById('fbbc9a39-092d-4ca4-b6d4-6a3d8b02f006');\n",
              "var x = new MutationObserver(function (mutations, observer) {{\n",
              "        var display = window.getComputedStyle(gd).display;\n",
              "        if (!display || display === 'none') {{\n",
              "            console.log([gd, 'removed!']);\n",
              "            Plotly.purge(gd);\n",
              "            observer.disconnect();\n",
              "        }}\n",
              "}});\n",
              "\n",
              "// Listen for the removal of the full notebook cells\n",
              "var notebookContainer = gd.closest('#notebook-container');\n",
              "if (notebookContainer) {{\n",
              "    x.observe(notebookContainer, {childList: true});\n",
              "}}\n",
              "\n",
              "// Listen for the clearing of the current output cell\n",
              "var outputEl = gd.closest('.output');\n",
              "if (outputEl) {{\n",
              "    x.observe(outputEl, {childList: true});\n",
              "}}\n",
              "\n",
              "                        })\n",
              "                };\n",
              "                \n",
              "            </script>\n",
              "        </div>\n",
              "</body>\n",
              "</html>"
            ]
          },
          "metadata": {
            "tags": []
          }
        },
        {
          "output_type": "display_data",
          "data": {
            "text/html": [
              "<html>\n",
              "<head><meta charset=\"utf-8\" /></head>\n",
              "<body>\n",
              "    <div>\n",
              "            <script src=\"https://cdnjs.cloudflare.com/ajax/libs/mathjax/2.7.5/MathJax.js?config=TeX-AMS-MML_SVG\"></script><script type=\"text/javascript\">if (window.MathJax) {MathJax.Hub.Config({SVG: {font: \"STIX-Web\"}});}</script>\n",
              "                <script type=\"text/javascript\">window.PlotlyConfig = {MathJaxConfig: 'local'};</script>\n",
              "        <script src=\"https://cdn.plot.ly/plotly-latest.min.js\"></script>    \n",
              "            <div id=\"1492eaf1-8c65-4c56-bfbd-2701ac01058b\" class=\"plotly-graph-div\" style=\"height:500px; width:1700px;\"></div>\n",
              "            <script type=\"text/javascript\">\n",
              "                \n",
              "                    window.PLOTLYENV=window.PLOTLYENV || {};\n",
              "                    \n",
              "                if (document.getElementById(\"1492eaf1-8c65-4c56-bfbd-2701ac01058b\")) {\n",
              "                    Plotly.newPlot(\n",
              "                        '1492eaf1-8c65-4c56-bfbd-2701ac01058b',\n",
              "                        [{\"line\": {\"width\": 1.5}, \"marker\": {\"color\": \"#d62728\", \"size\": 5}, \"mode\": \"lines+markers+text\", \"showlegend\": false, \"text\": [\"0\", \"0\", \"0\", \"2\", \"0\", \"0\", \"0\", \"0\", \"0\", \"0\", \"0\", \"0\", \"1\", \"0\", \"0\", \"0\", \"0\", \"0\", \"0\", \"0\", \"0\", \"0\", \"0\", \"0\", \"0\", \"0\", \"0\", \"0\", \"0\", \"0\", \"0\", \"0\", \"0\", \"2\", \"0\", \"1\", \"0\", \"2\", \"0\", \"0\", \"0\", \"0\", \"0\", \"1\", \"0\", \"0\", \"0\", \"0\", \"0\", \"0\", \"0\", \"0\", \"0\", \"0\", \"0\", \"0\", \"1\", \"1\", \"0\", \"0\", \"0\", \"0\", \"1\"], \"textfont\": {\"size\": 9}, \"textposition\": \"top center\", \"type\": \"scatter\", \"x\": [\"17_11\", \"17_12\", \"17_13\", \"17_14\", \"17_15\", \"17_16\", \"17_17\", \"17_18\", \"17_19\", \"17_20\", \"17_21\", \"17_22\", \"17_23\", \"17_24\", \"17_25\", \"17_26\", \"17_27\", \"17_28\", \"17_29\", \"17_30\", \"17_31\", \"17_32\", \"17_33\", \"17_34\", \"17_35\", \"17_36\", \"17_37\", \"17_38\", \"17_39\", \"17_40\", \"17_41\", \"17_42\", \"17_43\", \"17_44\", \"17_45\", \"17_46\", \"17_47\", \"17_48\", \"17_49\", \"17_50\", \"17_51\", \"17_52\", \"17_53\", \"17_54\", \"17_55\", \"17_56\", \"17_57\", \"17_58\", \"17_59\", \"18_00\", \"18_01\", \"18_02\", \"18_03\", \"18_04\", \"18_05\", \"18_06\", \"18_07\", \"18_08\", \"18_09\", \"18_10\", \"18_11\", \"18_12\", \"18_13\"], \"y\": [0, 0, 0, 2, 0, 0, 0, 0, 0, 0, 0, 0, 1, 0, 0, 0, 0, 0, 0, 0, 0, 0, 0, 0, 0, 0, 0, 0, 0, 0, 0, 0, 0, 2, 0, 1, 0, 2, 0, 0, 0, 0, 0, 1, 0, 0, 0, 0, 0, 0, 0, 0, 0, 0, 0, 0, 1, 1, 0, 0, 0, 0, 1]}],\n",
              "                        {\"height\": 500, \"template\": {\"data\": {\"bar\": [{\"error_x\": {\"color\": \"#2a3f5f\"}, \"error_y\": {\"color\": \"#2a3f5f\"}, \"marker\": {\"line\": {\"color\": \"#E5ECF6\", \"width\": 0.5}}, \"type\": \"bar\"}], \"barpolar\": [{\"marker\": {\"line\": {\"color\": \"#E5ECF6\", \"width\": 0.5}}, \"type\": \"barpolar\"}], \"carpet\": [{\"aaxis\": {\"endlinecolor\": \"#2a3f5f\", \"gridcolor\": \"white\", \"linecolor\": \"white\", \"minorgridcolor\": \"white\", \"startlinecolor\": \"#2a3f5f\"}, \"baxis\": {\"endlinecolor\": \"#2a3f5f\", \"gridcolor\": \"white\", \"linecolor\": \"white\", \"minorgridcolor\": \"white\", \"startlinecolor\": \"#2a3f5f\"}, \"type\": \"carpet\"}], \"choropleth\": [{\"colorbar\": {\"outlinewidth\": 0, \"ticks\": \"\"}, \"type\": \"choropleth\"}], \"contour\": [{\"colorbar\": {\"outlinewidth\": 0, \"ticks\": \"\"}, \"colorscale\": [[0.0, \"#0d0887\"], [0.1111111111111111, \"#46039f\"], [0.2222222222222222, \"#7201a8\"], [0.3333333333333333, \"#9c179e\"], [0.4444444444444444, \"#bd3786\"], [0.5555555555555556, \"#d8576b\"], [0.6666666666666666, \"#ed7953\"], [0.7777777777777778, \"#fb9f3a\"], [0.8888888888888888, \"#fdca26\"], [1.0, \"#f0f921\"]], \"type\": \"contour\"}], \"contourcarpet\": [{\"colorbar\": {\"outlinewidth\": 0, \"ticks\": \"\"}, \"type\": \"contourcarpet\"}], \"heatmap\": [{\"colorbar\": {\"outlinewidth\": 0, \"ticks\": \"\"}, \"colorscale\": [[0.0, \"#0d0887\"], [0.1111111111111111, \"#46039f\"], [0.2222222222222222, \"#7201a8\"], [0.3333333333333333, \"#9c179e\"], [0.4444444444444444, \"#bd3786\"], [0.5555555555555556, \"#d8576b\"], [0.6666666666666666, \"#ed7953\"], [0.7777777777777778, \"#fb9f3a\"], [0.8888888888888888, \"#fdca26\"], [1.0, \"#f0f921\"]], \"type\": \"heatmap\"}], \"heatmapgl\": [{\"colorbar\": {\"outlinewidth\": 0, \"ticks\": \"\"}, \"colorscale\": [[0.0, \"#0d0887\"], [0.1111111111111111, \"#46039f\"], [0.2222222222222222, \"#7201a8\"], [0.3333333333333333, \"#9c179e\"], [0.4444444444444444, \"#bd3786\"], [0.5555555555555556, \"#d8576b\"], [0.6666666666666666, \"#ed7953\"], [0.7777777777777778, \"#fb9f3a\"], [0.8888888888888888, \"#fdca26\"], [1.0, \"#f0f921\"]], \"type\": \"heatmapgl\"}], \"histogram\": [{\"marker\": {\"colorbar\": {\"outlinewidth\": 0, \"ticks\": \"\"}}, \"type\": \"histogram\"}], \"histogram2d\": [{\"colorbar\": {\"outlinewidth\": 0, \"ticks\": \"\"}, \"colorscale\": [[0.0, \"#0d0887\"], [0.1111111111111111, \"#46039f\"], [0.2222222222222222, \"#7201a8\"], [0.3333333333333333, \"#9c179e\"], [0.4444444444444444, \"#bd3786\"], [0.5555555555555556, \"#d8576b\"], [0.6666666666666666, \"#ed7953\"], [0.7777777777777778, \"#fb9f3a\"], [0.8888888888888888, \"#fdca26\"], [1.0, \"#f0f921\"]], \"type\": \"histogram2d\"}], \"histogram2dcontour\": [{\"colorbar\": {\"outlinewidth\": 0, \"ticks\": \"\"}, \"colorscale\": [[0.0, \"#0d0887\"], [0.1111111111111111, \"#46039f\"], [0.2222222222222222, \"#7201a8\"], [0.3333333333333333, \"#9c179e\"], [0.4444444444444444, \"#bd3786\"], [0.5555555555555556, \"#d8576b\"], [0.6666666666666666, \"#ed7953\"], [0.7777777777777778, \"#fb9f3a\"], [0.8888888888888888, \"#fdca26\"], [1.0, \"#f0f921\"]], \"type\": \"histogram2dcontour\"}], \"mesh3d\": [{\"colorbar\": {\"outlinewidth\": 0, \"ticks\": \"\"}, \"type\": \"mesh3d\"}], \"parcoords\": [{\"line\": {\"colorbar\": {\"outlinewidth\": 0, \"ticks\": \"\"}}, \"type\": \"parcoords\"}], \"pie\": [{\"automargin\": true, \"type\": \"pie\"}], \"scatter\": [{\"marker\": {\"colorbar\": {\"outlinewidth\": 0, \"ticks\": \"\"}}, \"type\": \"scatter\"}], \"scatter3d\": [{\"line\": {\"colorbar\": {\"outlinewidth\": 0, \"ticks\": \"\"}}, \"marker\": {\"colorbar\": {\"outlinewidth\": 0, \"ticks\": \"\"}}, \"type\": \"scatter3d\"}], \"scattercarpet\": [{\"marker\": {\"colorbar\": {\"outlinewidth\": 0, \"ticks\": \"\"}}, \"type\": \"scattercarpet\"}], \"scattergeo\": [{\"marker\": {\"colorbar\": {\"outlinewidth\": 0, \"ticks\": \"\"}}, \"type\": \"scattergeo\"}], \"scattergl\": [{\"marker\": {\"colorbar\": {\"outlinewidth\": 0, \"ticks\": \"\"}}, \"type\": \"scattergl\"}], \"scattermapbox\": [{\"marker\": {\"colorbar\": {\"outlinewidth\": 0, \"ticks\": \"\"}}, \"type\": \"scattermapbox\"}], \"scatterpolar\": [{\"marker\": {\"colorbar\": {\"outlinewidth\": 0, \"ticks\": \"\"}}, \"type\": \"scatterpolar\"}], \"scatterpolargl\": [{\"marker\": {\"colorbar\": {\"outlinewidth\": 0, \"ticks\": \"\"}}, \"type\": \"scatterpolargl\"}], \"scatterternary\": [{\"marker\": {\"colorbar\": {\"outlinewidth\": 0, \"ticks\": \"\"}}, \"type\": \"scatterternary\"}], \"surface\": [{\"colorbar\": {\"outlinewidth\": 0, \"ticks\": \"\"}, \"colorscale\": [[0.0, \"#0d0887\"], [0.1111111111111111, \"#46039f\"], [0.2222222222222222, \"#7201a8\"], [0.3333333333333333, \"#9c179e\"], [0.4444444444444444, \"#bd3786\"], [0.5555555555555556, \"#d8576b\"], [0.6666666666666666, \"#ed7953\"], [0.7777777777777778, \"#fb9f3a\"], [0.8888888888888888, \"#fdca26\"], [1.0, \"#f0f921\"]], \"type\": \"surface\"}], \"table\": [{\"cells\": {\"fill\": {\"color\": \"#EBF0F8\"}, \"line\": {\"color\": \"white\"}}, \"header\": {\"fill\": {\"color\": \"#C8D4E3\"}, \"line\": {\"color\": \"white\"}}, \"type\": \"table\"}]}, \"layout\": {\"annotationdefaults\": {\"arrowcolor\": \"#2a3f5f\", \"arrowhead\": 0, \"arrowwidth\": 1}, \"coloraxis\": {\"colorbar\": {\"outlinewidth\": 0, \"ticks\": \"\"}}, \"colorscale\": {\"diverging\": [[0, \"#8e0152\"], [0.1, \"#c51b7d\"], [0.2, \"#de77ae\"], [0.3, \"#f1b6da\"], [0.4, \"#fde0ef\"], [0.5, \"#f7f7f7\"], [0.6, \"#e6f5d0\"], [0.7, \"#b8e186\"], [0.8, \"#7fbc41\"], [0.9, \"#4d9221\"], [1, \"#276419\"]], \"sequential\": [[0.0, \"#0d0887\"], [0.1111111111111111, \"#46039f\"], [0.2222222222222222, \"#7201a8\"], [0.3333333333333333, \"#9c179e\"], [0.4444444444444444, \"#bd3786\"], [0.5555555555555556, \"#d8576b\"], [0.6666666666666666, \"#ed7953\"], [0.7777777777777778, \"#fb9f3a\"], [0.8888888888888888, \"#fdca26\"], [1.0, \"#f0f921\"]], \"sequentialminus\": [[0.0, \"#0d0887\"], [0.1111111111111111, \"#46039f\"], [0.2222222222222222, \"#7201a8\"], [0.3333333333333333, \"#9c179e\"], [0.4444444444444444, \"#bd3786\"], [0.5555555555555556, \"#d8576b\"], [0.6666666666666666, \"#ed7953\"], [0.7777777777777778, \"#fb9f3a\"], [0.8888888888888888, \"#fdca26\"], [1.0, \"#f0f921\"]]}, \"colorway\": [\"#636efa\", \"#EF553B\", \"#00cc96\", \"#ab63fa\", \"#FFA15A\", \"#19d3f3\", \"#FF6692\", \"#B6E880\", \"#FF97FF\", \"#FECB52\"], \"font\": {\"color\": \"#2a3f5f\"}, \"geo\": {\"bgcolor\": \"white\", \"lakecolor\": \"white\", \"landcolor\": \"#E5ECF6\", \"showlakes\": true, \"showland\": true, \"subunitcolor\": \"white\"}, \"hoverlabel\": {\"align\": \"left\"}, \"hovermode\": \"closest\", \"mapbox\": {\"style\": \"light\"}, \"paper_bgcolor\": \"white\", \"plot_bgcolor\": \"#E5ECF6\", \"polar\": {\"angularaxis\": {\"gridcolor\": \"white\", \"linecolor\": \"white\", \"ticks\": \"\"}, \"bgcolor\": \"#E5ECF6\", \"radialaxis\": {\"gridcolor\": \"white\", \"linecolor\": \"white\", \"ticks\": \"\"}}, \"scene\": {\"xaxis\": {\"backgroundcolor\": \"#E5ECF6\", \"gridcolor\": \"white\", \"gridwidth\": 2, \"linecolor\": \"white\", \"showbackground\": true, \"ticks\": \"\", \"zerolinecolor\": \"white\"}, \"yaxis\": {\"backgroundcolor\": \"#E5ECF6\", \"gridcolor\": \"white\", \"gridwidth\": 2, \"linecolor\": \"white\", \"showbackground\": true, \"ticks\": \"\", \"zerolinecolor\": \"white\"}, \"zaxis\": {\"backgroundcolor\": \"#E5ECF6\", \"gridcolor\": \"white\", \"gridwidth\": 2, \"linecolor\": \"white\", \"showbackground\": true, \"ticks\": \"\", \"zerolinecolor\": \"white\"}}, \"shapedefaults\": {\"line\": {\"color\": \"#2a3f5f\"}}, \"ternary\": {\"aaxis\": {\"gridcolor\": \"white\", \"linecolor\": \"white\", \"ticks\": \"\"}, \"baxis\": {\"gridcolor\": \"white\", \"linecolor\": \"white\", \"ticks\": \"\"}, \"bgcolor\": \"#E5ECF6\", \"caxis\": {\"gridcolor\": \"white\", \"linecolor\": \"white\", \"ticks\": \"\"}}, \"title\": {\"x\": 0.05}, \"xaxis\": {\"automargin\": true, \"gridcolor\": \"white\", \"linecolor\": \"white\", \"ticks\": \"\", \"title\": {\"standoff\": 15}, \"zerolinecolor\": \"white\", \"zerolinewidth\": 2}, \"yaxis\": {\"automargin\": true, \"gridcolor\": \"white\", \"linecolor\": \"white\", \"ticks\": \"\", \"title\": {\"standoff\": 15}, \"zerolinecolor\": \"white\", \"zerolinewidth\": 2}}}, \"title\": {\"text\": \"URL = https://de.wikipedia.org/wiki/Diskussion:Karl_Astel &  Total Count = 12\"}, \"width\": 1700, \"xaxis\": {\"tickangle\": -90, \"title\": {\"text\": \"Hour_Minute\"}}, \"yaxis\": {\"title\": {\"text\": \"URL Count (per min)\"}}},\n",
              "                        {\"responsive\": true}\n",
              "                    ).then(function(){\n",
              "                            \n",
              "var gd = document.getElementById('1492eaf1-8c65-4c56-bfbd-2701ac01058b');\n",
              "var x = new MutationObserver(function (mutations, observer) {{\n",
              "        var display = window.getComputedStyle(gd).display;\n",
              "        if (!display || display === 'none') {{\n",
              "            console.log([gd, 'removed!']);\n",
              "            Plotly.purge(gd);\n",
              "            observer.disconnect();\n",
              "        }}\n",
              "}});\n",
              "\n",
              "// Listen for the removal of the full notebook cells\n",
              "var notebookContainer = gd.closest('#notebook-container');\n",
              "if (notebookContainer) {{\n",
              "    x.observe(notebookContainer, {childList: true});\n",
              "}}\n",
              "\n",
              "// Listen for the clearing of the current output cell\n",
              "var outputEl = gd.closest('.output');\n",
              "if (outputEl) {{\n",
              "    x.observe(outputEl, {childList: true});\n",
              "}}\n",
              "\n",
              "                        })\n",
              "                };\n",
              "                \n",
              "            </script>\n",
              "        </div>\n",
              "</body>\n",
              "</html>"
            ]
          },
          "metadata": {
            "tags": []
          }
        }
      ]
    },
    {
      "cell_type": "markdown",
      "metadata": {
        "id": "cbQsxzOFuK8e"
      },
      "source": [
        "\n",
        "\n",
        "---\n",
        "\n"
      ]
    },
    {
      "cell_type": "markdown",
      "metadata": {
        "id": "VdETmFxluL8t"
      },
      "source": [
        "<a name=\"12\"></a>\n",
        "**12. Common Wikipedia title between languages and its quantity Edits/minute**"
      ]
    },
    {
      "cell_type": "code",
      "metadata": {
        "colab": {
          "base_uri": "https://localhost:8080/",
          "height": 817
        },
        "cellView": "form",
        "id": "W9gV0LPlhu56",
        "outputId": "844c59d6-37b5-46c0-9b7f-91c9859bfb8e"
      },
      "source": [
        "#@title Run the cell\n",
        "def common_title_between_languges(df):\n",
        "  eng_title        = set(df[df.language == 'en']['title'].unique().tolist())\n",
        "  no_eng_title     = set(df[df.language != 'en']['title'].unique().tolist())\n",
        "  insection_pages  = eng_title.intersection(no_eng_title)\n",
        "  common_lang_dict = {tit : dict(df[df.title == tit].groupby('language').size()) for tit in insection_pages}\n",
        "  Title = [] ; resp_lang = [] ; resp_qty = []\n",
        "  for key, val in common_lang_dict.items():\n",
        "    for k, v in val.items():\n",
        "      Title.append(key)\n",
        "      resp_lang.append(k)\n",
        "      resp_qty.append(v)\n",
        "  common_lang_df = pd.DataFrame({'title' : Title, 'lang' : resp_lang, 'qty' :resp_qty })\n",
        "  return common_lang_df\n",
        "    \n",
        "common_lang_df = common_title_between_languges(df)\n",
        "\n",
        "fig = go.Figure()\n",
        "fig = px.scatter(common_lang_df , x=\"title\", y=\"qty\", color=\"lang\", size='qty')\n",
        "fig.update_xaxes(tickangle = 270, title_font = {\"size\": 8},     title_standoff = 25)\n",
        "fig.update_yaxes(title_font = {\"size\": 10},     title_standoff = 25)\n",
        "fig.update_layout(title= 'Common Wikipedia Title between Languages', xaxis_title='Wikipedia Title', yaxis_title='Edits_qty', height=800, width=1700)\n",
        "fig.show()\n"
      ],
      "execution_count": null,
      "outputs": [
        {
          "output_type": "display_data",
          "data": {
            "text/html": [
              "<html>\n",
              "<head><meta charset=\"utf-8\" /></head>\n",
              "<body>\n",
              "    <div>\n",
              "            <script src=\"https://cdnjs.cloudflare.com/ajax/libs/mathjax/2.7.5/MathJax.js?config=TeX-AMS-MML_SVG\"></script><script type=\"text/javascript\">if (window.MathJax) {MathJax.Hub.Config({SVG: {font: \"STIX-Web\"}});}</script>\n",
              "                <script type=\"text/javascript\">window.PlotlyConfig = {MathJaxConfig: 'local'};</script>\n",
              "        <script src=\"https://cdn.plot.ly/plotly-latest.min.js\"></script>    \n",
              "            <div id=\"7268ab14-c1df-4a0a-8106-4ca5b6665c17\" class=\"plotly-graph-div\" style=\"height:800px; width:1700px;\"></div>\n",
              "            <script type=\"text/javascript\">\n",
              "                \n",
              "                    window.PLOTLYENV=window.PLOTLYENV || {};\n",
              "                    \n",
              "                if (document.getElementById(\"7268ab14-c1df-4a0a-8106-4ca5b6665c17\")) {\n",
              "                    Plotly.newPlot(\n",
              "                        '7268ab14-c1df-4a0a-8106-4ca5b6665c17',\n",
              "                        [{\"hoverlabel\": {\"namelength\": 0}, \"hovertemplate\": \"lang=en<br>title=%{x}<br>qty=%{marker.size}\", \"legendgroup\": \"lang=en\", \"marker\": {\"color\": \"#636efa\", \"size\": [2, 1, 1, 2, 2, 1, 1, 1, 9, 2, 1, 1, 1, 1, 2, 1, 1, 1, 6, 1, 1, 1, 1, 1, 2, 2, 1, 2, 1, 3, 1, 1, 1, 5, 5, 2, 1, 1, 1, 1, 2, 7, 3, 1, 3, 1, 1, 1, 2], \"sizemode\": \"area\", \"sizeref\": 0.0225, \"symbol\": \"circle\"}, \"mode\": \"markers\", \"name\": \"lang=en\", \"showlegend\": true, \"type\": \"scatter\", \"x\": [\"Aleksandr Kokorin\", \"Jean Graton\", \"Mike Pence\", \"Avril Haines\", \"Parc Montsouris\", \"Arvi Hurskainen\", \"Peter Swan\", \"Billie Eilish\", \"Arkadiusz Milik\", \"Brighton\", \"User talk:Stuifrombkk\", \"Marion Jones\", \"Kamala Harris\", \"Lubomir Kavalek\", \"Keith Nichols\", \"Nantes\", \"FC Schalke 04\", \"QAnon\", \"Collin Sexton\", \"El Cid\", \"Vladimir Putin\", \"Peter Pan & Wendy\", \"Launaea arborescens\", \"Matt Hardy\", \"Strahinja Pavlovi\\u0107\", \"Frankfurt\", \"Zack Snyder's Justice League\", \"Ahmed Kutucu\", \"Raimo Olavi Toivonen\", \"Caudini\", \"Meitu\", \"Abraham Lincoln\", \"Peer Baierlein\", \"Sako A7\", \"Amanda Gorman\", \"Marlon Frey\", \"Josef Bican\", \"I Made Mangku Pastika\", \"Czech Airlines\", \"Bardejov\", \"Joe Biden\", \"Jackson Mthembu\", \"The Hill We Climb\", \"Delta Air Lines\", \"Metro 2033\", \"Capo\", \"Hillary Clinton\", \"Luis Antonio Tagle\", \"Brian George\"], \"xaxis\": \"x\", \"y\": [2, 1, 1, 2, 2, 1, 1, 1, 9, 2, 1, 1, 1, 1, 2, 1, 1, 1, 6, 1, 1, 1, 1, 1, 2, 2, 1, 2, 1, 3, 1, 1, 1, 5, 5, 2, 1, 1, 1, 1, 2, 7, 3, 1, 3, 1, 1, 1, 2], \"yaxis\": \"y\"}, {\"hoverlabel\": {\"namelength\": 0}, \"hovertemplate\": \"lang=fr<br>title=%{x}<br>qty=%{marker.size}\", \"legendgroup\": \"lang=fr\", \"marker\": {\"color\": \"#EF553B\", \"size\": [3, 1, 1, 6, 1, 2, 1, 2, 1, 9, 1, 1, 1, 1], \"sizemode\": \"area\", \"sizeref\": 0.0225, \"symbol\": \"circle\"}, \"mode\": \"markers\", \"name\": \"lang=fr\", \"showlegend\": true, \"type\": \"scatter\", \"x\": [\"Aleksandr Kokorin\", \"Mike Pence\", \"Avril Haines\", \"Parc Montsouris\", \"Peter Swan\", \"Arkadiusz Milik\", \"Nantes\", \"QAnon\", \"Strahinja Pavlovi\\u0107\", \"Zack Snyder's Justice League\", \"Abraham Lincoln\", \"Peer Baierlein\", \"Amanda Gorman\", \"Brian George\"], \"xaxis\": \"x\", \"y\": [3, 1, 1, 6, 1, 2, 1, 2, 1, 9, 1, 1, 1, 1], \"yaxis\": \"y\"}, {\"hoverlabel\": {\"namelength\": 0}, \"hovertemplate\": \"lang=de<br>title=%{x}<br>qty=%{marker.size}\", \"legendgroup\": \"lang=de\", \"marker\": {\"color\": \"#00cc96\", \"size\": [1, 5, 2, 1, 1, 1, 3, 1, 1, 1, 1, 1, 1, 4, 2], \"sizemode\": \"area\", \"sizeref\": 0.0225, \"symbol\": \"circle\"}, \"mode\": \"markers\", \"name\": \"lang=de\", \"showlegend\": true, \"type\": \"scatter\", \"x\": [\"Jean Graton\", \"Brighton\", \"Kamala Harris\", \"Keith Nichols\", \"FC Schalke 04\", \"QAnon\", \"Ahmed Kutucu\", \"Raimo Olavi Toivonen\", \"Peer Baierlein\", \"Amanda Gorman\", \"Marlon Frey\", \"I Made Mangku Pastika\", \"Czech Airlines\", \"Joe Biden\", \"The Hill We Climb\"], \"xaxis\": \"x\", \"y\": [1, 5, 2, 1, 1, 1, 3, 1, 1, 1, 1, 1, 1, 4, 2], \"yaxis\": \"y\"}, {\"hoverlabel\": {\"namelength\": 0}, \"hovertemplate\": \"lang=it<br>title=%{x}<br>qty=%{marker.size}\", \"legendgroup\": \"lang=it\", \"marker\": {\"color\": \"#ab63fa\", \"size\": [1, 1, 2, 2, 1, 3], \"sizemode\": \"area\", \"sizeref\": 0.0225, \"symbol\": \"circle\"}, \"mode\": \"markers\", \"name\": \"lang=it\", \"showlegend\": true, \"type\": \"scatter\", \"x\": [\"Jean Graton\", \"Billie Eilish\", \"Kamala Harris\", \"Caudini\", \"Josef Bican\", \"Joe Biden\"], \"xaxis\": \"x\", \"y\": [1, 1, 2, 2, 1, 3], \"yaxis\": \"y\"}, {\"hoverlabel\": {\"namelength\": 0}, \"hovertemplate\": \"lang=nl<br>title=%{x}<br>qty=%{marker.size}\", \"legendgroup\": \"lang=nl\", \"marker\": {\"color\": \"#FFA15A\", \"size\": [1, 4, 1], \"sizemode\": \"area\", \"sizeref\": 0.0225, \"symbol\": \"circle\"}, \"mode\": \"markers\", \"name\": \"lang=nl\", \"showlegend\": true, \"type\": \"scatter\", \"x\": [\"Jean Graton\", \"Strahinja Pavlovi\\u0107\", \"Peer Baierlein\"], \"xaxis\": \"x\", \"y\": [1, 4, 1], \"yaxis\": \"y\"}, {\"hoverlabel\": {\"namelength\": 0}, \"hovertemplate\": \"lang=da<br>title=%{x}<br>qty=%{marker.size}\", \"legendgroup\": \"lang=da\", \"marker\": {\"color\": \"#19d3f3\", \"size\": [1, 1, 4], \"sizemode\": \"area\", \"sizeref\": 0.0225, \"symbol\": \"circle\"}, \"mode\": \"markers\", \"name\": \"lang=da\", \"showlegend\": true, \"type\": \"scatter\", \"x\": [\"Mike Pence\", \"Raimo Olavi Toivonen\", \"Amanda Gorman\"], \"xaxis\": \"x\", \"y\": [1, 1, 4], \"yaxis\": \"y\"}, {\"hoverlabel\": {\"namelength\": 0}, \"hovertemplate\": \"lang=fi<br>title=%{x}<br>qty=%{marker.size}\", \"legendgroup\": \"lang=fi\", \"marker\": {\"color\": \"#FF6692\", \"size\": [1, 1, 5], \"sizemode\": \"area\", \"sizeref\": 0.0225, \"symbol\": \"circle\"}, \"mode\": \"markers\", \"name\": \"lang=fi\", \"showlegend\": true, \"type\": \"scatter\", \"x\": [\"Arvi Hurskainen\", \"Bardejov\", \"Joe Biden\"], \"xaxis\": \"x\", \"y\": [1, 1, 5], \"yaxis\": \"y\"}, {\"hoverlabel\": {\"namelength\": 0}, \"hovertemplate\": \"lang=hu<br>title=%{x}<br>qty=%{marker.size}\", \"legendgroup\": \"lang=hu\", \"marker\": {\"color\": \"#B6E880\", \"size\": [2], \"sizemode\": \"area\", \"sizeref\": 0.0225, \"symbol\": \"circle\"}, \"mode\": \"markers\", \"name\": \"lang=hu\", \"showlegend\": true, \"type\": \"scatter\", \"x\": [\"Peter Swan\"], \"xaxis\": \"x\", \"y\": [2], \"yaxis\": \"y\"}, {\"hoverlabel\": {\"namelength\": 0}, \"hovertemplate\": \"lang=commons<br>title=%{x}<br>qty=%{marker.size}\", \"legendgroup\": \"lang=commons\", \"marker\": {\"color\": \"#FF97FF\", \"size\": [1], \"sizemode\": \"area\", \"sizeref\": 0.0225, \"symbol\": \"circle\"}, \"mode\": \"markers\", \"name\": \"lang=commons\", \"showlegend\": true, \"type\": \"scatter\", \"x\": [\"User talk:Stuifrombkk\"], \"xaxis\": \"x\", \"y\": [1], \"yaxis\": \"y\"}, {\"hoverlabel\": {\"namelength\": 0}, \"hovertemplate\": \"lang=pl<br>title=%{x}<br>qty=%{marker.size}\", \"legendgroup\": \"lang=pl\", \"marker\": {\"color\": \"#FECB52\", \"size\": [1, 1, 1], \"sizemode\": \"area\", \"sizeref\": 0.0225, \"symbol\": \"circle\"}, \"mode\": \"markers\", \"name\": \"lang=pl\", \"showlegend\": true, \"type\": \"scatter\", \"x\": [\"Marion Jones\", \"Joe Biden\", \"Capo\"], \"xaxis\": \"x\", \"y\": [1, 1, 1], \"yaxis\": \"y\"}, {\"hoverlabel\": {\"namelength\": 0}, \"hovertemplate\": \"lang=es<br>title=%{x}<br>qty=%{marker.size}\", \"legendgroup\": \"lang=es\", \"marker\": {\"color\": \"#636efa\", \"size\": [1, 3, 3, 1, 1, 1, 1, 3, 1, 1], \"sizemode\": \"area\", \"sizeref\": 0.0225, \"symbol\": \"circle\"}, \"mode\": \"markers\", \"name\": \"lang=es\", \"showlegend\": true, \"type\": \"scatter\", \"x\": [\"Kamala Harris\", \"Collin Sexton\", \"Peter Pan & Wendy\", \"Launaea arborescens\", \"Raimo Olavi Toivonen\", \"Amanda Gorman\", \"Bardejov\", \"Jackson Mthembu\", \"Delta Air Lines\", \"Hillary Clinton\"], \"xaxis\": \"x\", \"y\": [1, 3, 3, 1, 1, 1, 1, 3, 1, 1], \"yaxis\": \"y\"}, {\"hoverlabel\": {\"namelength\": 0}, \"hovertemplate\": \"lang=sv<br>title=%{x}<br>qty=%{marker.size}\", \"legendgroup\": \"lang=sv\", \"marker\": {\"color\": \"#EF553B\", \"size\": [2], \"sizemode\": \"area\", \"sizeref\": 0.0225, \"symbol\": \"circle\"}, \"mode\": \"markers\", \"name\": \"lang=sv\", \"showlegend\": true, \"type\": \"scatter\", \"x\": [\"Kamala Harris\"], \"xaxis\": \"x\", \"y\": [2], \"yaxis\": \"y\"}, {\"hoverlabel\": {\"namelength\": 0}, \"hovertemplate\": \"lang=vi<br>title=%{x}<br>qty=%{marker.size}\", \"legendgroup\": \"lang=vi\", \"marker\": {\"color\": \"#00cc96\", \"size\": [1, 2], \"sizemode\": \"area\", \"sizeref\": 0.0225, \"symbol\": \"circle\"}, \"mode\": \"markers\", \"name\": \"lang=vi\", \"showlegend\": true, \"type\": \"scatter\", \"x\": [\"Kamala Harris\", \"Josef Bican\"], \"xaxis\": \"x\", \"y\": [1, 2], \"yaxis\": \"y\"}, {\"hoverlabel\": {\"namelength\": 0}, \"hovertemplate\": \"lang=tr<br>title=%{x}<br>qty=%{marker.size}\", \"legendgroup\": \"lang=tr\", \"marker\": {\"color\": \"#ab63fa\", \"size\": [1], \"sizemode\": \"area\", \"sizeref\": 0.0225, \"symbol\": \"circle\"}, \"mode\": \"markers\", \"name\": \"lang=tr\", \"showlegend\": true, \"type\": \"scatter\", \"x\": [\"Lubomir Kavalek\"], \"xaxis\": \"x\", \"y\": [1], \"yaxis\": \"y\"}, {\"hoverlabel\": {\"namelength\": 0}, \"hovertemplate\": \"lang=pt<br>title=%{x}<br>qty=%{marker.size}\", \"legendgroup\": \"lang=pt\", \"marker\": {\"color\": \"#FFA15A\", \"size\": [1, 1], \"sizemode\": \"area\", \"sizeref\": 0.0225, \"symbol\": \"circle\"}, \"mode\": \"markers\", \"name\": \"lang=pt\", \"showlegend\": true, \"type\": \"scatter\", \"x\": [\"QAnon\", \"Raimo Olavi Toivonen\"], \"xaxis\": \"x\", \"y\": [1, 1], \"yaxis\": \"y\"}, {\"hoverlabel\": {\"namelength\": 0}, \"hovertemplate\": \"lang=br<br>title=%{x}<br>qty=%{marker.size}\", \"legendgroup\": \"lang=br\", \"marker\": {\"color\": \"#19d3f3\", \"size\": [1], \"sizemode\": \"area\", \"sizeref\": 0.0225, \"symbol\": \"circle\"}, \"mode\": \"markers\", \"name\": \"lang=br\", \"showlegend\": true, \"type\": \"scatter\", \"x\": [\"El Cid\"], \"xaxis\": \"x\", \"y\": [1], \"yaxis\": \"y\"}, {\"hoverlabel\": {\"namelength\": 0}, \"hovertemplate\": \"lang=cs<br>title=%{x}<br>qty=%{marker.size}\", \"legendgroup\": \"lang=cs\", \"marker\": {\"color\": \"#FF6692\", \"size\": [1, 3], \"sizemode\": \"area\", \"sizeref\": 0.0225, \"symbol\": \"circle\"}, \"mode\": \"markers\", \"name\": \"lang=cs\", \"showlegend\": true, \"type\": \"scatter\", \"x\": [\"Vladimir Putin\", \"Joe Biden\"], \"xaxis\": \"x\", \"y\": [1, 3], \"yaxis\": \"y\"}, {\"hoverlabel\": {\"namelength\": 0}, \"hovertemplate\": \"lang=no<br>title=%{x}<br>qty=%{marker.size}\", \"legendgroup\": \"lang=no\", \"marker\": {\"color\": \"#B6E880\", \"size\": [1, 1], \"sizemode\": \"area\", \"sizeref\": 0.0225, \"symbol\": \"circle\"}, \"mode\": \"markers\", \"name\": \"lang=no\", \"showlegend\": true, \"type\": \"scatter\", \"x\": [\"Matt Hardy\", \"Sako A7\"], \"xaxis\": \"x\", \"y\": [1, 1], \"yaxis\": \"y\"}, {\"hoverlabel\": {\"namelength\": 0}, \"hovertemplate\": \"lang=ha<br>title=%{x}<br>qty=%{marker.size}\", \"legendgroup\": \"lang=ha\", \"marker\": {\"color\": \"#FF97FF\", \"size\": [1], \"sizemode\": \"area\", \"sizeref\": 0.0225, \"symbol\": \"circle\"}, \"mode\": \"markers\", \"name\": \"lang=ha\", \"showlegend\": true, \"type\": \"scatter\", \"x\": [\"Frankfurt\"], \"xaxis\": \"x\", \"y\": [1], \"yaxis\": \"y\"}, {\"hoverlabel\": {\"namelength\": 0}, \"hovertemplate\": \"lang=ru<br>title=%{x}<br>qty=%{marker.size}\", \"legendgroup\": \"lang=ru\", \"marker\": {\"color\": \"#FECB52\", \"size\": [1], \"sizemode\": \"area\", \"sizeref\": 0.0225, \"symbol\": \"circle\"}, \"mode\": \"markers\", \"name\": \"lang=ru\", \"showlegend\": true, \"type\": \"scatter\", \"x\": [\"Meitu\"], \"xaxis\": \"x\", \"y\": [1], \"yaxis\": \"y\"}, {\"hoverlabel\": {\"namelength\": 0}, \"hovertemplate\": \"lang=lt<br>title=%{x}<br>qty=%{marker.size}\", \"legendgroup\": \"lang=lt\", \"marker\": {\"color\": \"#636efa\", \"size\": [1], \"sizemode\": \"area\", \"sizeref\": 0.0225, \"symbol\": \"circle\"}, \"mode\": \"markers\", \"name\": \"lang=lt\", \"showlegend\": true, \"type\": \"scatter\", \"x\": [\"Joe Biden\"], \"xaxis\": \"x\", \"y\": [1], \"yaxis\": \"y\"}, {\"hoverlabel\": {\"namelength\": 0}, \"hovertemplate\": \"lang=af<br>title=%{x}<br>qty=%{marker.size}\", \"legendgroup\": \"lang=af\", \"marker\": {\"color\": \"#EF553B\", \"size\": [1], \"sizemode\": \"area\", \"sizeref\": 0.0225, \"symbol\": \"circle\"}, \"mode\": \"markers\", \"name\": \"lang=af\", \"showlegend\": true, \"type\": \"scatter\", \"x\": [\"Jackson Mthembu\"], \"xaxis\": \"x\", \"y\": [1], \"yaxis\": \"y\"}, {\"hoverlabel\": {\"namelength\": 0}, \"hovertemplate\": \"lang=mk<br>title=%{x}<br>qty=%{marker.size}\", \"legendgroup\": \"lang=mk\", \"marker\": {\"color\": \"#00cc96\", \"size\": [1], \"sizemode\": \"area\", \"sizeref\": 0.0225, \"symbol\": \"circle\"}, \"mode\": \"markers\", \"name\": \"lang=mk\", \"showlegend\": true, \"type\": \"scatter\", \"x\": [\"Metro 2033\"], \"xaxis\": \"x\", \"y\": [1], \"yaxis\": \"y\"}, {\"hoverlabel\": {\"namelength\": 0}, \"hovertemplate\": \"lang=ca<br>title=%{x}<br>qty=%{marker.size}\", \"legendgroup\": \"lang=ca\", \"marker\": {\"color\": \"#ab63fa\", \"size\": [1], \"sizemode\": \"area\", \"sizeref\": 0.0225, \"symbol\": \"circle\"}, \"mode\": \"markers\", \"name\": \"lang=ca\", \"showlegend\": true, \"type\": \"scatter\", \"x\": [\"Luis Antonio Tagle\"], \"xaxis\": \"x\", \"y\": [1], \"yaxis\": \"y\"}],\n",
              "                        {\"height\": 800, \"legend\": {\"itemsizing\": \"constant\", \"tracegroupgap\": 0}, \"margin\": {\"t\": 60}, \"template\": {\"data\": {\"bar\": [{\"error_x\": {\"color\": \"#2a3f5f\"}, \"error_y\": {\"color\": \"#2a3f5f\"}, \"marker\": {\"line\": {\"color\": \"#E5ECF6\", \"width\": 0.5}}, \"type\": \"bar\"}], \"barpolar\": [{\"marker\": {\"line\": {\"color\": \"#E5ECF6\", \"width\": 0.5}}, \"type\": \"barpolar\"}], \"carpet\": [{\"aaxis\": {\"endlinecolor\": \"#2a3f5f\", \"gridcolor\": \"white\", \"linecolor\": \"white\", \"minorgridcolor\": \"white\", \"startlinecolor\": \"#2a3f5f\"}, \"baxis\": {\"endlinecolor\": \"#2a3f5f\", \"gridcolor\": \"white\", \"linecolor\": \"white\", \"minorgridcolor\": \"white\", \"startlinecolor\": \"#2a3f5f\"}, \"type\": \"carpet\"}], \"choropleth\": [{\"colorbar\": {\"outlinewidth\": 0, \"ticks\": \"\"}, \"type\": \"choropleth\"}], \"contour\": [{\"colorbar\": {\"outlinewidth\": 0, \"ticks\": \"\"}, \"colorscale\": [[0.0, \"#0d0887\"], [0.1111111111111111, \"#46039f\"], [0.2222222222222222, \"#7201a8\"], [0.3333333333333333, \"#9c179e\"], [0.4444444444444444, \"#bd3786\"], [0.5555555555555556, \"#d8576b\"], [0.6666666666666666, \"#ed7953\"], [0.7777777777777778, \"#fb9f3a\"], [0.8888888888888888, \"#fdca26\"], [1.0, \"#f0f921\"]], \"type\": \"contour\"}], \"contourcarpet\": [{\"colorbar\": {\"outlinewidth\": 0, \"ticks\": \"\"}, \"type\": \"contourcarpet\"}], \"heatmap\": [{\"colorbar\": {\"outlinewidth\": 0, \"ticks\": \"\"}, \"colorscale\": [[0.0, \"#0d0887\"], [0.1111111111111111, \"#46039f\"], [0.2222222222222222, \"#7201a8\"], [0.3333333333333333, \"#9c179e\"], [0.4444444444444444, \"#bd3786\"], [0.5555555555555556, \"#d8576b\"], [0.6666666666666666, \"#ed7953\"], [0.7777777777777778, \"#fb9f3a\"], [0.8888888888888888, \"#fdca26\"], [1.0, \"#f0f921\"]], \"type\": \"heatmap\"}], \"heatmapgl\": [{\"colorbar\": {\"outlinewidth\": 0, \"ticks\": \"\"}, \"colorscale\": [[0.0, \"#0d0887\"], [0.1111111111111111, \"#46039f\"], [0.2222222222222222, \"#7201a8\"], [0.3333333333333333, \"#9c179e\"], [0.4444444444444444, \"#bd3786\"], [0.5555555555555556, \"#d8576b\"], [0.6666666666666666, \"#ed7953\"], [0.7777777777777778, \"#fb9f3a\"], [0.8888888888888888, \"#fdca26\"], [1.0, \"#f0f921\"]], \"type\": \"heatmapgl\"}], \"histogram\": [{\"marker\": {\"colorbar\": {\"outlinewidth\": 0, \"ticks\": \"\"}}, \"type\": \"histogram\"}], \"histogram2d\": [{\"colorbar\": {\"outlinewidth\": 0, \"ticks\": \"\"}, \"colorscale\": [[0.0, \"#0d0887\"], [0.1111111111111111, \"#46039f\"], [0.2222222222222222, \"#7201a8\"], [0.3333333333333333, \"#9c179e\"], [0.4444444444444444, \"#bd3786\"], [0.5555555555555556, \"#d8576b\"], [0.6666666666666666, \"#ed7953\"], [0.7777777777777778, \"#fb9f3a\"], [0.8888888888888888, \"#fdca26\"], [1.0, \"#f0f921\"]], \"type\": \"histogram2d\"}], \"histogram2dcontour\": [{\"colorbar\": {\"outlinewidth\": 0, \"ticks\": \"\"}, \"colorscale\": [[0.0, \"#0d0887\"], [0.1111111111111111, \"#46039f\"], [0.2222222222222222, \"#7201a8\"], [0.3333333333333333, \"#9c179e\"], [0.4444444444444444, \"#bd3786\"], [0.5555555555555556, \"#d8576b\"], [0.6666666666666666, \"#ed7953\"], [0.7777777777777778, \"#fb9f3a\"], [0.8888888888888888, \"#fdca26\"], [1.0, \"#f0f921\"]], \"type\": \"histogram2dcontour\"}], \"mesh3d\": [{\"colorbar\": {\"outlinewidth\": 0, \"ticks\": \"\"}, \"type\": \"mesh3d\"}], \"parcoords\": [{\"line\": {\"colorbar\": {\"outlinewidth\": 0, \"ticks\": \"\"}}, \"type\": \"parcoords\"}], \"pie\": [{\"automargin\": true, \"type\": \"pie\"}], \"scatter\": [{\"marker\": {\"colorbar\": {\"outlinewidth\": 0, \"ticks\": \"\"}}, \"type\": \"scatter\"}], \"scatter3d\": [{\"line\": {\"colorbar\": {\"outlinewidth\": 0, \"ticks\": \"\"}}, \"marker\": {\"colorbar\": {\"outlinewidth\": 0, \"ticks\": \"\"}}, \"type\": \"scatter3d\"}], \"scattercarpet\": [{\"marker\": {\"colorbar\": {\"outlinewidth\": 0, \"ticks\": \"\"}}, \"type\": \"scattercarpet\"}], \"scattergeo\": [{\"marker\": {\"colorbar\": {\"outlinewidth\": 0, \"ticks\": \"\"}}, \"type\": \"scattergeo\"}], \"scattergl\": [{\"marker\": {\"colorbar\": {\"outlinewidth\": 0, \"ticks\": \"\"}}, \"type\": \"scattergl\"}], \"scattermapbox\": [{\"marker\": {\"colorbar\": {\"outlinewidth\": 0, \"ticks\": \"\"}}, \"type\": \"scattermapbox\"}], \"scatterpolar\": [{\"marker\": {\"colorbar\": {\"outlinewidth\": 0, \"ticks\": \"\"}}, \"type\": \"scatterpolar\"}], \"scatterpolargl\": [{\"marker\": {\"colorbar\": {\"outlinewidth\": 0, \"ticks\": \"\"}}, \"type\": \"scatterpolargl\"}], \"scatterternary\": [{\"marker\": {\"colorbar\": {\"outlinewidth\": 0, \"ticks\": \"\"}}, \"type\": \"scatterternary\"}], \"surface\": [{\"colorbar\": {\"outlinewidth\": 0, \"ticks\": \"\"}, \"colorscale\": [[0.0, \"#0d0887\"], [0.1111111111111111, \"#46039f\"], [0.2222222222222222, \"#7201a8\"], [0.3333333333333333, \"#9c179e\"], [0.4444444444444444, \"#bd3786\"], [0.5555555555555556, \"#d8576b\"], [0.6666666666666666, \"#ed7953\"], [0.7777777777777778, \"#fb9f3a\"], [0.8888888888888888, \"#fdca26\"], [1.0, \"#f0f921\"]], \"type\": \"surface\"}], \"table\": [{\"cells\": {\"fill\": {\"color\": \"#EBF0F8\"}, \"line\": {\"color\": \"white\"}}, \"header\": {\"fill\": {\"color\": \"#C8D4E3\"}, \"line\": {\"color\": \"white\"}}, \"type\": \"table\"}]}, \"layout\": {\"annotationdefaults\": {\"arrowcolor\": \"#2a3f5f\", \"arrowhead\": 0, \"arrowwidth\": 1}, \"coloraxis\": {\"colorbar\": {\"outlinewidth\": 0, \"ticks\": \"\"}}, \"colorscale\": {\"diverging\": [[0, \"#8e0152\"], [0.1, \"#c51b7d\"], [0.2, \"#de77ae\"], [0.3, \"#f1b6da\"], [0.4, \"#fde0ef\"], [0.5, \"#f7f7f7\"], [0.6, \"#e6f5d0\"], [0.7, \"#b8e186\"], [0.8, \"#7fbc41\"], [0.9, \"#4d9221\"], [1, \"#276419\"]], \"sequential\": [[0.0, \"#0d0887\"], [0.1111111111111111, \"#46039f\"], [0.2222222222222222, \"#7201a8\"], [0.3333333333333333, \"#9c179e\"], [0.4444444444444444, \"#bd3786\"], [0.5555555555555556, \"#d8576b\"], [0.6666666666666666, \"#ed7953\"], [0.7777777777777778, \"#fb9f3a\"], [0.8888888888888888, \"#fdca26\"], [1.0, \"#f0f921\"]], \"sequentialminus\": [[0.0, \"#0d0887\"], [0.1111111111111111, \"#46039f\"], [0.2222222222222222, \"#7201a8\"], [0.3333333333333333, \"#9c179e\"], [0.4444444444444444, \"#bd3786\"], [0.5555555555555556, \"#d8576b\"], [0.6666666666666666, \"#ed7953\"], [0.7777777777777778, \"#fb9f3a\"], [0.8888888888888888, \"#fdca26\"], [1.0, \"#f0f921\"]]}, \"colorway\": [\"#636efa\", \"#EF553B\", \"#00cc96\", \"#ab63fa\", \"#FFA15A\", \"#19d3f3\", \"#FF6692\", \"#B6E880\", \"#FF97FF\", \"#FECB52\"], \"font\": {\"color\": \"#2a3f5f\"}, \"geo\": {\"bgcolor\": \"white\", \"lakecolor\": \"white\", \"landcolor\": \"#E5ECF6\", \"showlakes\": true, \"showland\": true, \"subunitcolor\": \"white\"}, \"hoverlabel\": {\"align\": \"left\"}, \"hovermode\": \"closest\", \"mapbox\": {\"style\": \"light\"}, \"paper_bgcolor\": \"white\", \"plot_bgcolor\": \"#E5ECF6\", \"polar\": {\"angularaxis\": {\"gridcolor\": \"white\", \"linecolor\": \"white\", \"ticks\": \"\"}, \"bgcolor\": \"#E5ECF6\", \"radialaxis\": {\"gridcolor\": \"white\", \"linecolor\": \"white\", \"ticks\": \"\"}}, \"scene\": {\"xaxis\": {\"backgroundcolor\": \"#E5ECF6\", \"gridcolor\": \"white\", \"gridwidth\": 2, \"linecolor\": \"white\", \"showbackground\": true, \"ticks\": \"\", \"zerolinecolor\": \"white\"}, \"yaxis\": {\"backgroundcolor\": \"#E5ECF6\", \"gridcolor\": \"white\", \"gridwidth\": 2, \"linecolor\": \"white\", \"showbackground\": true, \"ticks\": \"\", \"zerolinecolor\": \"white\"}, \"zaxis\": {\"backgroundcolor\": \"#E5ECF6\", \"gridcolor\": \"white\", \"gridwidth\": 2, \"linecolor\": \"white\", \"showbackground\": true, \"ticks\": \"\", \"zerolinecolor\": \"white\"}}, \"shapedefaults\": {\"line\": {\"color\": \"#2a3f5f\"}}, \"ternary\": {\"aaxis\": {\"gridcolor\": \"white\", \"linecolor\": \"white\", \"ticks\": \"\"}, \"baxis\": {\"gridcolor\": \"white\", \"linecolor\": \"white\", \"ticks\": \"\"}, \"bgcolor\": \"#E5ECF6\", \"caxis\": {\"gridcolor\": \"white\", \"linecolor\": \"white\", \"ticks\": \"\"}}, \"title\": {\"x\": 0.05}, \"xaxis\": {\"automargin\": true, \"gridcolor\": \"white\", \"linecolor\": \"white\", \"ticks\": \"\", \"title\": {\"standoff\": 15}, \"zerolinecolor\": \"white\", \"zerolinewidth\": 2}, \"yaxis\": {\"automargin\": true, \"gridcolor\": \"white\", \"linecolor\": \"white\", \"ticks\": \"\", \"title\": {\"standoff\": 15}, \"zerolinecolor\": \"white\", \"zerolinewidth\": 2}}}, \"title\": {\"text\": \"Common Wikipedia Title between Languages\"}, \"width\": 1700, \"xaxis\": {\"anchor\": \"y\", \"domain\": [0.0, 1.0], \"tickangle\": -90, \"title\": {\"text\": \"Wikipedia Title\"}}, \"yaxis\": {\"anchor\": \"x\", \"domain\": [0.0, 1.0], \"title\": {\"text\": \"Edits_qty\"}}},\n",
              "                        {\"responsive\": true}\n",
              "                    ).then(function(){\n",
              "                            \n",
              "var gd = document.getElementById('7268ab14-c1df-4a0a-8106-4ca5b6665c17');\n",
              "var x = new MutationObserver(function (mutations, observer) {{\n",
              "        var display = window.getComputedStyle(gd).display;\n",
              "        if (!display || display === 'none') {{\n",
              "            console.log([gd, 'removed!']);\n",
              "            Plotly.purge(gd);\n",
              "            observer.disconnect();\n",
              "        }}\n",
              "}});\n",
              "\n",
              "// Listen for the removal of the full notebook cells\n",
              "var notebookContainer = gd.closest('#notebook-container');\n",
              "if (notebookContainer) {{\n",
              "    x.observe(notebookContainer, {childList: true});\n",
              "}}\n",
              "\n",
              "// Listen for the clearing of the current output cell\n",
              "var outputEl = gd.closest('.output');\n",
              "if (outputEl) {{\n",
              "    x.observe(outputEl, {childList: true});\n",
              "}}\n",
              "\n",
              "                        })\n",
              "                };\n",
              "                \n",
              "            </script>\n",
              "        </div>\n",
              "</body>\n",
              "</html>"
            ]
          },
          "metadata": {
            "tags": []
          }
        }
      ]
    },
    {
      "cell_type": "markdown",
      "metadata": {
        "id": "NaBku_ev5-4u"
      },
      "source": [
        "<a name=\"13\"></a>\n",
        "**13. Top 10 title for Top 10 Langauges**"
      ]
    },
    {
      "cell_type": "code",
      "metadata": {
        "colab": {
          "base_uri": "https://localhost:8080/",
          "height": 1000
        },
        "cellView": "form",
        "id": "M4tDkPg0zAgH",
        "outputId": "f4a60060-3cad-4a15-efc2-287523b8e4ec"
      },
      "source": [
        "#@title Run the cell\n",
        "def top_10_lang_and_title(top_n_lang = 10, top_n_title = 10):\n",
        "  df_title         = df[['title', 'language']].value_counts().reset_index()\n",
        "  df_title.columns = ['title', 'language', 'qty']\n",
        "  l                = [i for i in df_title.language.unique() if i not in ['wikidata', 'commons']]\n",
        "  df_title         = df_title[df_title['language'].isin(l)].reset_index(drop= True)\n",
        "  top_N_lang      = df_title.language.value_counts().index[:top_n_lang]\n",
        "  top_N_title_for_each_lang = pd.concat([df_title[df_title.language == lang].reset_index(drop= True).loc[:top_n_title] for lang in top_N_lang], 0).reset_index(drop= True)\n",
        "  top_N_title_for_each_lang['lang_title'] = top_N_title_for_each_lang.apply(lambda x : str(x.language)+ '_' + \tstr(x.title[:15]), axis=1)\n",
        "  return top_N_title_for_each_lang\n",
        "\n",
        "top_N_title_for_each_lang = top_10_lang_and_title(top_n_lang = 10, top_n_title = 10)\n",
        "\n",
        "fig = go.Figure()\n",
        "fig = px.scatter(top_N_title_for_each_lang , x=\"title\", y=\"qty\", color=\"language\", size='qty', )\n",
        "fig.update_xaxes(tickangle = 270, title_font = {\"size\": 8},     title_standoff = 25)\n",
        "fig.update_yaxes(title_font = {\"size\": 10},     title_standoff = 25)\n",
        "fig.update_layout(title= 'Common Wikipedia Title between Languages', xaxis_title='Wikipedia Title', yaxis_title='Edits_qty', height=1200, width=1700)\n",
        "fig.show()\n"
      ],
      "execution_count": null,
      "outputs": [
        {
          "output_type": "display_data",
          "data": {
            "text/html": [
              "<html>\n",
              "<head><meta charset=\"utf-8\" /></head>\n",
              "<body>\n",
              "    <div>\n",
              "            <script src=\"https://cdnjs.cloudflare.com/ajax/libs/mathjax/2.7.5/MathJax.js?config=TeX-AMS-MML_SVG\"></script><script type=\"text/javascript\">if (window.MathJax) {MathJax.Hub.Config({SVG: {font: \"STIX-Web\"}});}</script>\n",
              "                <script type=\"text/javascript\">window.PlotlyConfig = {MathJaxConfig: 'local'};</script>\n",
              "        <script src=\"https://cdn.plot.ly/plotly-latest.min.js\"></script>    \n",
              "            <div id=\"0ff93044-b944-41ce-ad8a-bec264eaeca8\" class=\"plotly-graph-div\" style=\"height:1200px; width:1700px;\"></div>\n",
              "            <script type=\"text/javascript\">\n",
              "                \n",
              "                    window.PLOTLYENV=window.PLOTLYENV || {};\n",
              "                    \n",
              "                if (document.getElementById(\"0ff93044-b944-41ce-ad8a-bec264eaeca8\")) {\n",
              "                    Plotly.newPlot(\n",
              "                        '0ff93044-b944-41ce-ad8a-bec264eaeca8',\n",
              "                        [{\"hoverlabel\": {\"namelength\": 0}, \"hovertemplate\": \"language=en<br>title=%{x}<br>qty=%{marker.size}\", \"legendgroup\": \"language=en\", \"marker\": {\"color\": \"#636efa\", \"size\": [69, 32, 23, 21, 18, 18, 17, 16, 15, 15, 14], \"sizemode\": \"area\", \"sizeref\": 0.1725, \"symbol\": \"circle\"}, \"mode\": \"markers\", \"name\": \"language=en\", \"showlegend\": true, \"type\": \"scatter\", \"x\": [\"User:Cyberpower678/Tally\", \"Template:Cases COVID-19 pandemic in Indonesia\", \"User:ItaiVF\", \"User:SandyGeorgia/sandbox4\", \"User:21janvier1793/1\", \"Ted Thompson\", \"Chuck Smith (American football coach)\", \"Talk:WeatherTech SportsCar Championship\", \"Rape laws in the United States\", \"Draft:Philippe Fabry\", \"Wikipedia:Teahouse\"], \"xaxis\": \"x\", \"y\": [69, 32, 23, 21, 18, 18, 17, 16, 15, 15, 14], \"yaxis\": \"y\"}, {\"hoverlabel\": {\"namelength\": 0}, \"hovertemplate\": \"language=fr<br>title=%{x}<br>qty=%{marker.size}\", \"legendgroup\": \"language=fr\", \"marker\": {\"color\": \"#EF553B\", \"size\": [11, 11, 10, 10, 9, 9, 9, 9, 7, 7, 7], \"sizemode\": \"area\", \"sizeref\": 0.1725, \"symbol\": \"circle\"}, \"mode\": \"markers\", \"name\": \"language=fr\", \"showlegend\": true, \"type\": \"scatter\", \"x\": [\"Wikip\\u00e9dia:Signalement\", \"Utilisateur:Aegirios/Brouillon/Mod\\u00e8le\", \"Baptist\\u00e8re de Bekalta\", \"Jardin des Tuileries\", \"Discussion:Campagne de vaccination contre la Covid-19 en France\", \"Naillat\", \"Zack Snyder's Justice League\", \"Liste d'\\u0153uvres d'art victimes de la mobilisation des m\\u00e9taux non ferreux\", \"Irene Delroy\", \"Utilisateur:AdamV57/Brouillon4\", \"Electra Heart\"], \"xaxis\": \"x\", \"y\": [11, 11, 10, 10, 9, 9, 9, 9, 7, 7, 7], \"yaxis\": \"y\"}, {\"hoverlabel\": {\"namelength\": 0}, \"hovertemplate\": \"language=de<br>title=%{x}<br>qty=%{marker.size}\", \"legendgroup\": \"language=de\", \"marker\": {\"color\": \"#00cc96\", \"size\": [42, 19, 13, 12, 12, 12, 11, 11, 10, 9, 9], \"sizemode\": \"area\", \"sizeref\": 0.1725, \"symbol\": \"circle\"}, \"mode\": \"markers\", \"name\": \"language=de\", \"showlegend\": true, \"type\": \"scatter\", \"x\": [\"Wikipedia:L\\u00f6schkandidaten/21. Januar 2021\", \"Namibia-Dollar\", \"Benutzer:Mathecrat/Temp\", \"Lewis Capaldi\", \"Diskussion:Karl Astel\", \"Benutzer:Cholo Aleman/NDB Register GHIJ nur rote neu\", \"Wikipedia:Sperrpr\\u00fcfung\", \"Villa Hochschild\", \"August Gladisch\", \"Ursula Haeusgen\", \"Hans Joachim Therstappen\"], \"xaxis\": \"x\", \"y\": [42, 19, 13, 12, 12, 12, 11, 11, 10, 9, 9], \"yaxis\": \"y\"}, {\"hoverlabel\": {\"namelength\": 0}, \"hovertemplate\": \"language=ur<br>title=%{x}<br>qty=%{marker.size}\", \"legendgroup\": \"language=ur\", \"marker\": {\"color\": \"#ab63fa\", \"size\": [52, 8, 2, 2, 2, 2, 2, 2, 2, 2, 2], \"sizemode\": \"area\", \"sizeref\": 0.1725, \"symbol\": \"circle\"}, \"mode\": \"markers\", \"name\": \"language=ur\", \"showlegend\": true, \"type\": \"scatter\", \"x\": [\"\\u0635\\u0627\\u0631\\u0641:Cyberbot I/Run/Adminstats\", \"\\u0645\\u062d\\u0645\\u062f \\u0648\\u0635\\u06cc \\u0627\\u0644\\u0644\\u06c1 \\u062d\\u0633\\u06cc\\u0646\\u06cc\", \"694\\u06be\", \"692\\u06be\", \"691\\u06be\", \"690\\u06be\", \"689\\u06be\", \"688\\u06be\", \"687\\u06be\", \"686\\u06be\", \"685\\u06be\"], \"xaxis\": \"x\", \"y\": [52, 8, 2, 2, 2, 2, 2, 2, 2, 2, 2], \"yaxis\": \"y\"}, {\"hoverlabel\": {\"namelength\": 0}, \"hovertemplate\": \"language=ru<br>title=%{x}<br>qty=%{marker.size}\", \"legendgroup\": \"language=ru\", \"marker\": {\"color\": \"#FFA15A\", \"size\": [25, 20, 18, 13, 12, 10, 9, 8, 8, 8, 7], \"sizemode\": \"area\", \"sizeref\": 0.1725, \"symbol\": \"circle\"}, \"mode\": \"markers\", \"name\": \"language=ru\", \"showlegend\": true, \"type\": \"scatter\", \"x\": [\"\\u0420\\u0430\\u0434\\u0438\\u043e Maximum\", \"\\u0414\\u043e\\u043b\\u043b\\u0430\\u0440 \\u041d\\u0430\\u043c\\u0438\\u0431\\u0438\\u0438\", \"\\u0423\\u0447\\u0430\\u0441\\u0442\\u043d\\u0438\\u043a:Archivarius1983/\\u0421\\u0435\\u043b\\u044c\\u0441\\u043a\\u0438\\u0435 \\u043e\\u043a\\u0440\\u0443\\u0433\\u0430 \\u041c\\u043e\\u0441\\u043a\\u043e\\u0432\\u0441\\u043a\\u043e\\u0439 \\u043e\\u0431\\u043b\\u0430\\u0441\\u0442\\u0438\", \"\\u0411\\u043e\\u043a\\u0438\\u0439, \\u0413\\u043b\\u0435\\u0431 \\u0418\\u0432\\u0430\\u043d\\u043e\\u0432\\u0438\\u0447\", \"\\u0421\\u0435\\u0440\\u0435\\u0434\\u043d\\u044f\\u043a\", \"\\u0414\\u043e\\u043c \\u041f\\u043b\\u0443\\u043c\\u0431\\u0443\\u0448\\u0430\", \"277-\\u044f \\u0448\\u0442\\u0443\\u0440\\u043c\\u043e\\u0432\\u0430\\u044f \\u0430\\u0432\\u0438\\u0430\\u0446\\u0438\\u043e\\u043d\\u043d\\u0430\\u044f \\u0434\\u0438\\u0432\\u0438\\u0437\\u0438\\u044f\", \"\\u0412\\u0438\\u043a\\u0438\\u043f\\u0435\\u0434\\u0438\\u044f:\\u0417\\u0430\\u043f\\u0440\\u043e\\u0441\\u044b \\u043a \\u0430\\u0434\\u043c\\u0438\\u043d\\u0438\\u0441\\u0442\\u0440\\u0430\\u0442\\u043e\\u0440\\u0430\\u043c/\\u0411\\u044b\\u0441\\u0442\\u0440\\u044b\\u0435\", \"\\u041d\\u0430\\u0432\\u0430\\u043b\\u044c\\u043d\\u0430\\u044f, \\u042e\\u043b\\u0438\\u044f \\u0411\\u043e\\u0440\\u0438\\u0441\\u043e\\u0432\\u043d\\u0430\", \"\\u0423\\u0447\\u0430\\u0441\\u0442\\u043d\\u0438\\u043a:HFoxii/\\u0414\\u0438\\u043d\\u043e\\u0437\\u0430\\u0432\\u0440\\u044b\", \"\\u041a\\u0443\\u0432\\u0430\\u043b\\u0434\\u0430 (\\u0433\\u0440\\u0443\\u043f\\u043f\\u0430)\"], \"xaxis\": \"x\", \"y\": [25, 20, 18, 13, 12, 10, 9, 8, 8, 8, 7], \"yaxis\": \"y\"}, {\"hoverlabel\": {\"namelength\": 0}, \"hovertemplate\": \"language=arz<br>title=%{x}<br>qty=%{marker.size}\", \"legendgroup\": \"language=arz\", \"marker\": {\"color\": \"#19d3f3\", \"size\": [3, 2, 2, 2, 1, 1, 1, 1, 1, 1, 1], \"sizemode\": \"area\", \"sizeref\": 0.1725, \"symbol\": \"circle\"}, \"mode\": \"markers\", \"name\": \"language=arz\", \"showlegend\": true, \"type\": \"scatter\", \"x\": [\"\\u062a\\u064a\\u0631\\u064a\\u0632\\u0627 \\u0645\\u0627\\u0649\", \"\\u0628\\u062d\\u064a\\u0631\\u0647 \\u0644\\u0627\\u0643 \\u0631\\u064a\\u062a\\u0634\\u064a\\u0631 (\\u0643\\u0646\\u062f\\u0627)\", \"\\u0686\\u0648\\u0631\\u0686 \\u0628\\u0631\\u0627\\u0648\\u0646\", \"\\u0628\\u062d\\u064a\\u0631\\u0647 \\u0644\\u0627\\u0643 \\u067e\\u0627\\u062a\\u064a\\u0633 \\u0628\\u0644\\u0627\\u0646\\u062a\\u0634\\u064a\\u0633\", \"\\u0628\\u062d\\u064a\\u0631\\u0647 \\u0644\\u0627\\u0643 \\u062f\\u0627\\u0645\\u0627\\u0631\", \"\\u0628\\u062d\\u064a\\u0631\\u0647 \\u0644\\u0627\\u0643 \\u062f\\u0627\\u0645\\u0627\\u0631\\u064a\\u0648\\u0646\", \"\\u0628\\u062d\\u064a\\u0631\\u0647 \\u0644\\u0627\\u0643 \\u062f\\u0627\\u0645\\u0627\\u0633\", \"\\u0628\\u062d\\u064a\\u0631\\u0647 \\u0644\\u0627\\u0643 \\u062f\\u0627\\u0645\\u0627\\u0646\", \"\\u0628\\u062d\\u064a\\u0631\\u0647 \\u0644\\u0627\\u0643 \\u062f\\u0627\\u0645\\u0631\", \"\\u0628\\u062d\\u064a\\u0631\\u0647 \\u0644\\u0627\\u0643 \\u0631\\u064a\\u0627\\u0644 (\\u0643\\u0646\\u062f\\u0627)\", \"\\u0628\\u062d\\u064a\\u0631\\u0647 \\u0644\\u0627\\u0643 \\u0631\\u064a\\u0627\\u0644 \\u0628\\u064a\\u0633\"], \"xaxis\": \"x\", \"y\": [3, 2, 2, 2, 1, 1, 1, 1, 1, 1, 1], \"yaxis\": \"y\"}, {\"hoverlabel\": {\"namelength\": 0}, \"hovertemplate\": \"language=it<br>title=%{x}<br>qty=%{marker.size}\", \"legendgroup\": \"language=it\", \"marker\": {\"color\": \"#FF6692\", \"size\": [14, 13, 11, 10, 10, 9, 9, 8, 8, 8, 8], \"sizemode\": \"area\", \"sizeref\": 0.1725, \"symbol\": \"circle\"}, \"mode\": \"markers\", \"name\": \"language=it\", \"showlegend\": true, \"type\": \"scatter\", \"x\": [\"Statistiche dei Grandi Giri\", \"Nathalie Delon\", \"Thomas Kammerlander\", \"Toritto\", \"DayDreamer - Le ali del sogno\", \"Voltaire\", \"Utente:Willimucci/Sandbox\", \"Classe Vesuvio\", \"6 aprile\", \"Wikipedia:Pagine da cancellare/Conta/2021 gennaio 19\", \"Governo Conte II\"], \"xaxis\": \"x\", \"y\": [14, 13, 11, 10, 10, 9, 9, 8, 8, 8, 8], \"yaxis\": \"y\"}, {\"hoverlabel\": {\"namelength\": 0}, \"hovertemplate\": \"language=es<br>title=%{x}<br>qty=%{marker.size}\", \"legendgroup\": \"language=es\", \"marker\": {\"color\": \"#B6E880\", \"size\": [17, 13, 11, 10, 10, 10, 9, 9, 8, 8, 8], \"sizemode\": \"area\", \"sizeref\": 0.1725, \"symbol\": \"circle\"}, \"mode\": \"markers\", \"name\": \"language=es\", \"showlegend\": true, \"type\": \"scatter\", \"x\": [\"Anexo:Candidatos para las elecciones legislativas de Ecuador de 2021\", \"Scop (poeta)\", \"Septuaginta\", \"Francis Ford Coppola\", \"Sensibilidad qu\\u00edmica m\\u00faltiple\", \"F\\u00edsica\", \"Un paso adelante\", \"Armada del Antiguo Egipto\", \"Anselmo Gonz\\u00e1lez del Valle\", \"Anexo:Episodios de Un paso adelante\", \"Jap\\u00f3n\"], \"xaxis\": \"x\", \"y\": [17, 13, 11, 10, 10, 10, 9, 9, 8, 8, 8], \"yaxis\": \"y\"}, {\"hoverlabel\": {\"namelength\": 0}, \"hovertemplate\": \"language=lt<br>title=%{x}<br>qty=%{marker.size}\", \"legendgroup\": \"language=lt\", \"marker\": {\"color\": \"#FF97FF\", \"size\": [5, 3, 2, 2, 2, 2, 2, 1, 1, 1, 1], \"sizemode\": \"area\", \"sizeref\": 0.1725, \"symbol\": \"circle\"}, \"mode\": \"markers\", \"name\": \"language=lt\", \"showlegend\": true, \"type\": \"scatter\", \"x\": [\"Aviacijos dalis\", \"Andrius Sniadeckis\", \"Danguol\\u0117 Juodikaityt\\u0117\", \"Kolonija (biologija)\", \"Kataloni\\u0161kasis pasaulio \\u017eem\\u0117lapis\", \"Gyvakarai\", \"Irkiniai (Tel\\u0161iai)\", \"I\\u0161land\\u017eiai (Vilkavi\\u0161kis)\", \"Ivoni\\u0161k\\u0117s (Vilnius)\", \"Jaci\\u0161k\\u0117s\", \"Jacionys\"], \"xaxis\": \"x\", \"y\": [5, 3, 2, 2, 2, 2, 2, 1, 1, 1, 1], \"yaxis\": \"y\"}, {\"hoverlabel\": {\"namelength\": 0}, \"hovertemplate\": \"language=zh<br>title=%{x}<br>qty=%{marker.size}\", \"legendgroup\": \"language=zh\", \"marker\": {\"color\": \"#FECB52\", \"size\": [9, 8, 7, 6, 6, 6, 6, 5, 5, 4, 4], \"sizemode\": \"area\", \"sizeref\": 0.1725, \"symbol\": \"circle\"}, \"mode\": \"markers\", \"name\": \"language=zh\", \"showlegend\": true, \"type\": \"scatter\", \"x\": [\"Wikipedia:\\u65b0\\u6761\\u76ee\\u63a8\\u8350/\\u5019\\u9009\", \"ViuTV 2021\", \"\\u4e9e\\u62c9\\u4f2f\\u8df3\\u821e\\u5973\\u90ce\", \"TPSO \\u53f0\\u5317\\u611b\\u6a02\\u4ea4\\u97ff\\u6a02\\u5718\", \"Wikipedia:\\u65b0\\u6761\\u76ee\\u63a8\\u8350/\\u5019\\u9009/topic list\", \"\\u5218\\u4f1f (1957\\u5e7410\\u6708)\", \"\\u6613\\u5b89\\u97f3\\u6a02\\u793e\", \"2021\\u5e741\\u6708\\u901d\\u4e16\\u4eba\\u7269\\u5217\\u8868\", \"CRAVITY\", \"Wikipedia:\\u9801\\u9762\\u5b58\\u5ee2\\u8a0e\\u8ad6/\\u8a18\\u9304/2021/01/15\", \"\\u70ae\\u4ed4\\u8072\"], \"xaxis\": \"x\", \"y\": [9, 8, 7, 6, 6, 6, 6, 5, 5, 4, 4], \"yaxis\": \"y\"}],\n",
              "                        {\"height\": 1200, \"legend\": {\"itemsizing\": \"constant\", \"tracegroupgap\": 0}, \"margin\": {\"t\": 60}, \"template\": {\"data\": {\"bar\": [{\"error_x\": {\"color\": \"#2a3f5f\"}, \"error_y\": {\"color\": \"#2a3f5f\"}, \"marker\": {\"line\": {\"color\": \"#E5ECF6\", \"width\": 0.5}}, \"type\": \"bar\"}], \"barpolar\": [{\"marker\": {\"line\": {\"color\": \"#E5ECF6\", \"width\": 0.5}}, \"type\": \"barpolar\"}], \"carpet\": [{\"aaxis\": {\"endlinecolor\": \"#2a3f5f\", \"gridcolor\": \"white\", \"linecolor\": \"white\", \"minorgridcolor\": \"white\", \"startlinecolor\": \"#2a3f5f\"}, \"baxis\": {\"endlinecolor\": \"#2a3f5f\", \"gridcolor\": \"white\", \"linecolor\": \"white\", \"minorgridcolor\": \"white\", \"startlinecolor\": \"#2a3f5f\"}, \"type\": \"carpet\"}], \"choropleth\": [{\"colorbar\": {\"outlinewidth\": 0, \"ticks\": \"\"}, \"type\": \"choropleth\"}], \"contour\": [{\"colorbar\": {\"outlinewidth\": 0, \"ticks\": \"\"}, \"colorscale\": [[0.0, \"#0d0887\"], [0.1111111111111111, \"#46039f\"], [0.2222222222222222, \"#7201a8\"], [0.3333333333333333, \"#9c179e\"], [0.4444444444444444, \"#bd3786\"], [0.5555555555555556, \"#d8576b\"], [0.6666666666666666, \"#ed7953\"], [0.7777777777777778, \"#fb9f3a\"], [0.8888888888888888, \"#fdca26\"], [1.0, \"#f0f921\"]], \"type\": \"contour\"}], \"contourcarpet\": [{\"colorbar\": {\"outlinewidth\": 0, \"ticks\": \"\"}, \"type\": \"contourcarpet\"}], \"heatmap\": [{\"colorbar\": {\"outlinewidth\": 0, \"ticks\": \"\"}, \"colorscale\": [[0.0, \"#0d0887\"], [0.1111111111111111, \"#46039f\"], [0.2222222222222222, \"#7201a8\"], [0.3333333333333333, \"#9c179e\"], [0.4444444444444444, \"#bd3786\"], [0.5555555555555556, \"#d8576b\"], [0.6666666666666666, \"#ed7953\"], [0.7777777777777778, \"#fb9f3a\"], [0.8888888888888888, \"#fdca26\"], [1.0, \"#f0f921\"]], \"type\": \"heatmap\"}], \"heatmapgl\": [{\"colorbar\": {\"outlinewidth\": 0, \"ticks\": \"\"}, \"colorscale\": [[0.0, \"#0d0887\"], [0.1111111111111111, \"#46039f\"], [0.2222222222222222, \"#7201a8\"], [0.3333333333333333, \"#9c179e\"], [0.4444444444444444, \"#bd3786\"], [0.5555555555555556, \"#d8576b\"], [0.6666666666666666, \"#ed7953\"], [0.7777777777777778, \"#fb9f3a\"], [0.8888888888888888, \"#fdca26\"], [1.0, \"#f0f921\"]], \"type\": \"heatmapgl\"}], \"histogram\": [{\"marker\": {\"colorbar\": {\"outlinewidth\": 0, \"ticks\": \"\"}}, \"type\": \"histogram\"}], \"histogram2d\": [{\"colorbar\": {\"outlinewidth\": 0, \"ticks\": \"\"}, \"colorscale\": [[0.0, \"#0d0887\"], [0.1111111111111111, \"#46039f\"], [0.2222222222222222, \"#7201a8\"], [0.3333333333333333, \"#9c179e\"], [0.4444444444444444, \"#bd3786\"], [0.5555555555555556, \"#d8576b\"], [0.6666666666666666, \"#ed7953\"], [0.7777777777777778, \"#fb9f3a\"], [0.8888888888888888, \"#fdca26\"], [1.0, \"#f0f921\"]], \"type\": \"histogram2d\"}], \"histogram2dcontour\": [{\"colorbar\": {\"outlinewidth\": 0, \"ticks\": \"\"}, \"colorscale\": [[0.0, \"#0d0887\"], [0.1111111111111111, \"#46039f\"], [0.2222222222222222, \"#7201a8\"], [0.3333333333333333, \"#9c179e\"], [0.4444444444444444, \"#bd3786\"], [0.5555555555555556, \"#d8576b\"], [0.6666666666666666, \"#ed7953\"], [0.7777777777777778, \"#fb9f3a\"], [0.8888888888888888, \"#fdca26\"], [1.0, \"#f0f921\"]], \"type\": \"histogram2dcontour\"}], \"mesh3d\": [{\"colorbar\": {\"outlinewidth\": 0, \"ticks\": \"\"}, \"type\": \"mesh3d\"}], \"parcoords\": [{\"line\": {\"colorbar\": {\"outlinewidth\": 0, \"ticks\": \"\"}}, \"type\": \"parcoords\"}], \"pie\": [{\"automargin\": true, \"type\": \"pie\"}], \"scatter\": [{\"marker\": {\"colorbar\": {\"outlinewidth\": 0, \"ticks\": \"\"}}, \"type\": \"scatter\"}], \"scatter3d\": [{\"line\": {\"colorbar\": {\"outlinewidth\": 0, \"ticks\": \"\"}}, \"marker\": {\"colorbar\": {\"outlinewidth\": 0, \"ticks\": \"\"}}, \"type\": \"scatter3d\"}], \"scattercarpet\": [{\"marker\": {\"colorbar\": {\"outlinewidth\": 0, \"ticks\": \"\"}}, \"type\": \"scattercarpet\"}], \"scattergeo\": [{\"marker\": {\"colorbar\": {\"outlinewidth\": 0, \"ticks\": \"\"}}, \"type\": \"scattergeo\"}], \"scattergl\": [{\"marker\": {\"colorbar\": {\"outlinewidth\": 0, \"ticks\": \"\"}}, \"type\": \"scattergl\"}], \"scattermapbox\": [{\"marker\": {\"colorbar\": {\"outlinewidth\": 0, \"ticks\": \"\"}}, \"type\": \"scattermapbox\"}], \"scatterpolar\": [{\"marker\": {\"colorbar\": {\"outlinewidth\": 0, \"ticks\": \"\"}}, \"type\": \"scatterpolar\"}], \"scatterpolargl\": [{\"marker\": {\"colorbar\": {\"outlinewidth\": 0, \"ticks\": \"\"}}, \"type\": \"scatterpolargl\"}], \"scatterternary\": [{\"marker\": {\"colorbar\": {\"outlinewidth\": 0, \"ticks\": \"\"}}, \"type\": \"scatterternary\"}], \"surface\": [{\"colorbar\": {\"outlinewidth\": 0, \"ticks\": \"\"}, \"colorscale\": [[0.0, \"#0d0887\"], [0.1111111111111111, \"#46039f\"], [0.2222222222222222, \"#7201a8\"], [0.3333333333333333, \"#9c179e\"], [0.4444444444444444, \"#bd3786\"], [0.5555555555555556, \"#d8576b\"], [0.6666666666666666, \"#ed7953\"], [0.7777777777777778, \"#fb9f3a\"], [0.8888888888888888, \"#fdca26\"], [1.0, \"#f0f921\"]], \"type\": \"surface\"}], \"table\": [{\"cells\": {\"fill\": {\"color\": \"#EBF0F8\"}, \"line\": {\"color\": \"white\"}}, \"header\": {\"fill\": {\"color\": \"#C8D4E3\"}, \"line\": {\"color\": \"white\"}}, \"type\": \"table\"}]}, \"layout\": {\"annotationdefaults\": {\"arrowcolor\": \"#2a3f5f\", \"arrowhead\": 0, \"arrowwidth\": 1}, \"coloraxis\": {\"colorbar\": {\"outlinewidth\": 0, \"ticks\": \"\"}}, \"colorscale\": {\"diverging\": [[0, \"#8e0152\"], [0.1, \"#c51b7d\"], [0.2, \"#de77ae\"], [0.3, \"#f1b6da\"], [0.4, \"#fde0ef\"], [0.5, \"#f7f7f7\"], [0.6, \"#e6f5d0\"], [0.7, \"#b8e186\"], [0.8, \"#7fbc41\"], [0.9, \"#4d9221\"], [1, \"#276419\"]], \"sequential\": [[0.0, \"#0d0887\"], [0.1111111111111111, \"#46039f\"], [0.2222222222222222, \"#7201a8\"], [0.3333333333333333, \"#9c179e\"], [0.4444444444444444, \"#bd3786\"], [0.5555555555555556, \"#d8576b\"], [0.6666666666666666, \"#ed7953\"], [0.7777777777777778, \"#fb9f3a\"], [0.8888888888888888, \"#fdca26\"], [1.0, \"#f0f921\"]], \"sequentialminus\": [[0.0, \"#0d0887\"], [0.1111111111111111, \"#46039f\"], [0.2222222222222222, \"#7201a8\"], [0.3333333333333333, \"#9c179e\"], [0.4444444444444444, \"#bd3786\"], [0.5555555555555556, \"#d8576b\"], [0.6666666666666666, \"#ed7953\"], [0.7777777777777778, \"#fb9f3a\"], [0.8888888888888888, \"#fdca26\"], [1.0, \"#f0f921\"]]}, \"colorway\": [\"#636efa\", \"#EF553B\", \"#00cc96\", \"#ab63fa\", \"#FFA15A\", \"#19d3f3\", \"#FF6692\", \"#B6E880\", \"#FF97FF\", \"#FECB52\"], \"font\": {\"color\": \"#2a3f5f\"}, \"geo\": {\"bgcolor\": \"white\", \"lakecolor\": \"white\", \"landcolor\": \"#E5ECF6\", \"showlakes\": true, \"showland\": true, \"subunitcolor\": \"white\"}, \"hoverlabel\": {\"align\": \"left\"}, \"hovermode\": \"closest\", \"mapbox\": {\"style\": \"light\"}, \"paper_bgcolor\": \"white\", \"plot_bgcolor\": \"#E5ECF6\", \"polar\": {\"angularaxis\": {\"gridcolor\": \"white\", \"linecolor\": \"white\", \"ticks\": \"\"}, \"bgcolor\": \"#E5ECF6\", \"radialaxis\": {\"gridcolor\": \"white\", \"linecolor\": \"white\", \"ticks\": \"\"}}, \"scene\": {\"xaxis\": {\"backgroundcolor\": \"#E5ECF6\", \"gridcolor\": \"white\", \"gridwidth\": 2, \"linecolor\": \"white\", \"showbackground\": true, \"ticks\": \"\", \"zerolinecolor\": \"white\"}, \"yaxis\": {\"backgroundcolor\": \"#E5ECF6\", \"gridcolor\": \"white\", \"gridwidth\": 2, \"linecolor\": \"white\", \"showbackground\": true, \"ticks\": \"\", \"zerolinecolor\": \"white\"}, \"zaxis\": {\"backgroundcolor\": \"#E5ECF6\", \"gridcolor\": \"white\", \"gridwidth\": 2, \"linecolor\": \"white\", \"showbackground\": true, \"ticks\": \"\", \"zerolinecolor\": \"white\"}}, \"shapedefaults\": {\"line\": {\"color\": \"#2a3f5f\"}}, \"ternary\": {\"aaxis\": {\"gridcolor\": \"white\", \"linecolor\": \"white\", \"ticks\": \"\"}, \"baxis\": {\"gridcolor\": \"white\", \"linecolor\": \"white\", \"ticks\": \"\"}, \"bgcolor\": \"#E5ECF6\", \"caxis\": {\"gridcolor\": \"white\", \"linecolor\": \"white\", \"ticks\": \"\"}}, \"title\": {\"x\": 0.05}, \"xaxis\": {\"automargin\": true, \"gridcolor\": \"white\", \"linecolor\": \"white\", \"ticks\": \"\", \"title\": {\"standoff\": 15}, \"zerolinecolor\": \"white\", \"zerolinewidth\": 2}, \"yaxis\": {\"automargin\": true, \"gridcolor\": \"white\", \"linecolor\": \"white\", \"ticks\": \"\", \"title\": {\"standoff\": 15}, \"zerolinecolor\": \"white\", \"zerolinewidth\": 2}}}, \"title\": {\"text\": \"Common Wikipedia Title between Languages\"}, \"width\": 1700, \"xaxis\": {\"anchor\": \"y\", \"domain\": [0.0, 1.0], \"tickangle\": -90, \"title\": {\"text\": \"Wikipedia Title\"}}, \"yaxis\": {\"anchor\": \"x\", \"domain\": [0.0, 1.0], \"title\": {\"text\": \"Edits_qty\"}}},\n",
              "                        {\"responsive\": true}\n",
              "                    ).then(function(){\n",
              "                            \n",
              "var gd = document.getElementById('0ff93044-b944-41ce-ad8a-bec264eaeca8');\n",
              "var x = new MutationObserver(function (mutations, observer) {{\n",
              "        var display = window.getComputedStyle(gd).display;\n",
              "        if (!display || display === 'none') {{\n",
              "            console.log([gd, 'removed!']);\n",
              "            Plotly.purge(gd);\n",
              "            observer.disconnect();\n",
              "        }}\n",
              "}});\n",
              "\n",
              "// Listen for the removal of the full notebook cells\n",
              "var notebookContainer = gd.closest('#notebook-container');\n",
              "if (notebookContainer) {{\n",
              "    x.observe(notebookContainer, {childList: true});\n",
              "}}\n",
              "\n",
              "// Listen for the clearing of the current output cell\n",
              "var outputEl = gd.closest('.output');\n",
              "if (outputEl) {{\n",
              "    x.observe(outputEl, {childList: true});\n",
              "}}\n",
              "\n",
              "                        })\n",
              "                };\n",
              "                \n",
              "            </script>\n",
              "        </div>\n",
              "</body>\n",
              "</html>"
            ]
          },
          "metadata": {
            "tags": []
          }
        }
      ]
    }
  ]
}